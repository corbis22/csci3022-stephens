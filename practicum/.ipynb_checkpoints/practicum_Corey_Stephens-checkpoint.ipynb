{
 "cells": [
  {
   "cell_type": "markdown",
   "metadata": {},
   "source": [
    "# CSCI 3022: Intro to Data Science - Spring 2018 Practicum \n",
    "***\n",
    "- <span style=\"color:blue\">Version 1.01 - clarified problem 1B (in blue text).</span>\n",
    "- <span style=\"color:green\">Version 1.02 - clarified problem 1D (in green text).</span>\n",
    "- <span style=\"color:red\">Version 1.03 - clarified problem 2D (in red text).</span>\n",
    "\n",
    "\n",
    "This practicum is due on Moodle by **11:59pm on Wednesday May 2nd**. Your solutions to theoretical questions should be done in Markdown/MathJax directly below the associated question.  Your solutions to computational questions should include any specified Python code and results as well as written commentary on your conclusions.  \n",
    "\n",
    "**Here are the rules:** \n",
    "\n",
    "1. All work, code and analysis, must be your own. \n",
    "1. You may use your course notes, posted lecture slides, in-class notebooks, and homework solutions as resources.  You may also search online for answers to general knowledge questions like the form of a probability distribution function or how to perform a particular operation in Python/Pandas. \n",
    "2. You may **NOT** post to message boards or other online resources asking for help. \n",
    "3. You may **NOT** collaborate with classmates or anyone else.  \n",
    "\n",
    "Violation of the above rules will result in an **F** in the course and a trip to Honor Council. \n",
    "\n",
    "***\n",
    "\n",
    "**By writing your name below you agree to abide by the rules given above:**\n",
    "\n",
    "**Name**: Corey Stephens\n",
    "\n",
    "***\n",
    "\n",
    "\n",
    "**NOTES**: \n",
    "\n",
    "- You may not use late days on the practicum nor can you drop your practicum grade. \n",
    "- If you have a question for Chris and Dan, post it as a **PRIVATE** message on Piazza.  If we decide that the question is appropriate for the entire class we will make the post public (and anonymous). \n",
    "- Do **NOT** load or use any Python packages that are not available in Anaconda 3.6. \n",
    "- Some problems with code may be autograded.  If we provide a function API **do not** change it.  If we do not provide a function API then you're free to structure your code however you like. \n",
    "- Submit only this Jupyter notebook to Moodle.  Do not compress it using tar, rar, zip, etc. "
   ]
  },
  {
   "cell_type": "markdown",
   "metadata": {},
   "source": [
    "### [35 points] Problem 1: Malaria Parasite Problems\n",
    "***\n",
    "\n",
    "Malaria parasites are very good at evading the immune system. Each parasite's genome has 60 different versions of a key immune evasion gene, so that when you get malaria, instead of simply getting sick and then getting better, the parasite switches among its 60 genes, sequentially, thereby changing its camouflage over and over and over. This is one of the reasons that malaria is still a huge problem today: you never develop a really strong immunity to the overall parasite population, due to its huge genetic diversity. You can read more about this [here](https://www.quantamagazine.org/networks-untangle-malarias-deadly-shuffle-20151015/) if you like. \n",
    "\n",
    "Here we are concerned with helping out lab scientists in desigining and evaluating their genetic sequencing experiments which target _var_ genes. The setup is as follows:\n",
    "\n",
    "* Each parasite has a repertoire of 60 different \"var\" genes.\n",
    "* A process called PCR is applied to a parasite genome. If PCR is successful, we get the sequence of one of the var genes, drawn at random from the repertoire of 60. However, PCR might not be successful at all, in which case we get nothing. Let the probability that a PCR attempt fails be equal to $f$. \n",
    "* In other words, with probability $f$, PCR yields nothing. With probability $1-f$, PCR produces a var gene sequence, and this sequence is chosen uniformly at random from among the total 60 var genes. \n",
    "* Importantly, PCR _does not deplete the DNA in the sample_, meaning that if one repeats the PCR process, the stochastic process described above takes place again, independently of the outcome of the previous PCR.\n",
    "* In other words, a repeated PCR might fail, or it might succeed. And, if it succeeds, the same gene might be sequenced _or_ a different one of the 60 genes might be sequenced.\n",
    "* To be clear: repeating PCR might sample a previously sampled gene, or it might sample another one of the 60. Then again, any individual PCR fails with probability $f$."
   ]
  },
  {
   "cell_type": "markdown",
   "metadata": {},
   "source": [
    "**Part A**: Suppose you have the budget to do $r$ PCR replicates (i.e. $r$ indepedent PCR trials). Let $k$ be the number of PCRs that are successful. Since $k$ is a random variable, what is the name of its distribution? What is the expected value of $k$, and how does it depend on $r$? What is the standard deviation of $k$?"
   ]
  },
  {
   "cell_type": "markdown",
   "metadata": {},
   "source": [
    "Random variable $k$ follows a Bernoulli distribution with probability $(1-f)$ of success. The expected value $E[k] = (1-f)r$, which is simply the probability of each individual trial succeeding multiplied by the number of trials. The standard deviation of $k$ is $\\sigma = \\sqrt{E[k^2] - E[k]^2}$"
   ]
  },
  {
   "cell_type": "markdown",
   "metadata": {},
   "source": [
    "**Part B**: Write a function called `draw_pcr_samples(r,f,var_repertoire)` that makes $r$ repeated attemps at PCR, each with independent probability of failure $f$. This code must return a list of the successfully sequenced var genes. For your convenience, please use the list `var_repertoire` below as the 60 possible var genes that are being sampled. <span style=\"color:blue\">When written correctly, the output of this code will change each time, depending on the success or failure of each PCR, and which var gene is chosen. To examine the output of your function, please repeatedly call it under three different conditions, and produce the following histograms: </span>\n",
    "* <span style=\"color:blue\">distribution of the</span> number of unique var genes sampled for $r=48$ and $f=0$. Make this histogram `blue`.\n",
    "* <span style=\"color:blue\">distribution of the</span> number of unique var genes sampled for $r=60$ and $f=0.2$. Make this histogram `green`.\n",
    "* <span style=\"color:blue\">distribution of the</span> number of unique var genes sampled for $r=120$ and $f=0.6$. Make this histogram `gold`."
   ]
  },
  {
   "cell_type": "code",
   "execution_count": 1,
   "metadata": {
    "collapsed": true
   },
   "outputs": [],
   "source": [
    "import numpy as np\n",
    "import matplotlib.pylab as plt\n",
    "%matplotlib inline"
   ]
  },
  {
   "cell_type": "code",
   "execution_count": 474,
   "metadata": {
    "collapsed": true
   },
   "outputs": [],
   "source": [
    "var_repetoire = ['a','b','c','d','e','f','g','h','i','j','k','l','m','n','o','p','q','r','s','t','u','v','w','x','y','z','A','B','C','D','E','F','G','H','I','J','K','L','M','N','O','P','Q','R','S','T','U','V','W','X','Y','Z','π','ø','ß','∆','ç','Ω','µ','∞']"
   ]
  },
  {
   "cell_type": "code",
   "execution_count": 566,
   "metadata": {
    "collapsed": true
   },
   "outputs": [],
   "source": [
    "def draw_pcr_samples(r, f, var_repetoire):\n",
    "    # Make sure r is an int for the range() function\n",
    "    r = int(r)\n",
    "    r_samples = []\n",
    "    # Gather r samples\n",
    "    for ii in range(r):\n",
    "        # Fail with probability f\n",
    "        if np.random.rand() >= f:\n",
    "            # If not a fail, uniformly sample from the genes\n",
    "            v = np.random.choice(var_repetoire)\n",
    "            r_samples.append(v)\n",
    "    return r_samples"
   ]
  },
  {
   "cell_type": "code",
   "execution_count": 688,
   "metadata": {},
   "outputs": [
    {
     "name": "stdout",
     "output_type": "stream",
     "text": [
      "\n"
     ]
    },
    {
     "data": {
      "image/png": "[encoded data removed]",
      "text/plain": [
       "<matplotlib.figure.Figure at 0x1c24444fd0>"
      ]
     },
     "metadata": {},
     "output_type": "display_data"
    }
   ],
   "source": [
    "r1, r2, r3 = [], [], []\n",
    "num_samples = 1000\n",
    "# Repeatedly draw samples to get a large number of data points\n",
    "for ii in range(int(num_samples)):\n",
    "    r1 += draw_pcr_samples(48, 0, var_repetoire)\n",
    "    r2 += draw_pcr_samples(60, 0.2, var_repetoire)\n",
    "    r3 += draw_pcr_samples(120, 0.6, var_repetoire)\n",
    "    \n",
    "# Create frequency tables so that we can plot on a bar graph (histogram)\n",
    "fr1 = [r1.count(i) for i in var_repetoire]\n",
    "fr2 = [r2.count(i) for i in var_repetoire]\n",
    "fr3 = [r3.count(i) for i in var_repetoire]\n",
    " \n",
    "# Create the x values for plt's bar function\n",
    "x = np.arange(len(var_repetoire))\n",
    "fig, ax = plt.subplots(nrows=3, ncols=1, figsize=(20,20))\n",
    "# Plot histograms\n",
    "ax[0].bar(x, fr1, width=1.0, tick_label=var_repetoire, color=\"blue\")\n",
    "ax[1].bar(x, fr2, width=1.0, tick_label=var_repetoire, color=\"green\")\n",
    "ax[2].bar(x, fr3, width=1.0, tick_label=var_repetoire, color=\"gold\")\n",
    "print()"
   ]
  },
  {
   "cell_type": "markdown",
   "metadata": {},
   "source": [
    "**Part C**: Use your calculations in Part A to write down the expected number of successful PCRs, $k$, for each of the three scenarios that you made histograms for in Part B. What do you notice? Write it in MarkDown. Then, examine the 3 histograms generated in Part B, and explain the relationship, if any, between the histograms and your expected $k$ calculations. If making calculations or annotating the histograms is helpful in your explanation, feel free to do so. "
   ]
  },
  {
   "cell_type": "markdown",
   "metadata": {},
   "source": [
    "$$\\begin{align}\n",
    "E_1[k] &= (1 - 0.0) 48 = 48 \\\\\n",
    "E_2[k] &= (1 - 0.2) 60 = 48 \\\\\n",
    "E_3[k] &= (1 - 0.6) 120 = 48 \\\\\n",
    "\\end{align}$$\n",
    "\n",
    "Interestingly, all three of these combinations of parameters produce the same expected value of $k$."
   ]
  },
  {
   "cell_type": "markdown",
   "metadata": {},
   "source": [
    "**Part D**: Lab scientists use what's called a _96-well plate_ to do experiments. A [96-well-plate](https://www.amazon.com/SEOH-Microplates-Well-Non-Sterile-Microchemistry/dp/B0088AR7Y6) is an 8-by-12 grid of little wells in which indepedent experiments can be conducted. Professor Amy Ferguson is wondering whether to dedicate a whole plate ($r=96$ independent PCR replicates) or a half plate ($r=48$ independent PCR replicates) to her PCR experiment. Or, she wonders whether she should use a different $r$ altogether. Use your code to simulate and compute answers to the following, assuming $f=0.1$:\n",
    "* In expectation, how many _unique_ genes are produced for $r=48$?\n",
    "* In expectation, how many _unique_ genes are produced for $r=96$?\n",
    "* If $r$ is large, then the chance that $55$ or more <span style=\"color:green\">_unique_</span> genes are sampled will increase. Professor Ferguson needs the probability that $55$ or more <span style=\"color:green\">_unique_</span> genes are sampled to be greater than 95%. What should $r$ be? Support your answer by creating a plot of <span style=\"color:green\">$P(\\text{at-least-55-unique-sampled} \\mid r)$</span> vs $r$."
   ]
  },
  {
   "cell_type": "code",
   "execution_count": 562,
   "metadata": {
    "collapsed": true
   },
   "outputs": [],
   "source": [
    "# Simulate pcr and return the number of unique genes gathered\n",
    "def sim_pcr(r, f, var_repetoire, num_trials=1e3):\n",
    "    # Need an int for range()\n",
    "    num_trials = int(num_trials)\n",
    "    num_unique = []\n",
    "    # Conduct trials\n",
    "    for ii in range(num_trials):\n",
    "        samples = draw_pcr_samples(r, f, var_repetoire)\n",
    "        # Get the number of unique genes from the samples\n",
    "        num_unique.append(len(set(samples)))\n",
    "    return num_unique"
   ]
  },
  {
   "cell_type": "code",
   "execution_count": 563,
   "metadata": {},
   "outputs": [
    {
     "name": "stdout",
     "output_type": "stream",
     "text": [
      "Expected number of unique genes from r=48: 31.0\n"
     ]
    }
   ],
   "source": [
    "expected_unique_48 = np.mean(sim_pcr(48, 0.1, var_repetoire))\n",
    "print(\"Expected number of unique genes from r=48: {:.1f}\".format(expected_unique_48))"
   ]
  },
  {
   "cell_type": "code",
   "execution_count": 564,
   "metadata": {},
   "outputs": [
    {
     "name": "stdout",
     "output_type": "stream",
     "text": [
      "Expected number of unique genes from r=96: 45.9\n"
     ]
    }
   ],
   "source": [
    "expected_unique_96 = np.mean(sim_pcr(96, 0.1, var_repetoire))\n",
    "print(\"Expected number of unique genes from r=96: {:.1f}\".format(expected_unique_96))"
   ]
  },
  {
   "cell_type": "code",
   "execution_count": 689,
   "metadata": {},
   "outputs": [],
   "source": [
    "# Generate a linspace for the plot\n",
    "x = np.linspace(100, 300)\n",
    "y = []\n",
    "# Heads up: this for loop takes a while, consider passing a different num_samples to sim_pcr()\n",
    "for ii in x:\n",
    "    # Get samples for each r in x\n",
    "    samples = sim_pcr(ii, 0.1, var_repetoire)\n",
    "    # Compute the proportion of samples which returned at least 55 unique genes\n",
    "    p = sum(i >= 55 for i in samples) / len(samples)\n",
    "    y.append(p)"
   ]
  },
  {
   "cell_type": "code",
   "execution_count": 690,
   "metadata": {},
   "outputs": [
    {
     "name": "stdout",
     "output_type": "stream",
     "text": [
      "Number of samples for 95% chance of at least 55 genes: 202\n"
     ]
    },
    {
     "data": {
      "image/png": "[encoded data removed]",
      "text/plain": [
       "<matplotlib.figure.Figure at 0x1c24e652e8>"
      ]
     },
     "metadata": {},
     "output_type": "display_data"
    }
   ],
   "source": [
    "fig, ax = plt.subplots(figsize=(12,6))\n",
    "ax.plot(x, y)\n",
    "ax.set_title(\"Probability of Getting at least 55 Samples Genes\")\n",
    "ax.set_xlabel(\"Number of Samples\")\n",
    "ax.set_ylabel(\"Probability\")\n",
    "\n",
    "for ii in range(len(y)):\n",
    "    if (y[ii] >= 0.95):\n",
    "        print(\"Number of samples for 95% chance of at least 55 genes: {:.0f}\".format(x[ii]))\n",
    "        break"
   ]
  },
  {
   "cell_type": "markdown",
   "metadata": {},
   "source": [
    "**Part E**: Bills, bills, bills. Professory Amy Ferguson has a decision to make about her lab budget. Here are some numbers:\n",
    "\n",
    "* Each 96-well plate costs \\$5 to buy. \n",
    "* The cheap PCR reagents cost $c=$\\$0.05 per well and fail with probability $f=0.3$.\n",
    "* The expensive PCR reagents cost $c=$\\$0.10 per well and fail with probability $f=0.1$.\n",
    "* The premium PCR reagents cost $c=$\\$0.20 per well and fail with probability $f=0.05$.\n",
    "\n",
    "Amy needs at least 50 unique sequences from a particular parasite genome for her experiment to be considered a success. She also knows that this whole PCR thing is a stochastic process, so while she might get 50 unique sequences in just $r=50$ attempts, that's going to be pretty rare. Still, increasing $r$ will increase the probability of success, i.e. of getting $\\geq50$ unique sequences. \n",
    "\n",
    "Turns out, she needs to success with probability of at least 0.95. She could achieve this using the cheap reagents, the expensive reagents, or the premium reagents. Naturally, she'd need to buy more of the cheaper reagents, but... the tradeoff isn't clear. \n",
    "\n",
    "Help! Which reagents should she choose? State your answer clearly as a recommendation, and explain why you recommend that. Use figures and calculations as necessary to support your case.\n",
    "\n",
    "You may assume:\n",
    "* A 96-well plate costs \\$5 even if fewer than 96 of the wells are actually used. For example, using 97 wells costs \\$10, since it uses two plates.\n",
    "* Reagents are billed on a per-well basis, not on a per-plate basis.\n",
    "* The goal is to sample 50 or more unique sequences 95\\% of the time or greater, but for as little money as possible."
   ]
  },
  {
   "cell_type": "code",
   "execution_count": 691,
   "metadata": {
    "collapsed": true
   },
   "outputs": [],
   "source": [
    "def sim_cost(rg_cost, f, goal=50, num_trials=1e3, minr=50, maxr=200, steps=100):\n",
    "    num_trials = int(num_trials)\n",
    "    x = np.linspace(minr, maxr, steps)\n",
    "    y, c = [], []\n",
    "    for r in x:\n",
    "        samples = sim_pcr(r, f, var_repetoire, num_trials=num_samples)\n",
    "        n = len(samples)\n",
    "        p = sum(i >= goal for i in samples) / n\n",
    "        cost = r * rg_cost + 5 * np.ceil(r / 96)\n",
    "        y.append(p)\n",
    "        c.append(cost)\n",
    "    return y, c"
   ]
  },
  {
   "cell_type": "code",
   "execution_count": 702,
   "metadata": {},
   "outputs": [
    {
     "ename": "KeyboardInterrupt",
     "evalue": "",
     "output_type": "error",
     "traceback": [
      "\u001b[0;31m---------------------------------------------------------------------------\u001b[0m",
      "\u001b[0;31mKeyboardInterrupt\u001b[0m                         Traceback (most recent call last)",
      "\u001b[0;32m<ipython-input-702-98fa9677da93>\u001b[0m in \u001b[0;36m<module>\u001b[0;34m()\u001b[0m\n\u001b[1;32m      2\u001b[0m \u001b[0;34m\u001b[0m\u001b[0m\n\u001b[1;32m      3\u001b[0m \u001b[0;32mfor\u001b[0m \u001b[0mii\u001b[0m \u001b[0;32min\u001b[0m \u001b[0mrange\u001b[0m\u001b[0;34m(\u001b[0m\u001b[0mint\u001b[0m\u001b[0;34m(\u001b[0m\u001b[0;36m1e1\u001b[0m\u001b[0;34m)\u001b[0m\u001b[0;34m)\u001b[0m\u001b[0;34m:\u001b[0m\u001b[0;34m\u001b[0m\u001b[0m\n\u001b[0;32m----> 4\u001b[0;31m     \u001b[0mpc\u001b[0m\u001b[0;34m,\u001b[0m \u001b[0mcc\u001b[0m \u001b[0;34m=\u001b[0m \u001b[0msim_cost\u001b[0m\u001b[0;34m(\u001b[0m\u001b[0;36m0.05\u001b[0m\u001b[0;34m,\u001b[0m \u001b[0;36m0.3\u001b[0m\u001b[0;34m)\u001b[0m\u001b[0;34m\u001b[0m\u001b[0m\n\u001b[0m\u001b[1;32m      5\u001b[0m     \u001b[0mp_che\u001b[0m\u001b[0;34m.\u001b[0m\u001b[0mappend\u001b[0m\u001b[0;34m(\u001b[0m\u001b[0mpc\u001b[0m\u001b[0;34m)\u001b[0m\u001b[0;34m\u001b[0m\u001b[0m\n\u001b[1;32m      6\u001b[0m     \u001b[0mc_che\u001b[0m\u001b[0;34m.\u001b[0m\u001b[0mappend\u001b[0m\u001b[0;34m(\u001b[0m\u001b[0mcc\u001b[0m\u001b[0;34m)\u001b[0m\u001b[0;34m\u001b[0m\u001b[0m\n",
      "\u001b[0;32m<ipython-input-691-8f7199dabb6f>\u001b[0m in \u001b[0;36msim_cost\u001b[0;34m(rg_cost, f, goal, num_trials, minr, maxr, steps)\u001b[0m\n\u001b[1;32m      4\u001b[0m     \u001b[0my\u001b[0m\u001b[0;34m,\u001b[0m \u001b[0mc\u001b[0m \u001b[0;34m=\u001b[0m \u001b[0;34m[\u001b[0m\u001b[0;34m]\u001b[0m\u001b[0;34m,\u001b[0m \u001b[0;34m[\u001b[0m\u001b[0;34m]\u001b[0m\u001b[0;34m\u001b[0m\u001b[0m\n\u001b[1;32m      5\u001b[0m     \u001b[0;32mfor\u001b[0m \u001b[0mr\u001b[0m \u001b[0;32min\u001b[0m \u001b[0mx\u001b[0m\u001b[0;34m:\u001b[0m\u001b[0;34m\u001b[0m\u001b[0m\n\u001b[0;32m----> 6\u001b[0;31m         \u001b[0msamples\u001b[0m \u001b[0;34m=\u001b[0m \u001b[0msim_pcr\u001b[0m\u001b[0;34m(\u001b[0m\u001b[0mr\u001b[0m\u001b[0;34m,\u001b[0m \u001b[0mf\u001b[0m\u001b[0;34m,\u001b[0m \u001b[0mvar_repetoire\u001b[0m\u001b[0;34m,\u001b[0m \u001b[0mnum_trials\u001b[0m\u001b[0;34m=\u001b[0m\u001b[0mnum_samples\u001b[0m\u001b[0;34m)\u001b[0m\u001b[0;34m\u001b[0m\u001b[0m\n\u001b[0m\u001b[1;32m      7\u001b[0m         \u001b[0mn\u001b[0m \u001b[0;34m=\u001b[0m \u001b[0mlen\u001b[0m\u001b[0;34m(\u001b[0m\u001b[0msamples\u001b[0m\u001b[0;34m)\u001b[0m\u001b[0;34m\u001b[0m\u001b[0m\n\u001b[1;32m      8\u001b[0m         \u001b[0mp\u001b[0m \u001b[0;34m=\u001b[0m \u001b[0msum\u001b[0m\u001b[0;34m(\u001b[0m\u001b[0mi\u001b[0m \u001b[0;34m>=\u001b[0m \u001b[0mgoal\u001b[0m \u001b[0;32mfor\u001b[0m \u001b[0mi\u001b[0m \u001b[0;32min\u001b[0m \u001b[0msamples\u001b[0m\u001b[0;34m)\u001b[0m \u001b[0;34m/\u001b[0m \u001b[0mn\u001b[0m\u001b[0;34m\u001b[0m\u001b[0m\n",
      "\u001b[0;32m<ipython-input-562-3da473b1834f>\u001b[0m in \u001b[0;36msim_pcr\u001b[0;34m(r, f, var_repetoire, num_trials)\u001b[0m\n\u001b[1;32m      3\u001b[0m     \u001b[0mnum_unique\u001b[0m \u001b[0;34m=\u001b[0m \u001b[0;34m[\u001b[0m\u001b[0;34m]\u001b[0m\u001b[0;34m\u001b[0m\u001b[0m\n\u001b[1;32m      4\u001b[0m     \u001b[0;32mfor\u001b[0m \u001b[0mii\u001b[0m \u001b[0;32min\u001b[0m \u001b[0mrange\u001b[0m\u001b[0;34m(\u001b[0m\u001b[0mnum_trials\u001b[0m\u001b[0;34m)\u001b[0m\u001b[0;34m:\u001b[0m\u001b[0;34m\u001b[0m\u001b[0m\n\u001b[0;32m----> 5\u001b[0;31m         \u001b[0msamples\u001b[0m \u001b[0;34m=\u001b[0m \u001b[0mdraw_pcr_samples\u001b[0m\u001b[0;34m(\u001b[0m\u001b[0mr\u001b[0m\u001b[0;34m,\u001b[0m \u001b[0mf\u001b[0m\u001b[0;34m,\u001b[0m \u001b[0mvar_repetoire\u001b[0m\u001b[0;34m)\u001b[0m\u001b[0;34m\u001b[0m\u001b[0m\n\u001b[0m\u001b[1;32m      6\u001b[0m         \u001b[0mnum_unique\u001b[0m\u001b[0;34m.\u001b[0m\u001b[0mappend\u001b[0m\u001b[0;34m(\u001b[0m\u001b[0mlen\u001b[0m\u001b[0;34m(\u001b[0m\u001b[0mset\u001b[0m\u001b[0;34m(\u001b[0m\u001b[0msamples\u001b[0m\u001b[0;34m)\u001b[0m\u001b[0;34m)\u001b[0m\u001b[0;34m)\u001b[0m\u001b[0;34m\u001b[0m\u001b[0m\n\u001b[1;32m      7\u001b[0m     \u001b[0;32mreturn\u001b[0m \u001b[0mnum_unique\u001b[0m\u001b[0;34m\u001b[0m\u001b[0m\n",
      "\u001b[0;32m<ipython-input-566-e839eba4141d>\u001b[0m in \u001b[0;36mdraw_pcr_samples\u001b[0;34m(r, f, var_repetoire)\u001b[0m\n\u001b[1;32m      4\u001b[0m     \u001b[0;32mfor\u001b[0m \u001b[0mii\u001b[0m \u001b[0;32min\u001b[0m \u001b[0mrange\u001b[0m\u001b[0;34m(\u001b[0m\u001b[0mr\u001b[0m\u001b[0;34m)\u001b[0m\u001b[0;34m:\u001b[0m\u001b[0;34m\u001b[0m\u001b[0m\n\u001b[1;32m      5\u001b[0m         \u001b[0;32mif\u001b[0m \u001b[0mnp\u001b[0m\u001b[0;34m.\u001b[0m\u001b[0mrandom\u001b[0m\u001b[0;34m.\u001b[0m\u001b[0mrand\u001b[0m\u001b[0;34m(\u001b[0m\u001b[0;34m)\u001b[0m \u001b[0;34m>=\u001b[0m \u001b[0mf\u001b[0m\u001b[0;34m:\u001b[0m\u001b[0;34m\u001b[0m\u001b[0m\n\u001b[0;32m----> 6\u001b[0;31m             \u001b[0mv\u001b[0m \u001b[0;34m=\u001b[0m \u001b[0mnp\u001b[0m\u001b[0;34m.\u001b[0m\u001b[0mrandom\u001b[0m\u001b[0;34m.\u001b[0m\u001b[0mchoice\u001b[0m\u001b[0;34m(\u001b[0m\u001b[0mvar_repetoire\u001b[0m\u001b[0;34m)\u001b[0m\u001b[0;34m\u001b[0m\u001b[0m\n\u001b[0m\u001b[1;32m      7\u001b[0m             \u001b[0mr_samples\u001b[0m\u001b[0;34m.\u001b[0m\u001b[0mappend\u001b[0m\u001b[0;34m(\u001b[0m\u001b[0mv\u001b[0m\u001b[0;34m)\u001b[0m\u001b[0;34m\u001b[0m\u001b[0m\n\u001b[1;32m      8\u001b[0m     \u001b[0;32mreturn\u001b[0m \u001b[0mr_samples\u001b[0m\u001b[0;34m\u001b[0m\u001b[0m\n",
      "\u001b[0;32mmtrand.pyx\u001b[0m in \u001b[0;36mmtrand.RandomState.choice\u001b[0;34m()\u001b[0m\n",
      "\u001b[0;31mKeyboardInterrupt\u001b[0m: "
     ]
    }
   ],
   "source": [
    "p_che, p_exp, p_pre, c_che, c_exp, c_pre = [], [], [], [], [], []\n",
    "\n",
    "for ii in range(int(1e1)):\n",
    "    pc, cc = sim_cost(0.05, 0.3)\n",
    "    p_che.append(pc)\n",
    "    c_che.append(cc)\n",
    "    pe, ce = sim_cost(0.1, 0.1)\n",
    "    p_exp.append(pe)\n",
    "    c_exp.append(ce)\n",
    "    pp, cp = sim_cost(0.2, 0.05)\n",
    "    p_pre.append(pp)\n",
    "    c_pre.append(cp)"
   ]
  },
  {
   "cell_type": "code",
   "execution_count": 682,
   "metadata": {},
   "outputs": [
    {
     "name": "stdout",
     "output_type": "stream",
     "text": [
      "\n"
     ]
    },
    {
     "data": {
      "image/png": "[encoded data removed]",
      "text/plain": [
       "<matplotlib.figure.Figure at 0x1c22aa2048>"
      ]
     },
     "metadata": {},
     "output_type": "display_data"
    }
   ],
   "source": [
    "fig, ax = plt.subplots(nrows=3, ncols=1, figsize=(16,18))\n",
    "ax[0].set_title(\"Probability of Success vs Cost for Different Reagents\")\n",
    "ax[0].plot(c_che, p_che, color='blue')\n",
    "ax[0].set_ylabel(\"Probability of Success (Cheap)\")\n",
    "ax[1].plot(c_exp, p_exp, color='green')\n",
    "ax[1].set_ylabel(\"Probability of Success (Expensive)\")\n",
    "ax[2].plot(c_pre, p_pre, color='red')\n",
    "ax[2].set_ylabel(\"Probability of Success (Premium)\")\n",
    "ax[2].set_xlabel(\"Cost ($)\")\n",
    "print()"
   ]
  },
  {
   "cell_type": "code",
   "execution_count": 644,
   "metadata": {},
   "outputs": [
    {
     "name": "stdout",
     "output_type": "stream",
     "text": [
      "Expected cost for 95% confidence with cheap reagent:     $26.78\n",
      "Expected cost for 95% confidence with expensive reagent: $29.00\n",
      "Expected cost for 95% confidence with premium reagent:   $44.40\n"
     ]
    }
   ],
   "source": [
    "p_che, c_che = sim_cost(0.05, 0.3)\n",
    "p_exp, c_exp = sim_cost(0.1, 0.1)\n",
    "p_pre, c_pre = sim_cost(0.2, 0.05)\n",
    "\n",
    "s_che, i_che, r_che, pv_che, e_che = stats.linregress(c_che, p_che)\n",
    "s_exp, i_exp, r_exp, pv_exp, e_exp = stats.linregress(c_exp, p_exp)\n",
    "s_pre, i_pre, r_pre, pv_pre, e_pre = stats.linregress(c_pre, p_pre)\n",
    "\n",
    "cost_che = (0.95 - i_che) / s_che\n",
    "cost_exp = (0.95 - i_exp) / s_exp\n",
    "cost_pre = (0.95 - i_pre) / s_pre\n",
    "\n",
    "print(\"Expected cost for 95% confidence with cheap reagent:     ${:.2f}\".format(cost_che))\n",
    "print(\"Expected cost for 95% confidence with expensive reagent: ${:.2f}\".format(cost_exp))\n",
    "print(\"Expected cost for 95% confidence with premium reagent:   ${:.2f}\".format(cost_pre))"
   ]
  },
  {
   "cell_type": "markdown",
   "metadata": {},
   "source": [
    "Computing a simple linear regression model on the simulated PCR results for each of the different reagents shows that the cheap reagent will be the most cost effective in granting a 95% change of success. Compared to the plots above ($P(\\text{success}) \\ \\text{vs.} \\ \\text{cost}$), this result seems counter intuitive, as the graphs seem to indicate that the success rate climbs more rapidly as cost increases for the more expensive reagents. However, when using a regression model to compute an exact dollar amount for the 95% confidence level, it becomes clear that the cheap reagent is also the cheapest method overall."
   ]
  },
  {
   "cell_type": "markdown",
   "metadata": {},
   "source": [
    "### [35 points] Problem 2: Parental Leave\n",
    "***\n",
    "\n",
    "The file `leave.tsv` is in the data folder. It contains information on paid parental leave policies for US and Canadian institutions for tenure-track professors. \n",
    "\n",
    "Answer the following questions and provide both _pseudocode_ and code for each question. In other words, in a #comment, explain what your code is doing in each step, and give the reader a brief hint as to why that's a good or necessary step. (This is what we mean by pseudocode.)  Then, provide the code that answers the question. \n",
    "\n",
    "Note that `pandas` is your friend here. Also, note that the researchers who assembled `leave.tsv` may have coded missing data in a variety of ways, so you'll need to explore the file to learn what those are. "
   ]
  },
  {
   "cell_type": "markdown",
   "metadata": {},
   "source": [
    "**Part A**: Figure out what a `.tsv` file is and how to load it in using `pandas`. Call your dataframe `dfLeave`. **Note** that, as in many real-life data science tasks, there is no code to import this file type in any of our in-class notebooks or homeworks; This step will require a web search."
   ]
  },
  {
   "cell_type": "code",
   "execution_count": 5,
   "metadata": {
    "collapsed": true
   },
   "outputs": [],
   "source": [
    "import pandas as pd\n",
    "from scipy import stats"
   ]
  },
  {
   "cell_type": "code",
   "execution_count": 6,
   "metadata": {},
   "outputs": [
    {
     "data": {
      "text/html": [
       "<div>\n",
       "<style>\n",
       "    .dataframe thead tr:only-child th {\n",
       "        text-align: right;\n",
       "    }\n",
       "\n",
       "    .dataframe thead th {\n",
       "        text-align: left;\n",
       "    }\n",
       "\n",
       "    .dataframe tbody tr th {\n",
       "        vertical-align: top;\n",
       "    }\n",
       "</style>\n",
       "<table border=\"1\" class=\"dataframe\">\n",
       "  <thead>\n",
       "    <tr style=\"text-align: right;\">\n",
       "      <th></th>\n",
       "      <th>university_name</th>\n",
       "      <th>short_name</th>\n",
       "      <th>is_private</th>\n",
       "      <th>rank</th>\n",
       "      <th>rank_ind</th>\n",
       "      <th>census_region</th>\n",
       "      <th>missing</th>\n",
       "      <th>paid_leave_len_woman</th>\n",
       "      <th>paid_leave_len_woman_units</th>\n",
       "      <th>paid_leave_weeks_woman</th>\n",
       "      <th>relief_woman</th>\n",
       "      <th>paid_leave_len_man</th>\n",
       "      <th>paid_leave_len_man_units</th>\n",
       "      <th>paid_leave_weeks_man</th>\n",
       "      <th>relief_man</th>\n",
       "      <th>link</th>\n",
       "      <th>notes</th>\n",
       "      <th>date</th>\n",
       "    </tr>\n",
       "  </thead>\n",
       "  <tbody>\n",
       "    <tr>\n",
       "      <th>0</th>\n",
       "      <td>Arizona State University</td>\n",
       "      <td>Arizona State</td>\n",
       "      <td>0</td>\n",
       "      <td>108.72</td>\n",
       "      <td>101</td>\n",
       "      <td>West</td>\n",
       "      <td>0</td>\n",
       "      <td>6.0</td>\n",
       "      <td>week</td>\n",
       "      <td>6.0</td>\n",
       "      <td>Not specified</td>\n",
       "      <td>6.0</td>\n",
       "      <td>week</td>\n",
       "      <td>6.0</td>\n",
       "      <td>Not specified</td>\n",
       "      <td>https://provost.asu.edu/academic-personnel/par...</td>\n",
       "      <td>.</td>\n",
       "      <td>2/22/18</td>\n",
       "    </tr>\n",
       "    <tr>\n",
       "      <th>1</th>\n",
       "      <td>Auburn University</td>\n",
       "      <td>Auburn</td>\n",
       "      <td>0</td>\n",
       "      <td>126.69</td>\n",
       "      <td>122</td>\n",
       "      <td>South</td>\n",
       "      <td>0</td>\n",
       "      <td>0.0</td>\n",
       "      <td>NaN</td>\n",
       "      <td>0.0</td>\n",
       "      <td>NaN</td>\n",
       "      <td>0.0</td>\n",
       "      <td>NaN</td>\n",
       "      <td>0.0</td>\n",
       "      <td>NaN</td>\n",
       "      <td>https://cws.auburn.edu/shared/content/files/85/</td>\n",
       "      <td>FMLA</td>\n",
       "      <td>2/22/18</td>\n",
       "    </tr>\n",
       "    <tr>\n",
       "      <th>2</th>\n",
       "      <td>Boston University</td>\n",
       "      <td>Boston</td>\n",
       "      <td>1</td>\n",
       "      <td>51.73</td>\n",
       "      <td>44</td>\n",
       "      <td>Northeast</td>\n",
       "      <td>0</td>\n",
       "      <td>1.0</td>\n",
       "      <td>term</td>\n",
       "      <td>14.0</td>\n",
       "      <td>Other</td>\n",
       "      <td>1.0</td>\n",
       "      <td>term</td>\n",
       "      <td>14.0</td>\n",
       "      <td>Other</td>\n",
       "      <td>https://www.bu.edu/handbook/leaves-absences/fa...</td>\n",
       "      <td>Full semester for either parent, relief is FUL...</td>\n",
       "      <td>2/22/18</td>\n",
       "    </tr>\n",
       "    <tr>\n",
       "      <th>3</th>\n",
       "      <td>Brandeis University</td>\n",
       "      <td>Brandeis</td>\n",
       "      <td>1</td>\n",
       "      <td>84.55</td>\n",
       "      <td>78</td>\n",
       "      <td>Northeast</td>\n",
       "      <td>0</td>\n",
       "      <td>12.0</td>\n",
       "      <td>week</td>\n",
       "      <td>12.0</td>\n",
       "      <td>Not specified</td>\n",
       "      <td>12.0</td>\n",
       "      <td>week</td>\n",
       "      <td>12.0</td>\n",
       "      <td>Not specified</td>\n",
       "      <td>https://www.brandeis.edu/humanresources/docume...</td>\n",
       "      <td>.</td>\n",
       "      <td>2/22/18</td>\n",
       "    </tr>\n",
       "    <tr>\n",
       "      <th>4</th>\n",
       "      <td>Brigham Young University</td>\n",
       "      <td>Brigham Young</td>\n",
       "      <td>1</td>\n",
       "      <td>166.53</td>\n",
       "      <td>180</td>\n",
       "      <td>West</td>\n",
       "      <td>1</td>\n",
       "      <td>NaN</td>\n",
       "      <td>NaN</td>\n",
       "      <td>NaN</td>\n",
       "      <td>NaN</td>\n",
       "      <td>NaN</td>\n",
       "      <td>NaN</td>\n",
       "      <td>NaN</td>\n",
       "      <td>NaN</td>\n",
       "      <td>Not publicly accessible</td>\n",
       "      <td>Staff leave is 6wk</td>\n",
       "      <td>2/22/18</td>\n",
       "    </tr>\n",
       "  </tbody>\n",
       "</table>\n",
       "</div>"
      ],
      "text/plain": [
       "            university_name     short_name  is_private    rank  rank_ind  \\\n",
       "0  Arizona State University  Arizona State           0  108.72       101   \n",
       "1         Auburn University         Auburn           0  126.69       122   \n",
       "2         Boston University         Boston           1   51.73        44   \n",
       "3       Brandeis University       Brandeis           1   84.55        78   \n",
       "4  Brigham Young University  Brigham Young           1  166.53       180   \n",
       "\n",
       "  census_region  missing  paid_leave_len_woman paid_leave_len_woman_units  \\\n",
       "0          West        0                   6.0                       week   \n",
       "1         South        0                   0.0                        NaN   \n",
       "2     Northeast        0                   1.0                       term   \n",
       "3     Northeast        0                  12.0                       week   \n",
       "4          West        1                   NaN                        NaN   \n",
       "\n",
       "   paid_leave_weeks_woman   relief_woman  paid_leave_len_man  \\\n",
       "0                     6.0  Not specified                 6.0   \n",
       "1                     0.0            NaN                 0.0   \n",
       "2                    14.0          Other                 1.0   \n",
       "3                    12.0  Not specified                12.0   \n",
       "4                     NaN            NaN                 NaN   \n",
       "\n",
       "  paid_leave_len_man_units  paid_leave_weeks_man     relief_man  \\\n",
       "0                     week                   6.0  Not specified   \n",
       "1                      NaN                   0.0            NaN   \n",
       "2                     term                  14.0          Other   \n",
       "3                     week                  12.0  Not specified   \n",
       "4                      NaN                   NaN            NaN   \n",
       "\n",
       "                                                link  \\\n",
       "0  https://provost.asu.edu/academic-personnel/par...   \n",
       "1    https://cws.auburn.edu/shared/content/files/85/   \n",
       "2  https://www.bu.edu/handbook/leaves-absences/fa...   \n",
       "3  https://www.brandeis.edu/humanresources/docume...   \n",
       "4                            Not publicly accessible   \n",
       "\n",
       "                                               notes     date  \n",
       "0                                                  .  2/22/18  \n",
       "1                                               FMLA  2/22/18  \n",
       "2  Full semester for either parent, relief is FUL...  2/22/18  \n",
       "3                                                  .  2/22/18  \n",
       "4                                 Staff leave is 6wk  2/22/18  "
      ]
     },
     "execution_count": 6,
     "metadata": {},
     "output_type": "execute_result"
    }
   ],
   "source": [
    "df = pd.read_table('data/leave.tsv')\n",
    "df.head()"
   ]
  },
  {
   "cell_type": "markdown",
   "metadata": {},
   "source": [
    "**Part B**: Answer the following summary questions:\n",
    "* How many institutions are in the dataset? \n",
    "* How many actually have parental leave data in the `paid_leave_len_woman` column? \n",
    "* How many private institutions are there? \n",
    "* How many institutions have a note associated with them?"
   ]
  },
  {
   "cell_type": "code",
   "execution_count": 7,
   "metadata": {},
   "outputs": [
    {
     "name": "stdout",
     "output_type": "stream",
     "text": [
      "No. of institutions: 205\n",
      "No. w/ data on paid maternal leave: 197\n",
      "No. of private institutions: 53\n",
      "No. w/ notes: 174\n"
     ]
    }
   ],
   "source": [
    "# Get the number of institutions by dropping duplicate rows from the \"university_name\" column\n",
    "num_institutions = len(df[\"university_name\"].drop_duplicates())\n",
    "print(\"No. of institutions: {:d}\".format(num_institutions))\n",
    "\n",
    "# Get the number with data on maternal leave by dropping NaN rows from the \"paid_leave_len_women\" column\n",
    "num_pl_data = len(df[\"paid_leave_len_woman\"].dropna())\n",
    "print(\"No. w/ data on paid maternal leave: {:d}\".format(num_pl_data))\n",
    "\n",
    "# Get the number of private institutions by summing the \"is_private\" column. This works because\n",
    "# the data are represented as boolean 1's and 0's\n",
    "num_private = df[\"is_private\"].sum()\n",
    "print(\"No. of private institutions: {:d}\".format(num_private))\n",
    "\n",
    "# Get the number of entries with notes by counting the rows whose \"notes\" columns are not\n",
    "# equal to the '.' character\n",
    "num_notes = len(df.loc[df[\"notes\"] != '.'])\n",
    "print(\"No. w/ notes: {:d}\".format(num_notes))"
   ]
  },
  {
   "cell_type": "markdown",
   "metadata": {},
   "source": []
  },
  {
   "cell_type": "markdown",
   "metadata": {},
   "source": [
    "**Part C**: Is there statistical evidence at the $\\alpha=0.05$ level that public and private institutions have different _average paid parental leave durations_? Answer the question separately for men and for women. Note that the researchers have conveniently included a column that converts durations into weeks so that policies can be compared across institutions, even if some are on semesters or quarters, etc. "
   ]
  },
  {
   "cell_type": "code",
   "execution_count": 8,
   "metadata": {
    "collapsed": true
   },
   "outputs": [],
   "source": [
    "dfPrivate = df.loc[df['is_private'] == 1]\n",
    "dfPublic = df.loc[df['is_private'] == 0]\n",
    "alpha = 0.05"
   ]
  },
  {
   "cell_type": "code",
   "execution_count": 9,
   "metadata": {},
   "outputs": [
    {
     "name": "stdout",
     "output_type": "stream",
     "text": [
      "95% CI: [-5.071, -0.453]\n"
     ]
    }
   ],
   "source": [
    "# ~Men~\n",
    "\n",
    "# Extract the columns we care about and drop NaN rows\n",
    "pub_men = dfPublic['paid_leave_weeks_man'].dropna()\n",
    "pri_men = dfPrivate['paid_leave_weeks_man'].dropna()\n",
    "\n",
    "# Calculate mean and variance for the public and private datasets\n",
    "pub_mean = pub_men.mean()\n",
    "pri_mean = pri_men.mean()\n",
    "pub_var = pub_men.var()\n",
    "pri_var = pri_men.var()\n",
    "\n",
    "# Calculate the z-statistic we will use to compute our 95% confidence interval\n",
    "zao2 = stats.norm.ppf(1-alpha/2)\n",
    "# Calculate the margin on either side of the difference in means\n",
    "margin = zao2 * np.sqrt( pub_var/len(pub_men) + pri_var/len(pri_men) )\n",
    "# Calculate the difference between the two means\n",
    "diff = pub_mean - pri_mean\n",
    "# Compute the confidence interval\n",
    "minCI = diff - margin\n",
    "maxCI = diff + margin\n",
    "print(\"95% CI: [{:.3f}, {:.3f}]\".format(minCI, maxCI))"
   ]
  },
  {
   "cell_type": "markdown",
   "metadata": {},
   "source": [
    "Because the $95\\%$ confidence interval does not contain $0$, there *is* sufficient statistical evidence at the $\\alpha = 0.05$ level to conclude that there is a difference in mean paid paternal leave between public and private schools. More specifically, since we subtracted the private mean from the public mean and the entire confidence interval is $<0$, there is evidence that men are given more paid parental leave at private univerisites than public ones."
   ]
  },
  {
   "cell_type": "code",
   "execution_count": 10,
   "metadata": {},
   "outputs": [
    {
     "name": "stdout",
     "output_type": "stream",
     "text": [
      "95% CI: [-4.750, 0.111]\n"
     ]
    }
   ],
   "source": [
    "# ~Women~\n",
    "\n",
    "# Extract the columns we care about and drop NaN rows\n",
    "pub_women = dfPublic['paid_leave_weeks_woman'].dropna()\n",
    "pri_women = dfPrivate['paid_leave_weeks_woman'].dropna()\n",
    "\n",
    "# Calculate meand and variance for the public and private datasets\n",
    "pub_mean = pub_women.mean()\n",
    "pub_var = pub_women.var()\n",
    "pri_mean = pri_women.mean()\n",
    "pri_var = pri_women.var()\n",
    "\n",
    "# Calculate the z-statistic we will use to compute our 95% confidence interval\n",
    "zao2 = stats.norm.ppf(1-alpha/2)\n",
    "# Calculate the margin on either side of the difference in means\n",
    "margin = zao2 * np.sqrt( pub_var/len(pub_women) + pri_var/len(pri_women) )\n",
    "# Calculate the difference between the two means\n",
    "diff = pub_mean - pri_mean\n",
    "# Compute the confidence interval\n",
    "minCI = diff - margin\n",
    "maxCI = diff + margin\n",
    "print(\"95% CI: [{:.3f}, {:.3f}]\".format(minCI, maxCI))"
   ]
  },
  {
   "cell_type": "markdown",
   "metadata": {},
   "source": [
    "Because the $95\\%$ confidence interval contains $0$, there *is not* enough statistical evidence at the $\\alpha = 0.05$ level to conclude that there is a difference in the average paid maternal leave between public and private universities."
   ]
  },
  {
   "cell_type": "markdown",
   "metadata": {},
   "source": [
    "**Part D**: Some institutions provide zero weeks of paid parental leave. For each `census_region` in the dataset, create a 95% confidence interval for the _proportion of universities that offer zero paid parental leave to their professors_. <span style=\"color:red\">Since a policy may offer paid parental leave to men, women, both, or neither, please consider a policy that offers any paid parental leave to men _or_ women _or_ both to qualify as non-zero paid parental leave. For example, a university that offers women 6 weeks and men 0 weeks _does_ qualify as a non-zero paid parental leave policy</span>. Based on your observations, is there evidence that policies vary significantly by census region? \n",
    "\n",
    "Please note that the number of data points varies from one census region to another, and therefore, different methods may be required to compute confidence intervals for the proportions in different census regions. _Clearly_ state which methods were used to create each confidence interval.\n",
    "\n",
    "For clarity, please plot your confidence intervals as vertical bars in a single plot. From left to right, please plot in the order `Canada`, `Northeast`, `Midwest`,`South`, `West`."
   ]
  },
  {
   "cell_type": "code",
   "execution_count": 65,
   "metadata": {},
   "outputs": [
    {
     "name": "stdout",
     "output_type": "stream",
     "text": [
      "Number of Universities:\n",
      "Canada:    22\n",
      "Northeast: 45\n",
      "Midwest:   38\n",
      "South:     60\n",
      "West:      40\n",
      "\n",
      "95% CIs for proportion offering 0 weeks paid leave:\n",
      "Canada:    [-0.016, 0.289]\n",
      "Northwest: [0.156, 0.421]\n",
      "Midwest:   [0.264, 0.578]\n",
      "South:     [0.407, 0.660]\n",
      "West:      [0.158, 0.442]\n",
      "\n"
     ]
    },
    {
     "data": {
      "image/png": "[encoded data removed]",
      "text/plain": [
       "<matplotlib.figure.Figure at 0x1a1b182c88>"
      ]
     },
     "metadata": {},
     "output_type": "display_data"
    }
   ],
   "source": [
    "alpha = 0.05\n",
    "\n",
    "# Get dataframes of regions\n",
    "dfC = df.loc[df['census_region'] == 'Canada']\n",
    "dfN = df.loc[df['census_region'] == 'Northeast']\n",
    "dfM = df.loc[df['census_region'] == 'Midwest']\n",
    "dfS = df.loc[df['census_region'] == 'South']\n",
    "dfW = df.loc[df['census_region'] == 'West']\n",
    "\n",
    "# Look at how many data points are in each\n",
    "print(\"Number of Universities:\")\n",
    "print(\"Canada:    {:d}\".format(len(dfC)))\n",
    "print(\"Northeast: {:d}\".format(len(dfN)))\n",
    "print(\"Midwest:   {:d}\".format(len(dfM)))\n",
    "print(\"South:     {:d}\".format(len(dfS)))\n",
    "print(\"West:      {:d}\".format(len(dfW)))\n",
    "print()\n",
    "\n",
    "# Use the z-alpha/2 value for most CIs\n",
    "zao2 = stats.norm.ppf(1-alpha/2)\n",
    "\n",
    "# Get the number of universities offering 0 weeks paid leave in each region\n",
    "C_count = len(dfC.loc[(dfC['paid_leave_weeks_woman'] == 0) & (dfC['paid_leave_weeks_man'] == 0)])\n",
    "N_count = len(dfN.loc[(dfN['paid_leave_weeks_woman'] == 0) & (dfN['paid_leave_weeks_man'] == 0)])\n",
    "M_count = len(dfM.loc[(dfM['paid_leave_weeks_woman'] == 0) & (dfM['paid_leave_weeks_man'] == 0)])\n",
    "S_count = len(dfS.loc[(dfS['paid_leave_weeks_woman'] == 0) & (dfS['paid_leave_weeks_man'] == 0)])\n",
    "W_count = len(dfW.loc[(dfW['paid_leave_weeks_woman'] == 0) & (dfW['paid_leave_weeks_man'] == 0)])\n",
    "\n",
    "# Compute the proportion of univs. with 0 paid leave in each region\n",
    "C_prop = C_count / len(dfC)\n",
    "N_prop = N_count / len(dfN)\n",
    "M_prop = M_count / len(dfM)\n",
    "S_prop = S_count / len(dfS)\n",
    "W_prop = W_count / len(dfW)\n",
    "\n",
    "print(\"95% CIs for proportion offering 0 weeks paid leave:\")\n",
    "# Use a t-test for Canadian schools because n_C < 30\n",
    "tao2 = stats.t.ppf(1-alpha/2, len(dfC)-1)\n",
    "C_margin = tao2 * np.sqrt( (C_prop*(1-C_prop))/len(dfC) )\n",
    "C_min = C_prop - C_margin\n",
    "C_max = C_prop + C_margin\n",
    "print(\"Canada:    [{:.3f}, {:.3f}]\".format(C_min, C_max))\n",
    "\n",
    "# Use a z-test for Northeastern schools\n",
    "N_margin = zao2 * np.sqrt( (N_prop*(1-N_prop))/len(dfN) )\n",
    "N_min = N_prop - N_margin\n",
    "N_max = N_prop + N_margin\n",
    "print(\"Northwest: [{:.3f}, {:.3f}]\".format(N_min, N_max))\n",
    "\n",
    "# Use a z-test for Midwestern schools\n",
    "M_margin = zao2 * np.sqrt( (M_prop*(1-M_prop)) / len(dfM) )\n",
    "M_min = M_prop - M_margin\n",
    "M_max = M_prop + M_margin\n",
    "print(\"Midwest:   [{:.3f}, {:.3f}]\".format(M_min, M_max))\n",
    "\n",
    "# Use a z-test for Southern schools\n",
    "S_margin = zao2 * np.sqrt( (S_prop*(1-S_prop)) / len(dfS) )\n",
    "S_min = S_prop - S_margin\n",
    "S_max = S_prop + S_margin\n",
    "print(\"South:     [{:.3f}, {:.3f}]\".format(S_min, S_max))\n",
    "\n",
    "# Use a z-test for Western schools\n",
    "W_margin = zao2 * np.sqrt( (W_prop*(1-W_prop)) / len(dfW))\n",
    "W_min = W_prop - W_margin\n",
    "W_max = W_prop + W_margin\n",
    "print(\"West:      [{:.3f}, {:.3f}]\".format(W_min, W_max))\n",
    "\n",
    "\n",
    "fig, ax = plt.subplots(nrows=1, ncols=1, figsize=(10,6))\n",
    "ax.plot([1,1], [C_min, C_max])\n",
    "ax.plot([2,2], [N_min, N_max])\n",
    "ax.plot([3,3], [M_min, M_max])\n",
    "ax.plot([4,4], [S_min, S_max])\n",
    "ax.plot([5,5], [W_min, W_max])\n",
    "ax.set_title(\"CIs for Proportions of Schools Offering Zero Weeks Paid Parental Leave\")\n",
    "ax.set_xlabel(\"Region\")\n",
    "ax.set_ylabel(\"Proportion\")\n",
    "plt.xticks(range(1,6), (\"Canada\", \"Northeest\", \"Midwest\", \"South\", \"West\"))\n",
    "print()"
   ]
  },
  {
   "cell_type": "markdown",
   "metadata": {},
   "source": [
    "The only two regions which show a statistically significant difference in paid paternal leave are Canada and the South. The $95\\%$ confidence intervals for these regions are the only two which do not overlap. These CI's represent the proportion of universities which offer *zero* weeks paid paternal leave for either gender, and this proportion is significantly higher at Southern schools than those in Canada."
   ]
  },
  {
   "cell_type": "markdown",
   "metadata": {},
   "source": [
    "### [30 points] Problem 3: Multiple Linear Otter-gression \n",
    "***\n",
    "\n",
    "After years of study and professional development, you have finally landed your dream job as lead otter scientist.  It is a [dream job](https://www.youtube.com/watch?v=IXFqLIBHm-E). As your first project, you wish to use multiple linear regression to understand and predict what makes otters Instagrammable, as measured during many observations of otters, conducted by students.  Luckily, your predecessor has collected lots of data that might prove relevant.  You'll find this data in the file `otters.csv`. \n",
    "\n",
    "**Response**: \n",
    "\n",
    "- $\\texttt{instagrammability}$: The instagrammability of a particular otter, measured by a complicated formula involving likes, comments, DMs, reposts, and new followers.\n",
    "\n",
    "**Features**: \n",
    "\n",
    "- $\\texttt{urchin color}$: the depth of color of the urchins nearby, measured in Wongs. \n",
    "- $\\texttt{fur fluff}$: the fluff factor of the otter's fur, measured in Ketelsens.\n",
    "- $\\texttt{adorbz}$: unknown variable. The students keep writing it down. Units unknown.\n",
    "- $\\texttt{temp}$: the outside temperature, measured in degrees Fahrenheit \n",
    "- $\\texttt{majesty}$: the majesty of this particular otter in this particular photo, measured as a fraction of maximum majesty (between 0 and 1). \n",
    "- $\\texttt{observer GPA}$: the GPA of the student who recorded the data.\n",
    "- $\\texttt{paw size}$: measured as some kind of deviation away from the median paw size. Units unknown.\n",
    "- $\\texttt{paw grip}$: grip strength of paw (estimated) measured in Grochows. \n",
    "- $\\texttt{ice cream sold}$: the number of units of ice cream sold at Etai's\n",
    "- $\\texttt{shark attacks}$: the number of shark attacks at the Boulder Res on the day of observation\n"
   ]
  },
  {
   "cell_type": "code",
   "execution_count": 68,
   "metadata": {},
   "outputs": [
    {
     "name": "stderr",
     "output_type": "stream",
     "text": [
      "/anaconda3/lib/python3.6/site-packages/statsmodels/compat/pandas.py:56: FutureWarning: The pandas.core.datetools module is deprecated and will be removed in a future version. Please use the pandas.tseries module instead.\n",
      "  from pandas.core import datetools\n"
     ]
    }
   ],
   "source": [
    "import statsmodels.api as sm"
   ]
  },
  {
   "cell_type": "markdown",
   "metadata": {},
   "source": [
    "**Part A**: Read the data from **otters.csv** into a Pandas DataFrame and clean the data.  Note that since we will be doing a multiple linear regression we will need all of the features, so you should drop any row in the DataFrame that is missing data.  "
   ]
  },
  {
   "cell_type": "code",
   "execution_count": 312,
   "metadata": {},
   "outputs": [
    {
     "data": {
      "text/html": [
       "<div>\n",
       "<style>\n",
       "    .dataframe thead tr:only-child th {\n",
       "        text-align: right;\n",
       "    }\n",
       "\n",
       "    .dataframe thead th {\n",
       "        text-align: left;\n",
       "    }\n",
       "\n",
       "    .dataframe tbody tr th {\n",
       "        vertical-align: top;\n",
       "    }\n",
       "</style>\n",
       "<table border=\"1\" class=\"dataframe\">\n",
       "  <thead>\n",
       "    <tr style=\"text-align: right;\">\n",
       "      <th></th>\n",
       "      <th>instagrammability</th>\n",
       "      <th>urchin color</th>\n",
       "      <th>fur fluff</th>\n",
       "      <th>adorbz</th>\n",
       "      <th>temp</th>\n",
       "      <th>majesty</th>\n",
       "      <th>observer GPA</th>\n",
       "      <th>paw size</th>\n",
       "      <th>paw grip</th>\n",
       "      <th>ice cream sold</th>\n",
       "      <th>shark attacks</th>\n",
       "    </tr>\n",
       "  </thead>\n",
       "  <tbody>\n",
       "    <tr>\n",
       "      <th>0</th>\n",
       "      <td>138.70</td>\n",
       "      <td>89.1</td>\n",
       "      <td>6.8</td>\n",
       "      <td>263.0</td>\n",
       "      <td>62</td>\n",
       "      <td>1.00</td>\n",
       "      <td>2.04</td>\n",
       "      <td>0.0</td>\n",
       "      <td>25.0</td>\n",
       "      <td>196.0</td>\n",
       "      <td>3.0</td>\n",
       "    </tr>\n",
       "    <tr>\n",
       "      <th>1</th>\n",
       "      <td>121.87</td>\n",
       "      <td>93.4</td>\n",
       "      <td>8.0</td>\n",
       "      <td>264.0</td>\n",
       "      <td>63</td>\n",
       "      <td>1.00</td>\n",
       "      <td>2.69</td>\n",
       "      <td>-4.0</td>\n",
       "      <td>21.0</td>\n",
       "      <td>189.0</td>\n",
       "      <td>1.0</td>\n",
       "    </tr>\n",
       "    <tr>\n",
       "      <th>2</th>\n",
       "      <td>117.31</td>\n",
       "      <td>85.9</td>\n",
       "      <td>7.6</td>\n",
       "      <td>243.0</td>\n",
       "      <td>55</td>\n",
       "      <td>0.84</td>\n",
       "      <td>3.17</td>\n",
       "      <td>-2.0</td>\n",
       "      <td>11.0</td>\n",
       "      <td>219.0</td>\n",
       "      <td>0.0</td>\n",
       "    </tr>\n",
       "    <tr>\n",
       "      <th>3</th>\n",
       "      <td>80.69</td>\n",
       "      <td>89.1</td>\n",
       "      <td>6.0</td>\n",
       "      <td>260.0</td>\n",
       "      <td>52</td>\n",
       "      <td>0.73</td>\n",
       "      <td>2.13</td>\n",
       "      <td>-13.0</td>\n",
       "      <td>107.0</td>\n",
       "      <td>101.0</td>\n",
       "      <td>0.0</td>\n",
       "    </tr>\n",
       "    <tr>\n",
       "      <th>4</th>\n",
       "      <td>127.52</td>\n",
       "      <td>94.6</td>\n",
       "      <td>8.1</td>\n",
       "      <td>251.0</td>\n",
       "      <td>57</td>\n",
       "      <td>0.89</td>\n",
       "      <td>2.40</td>\n",
       "      <td>-6.0</td>\n",
       "      <td>43.0</td>\n",
       "      <td>186.0</td>\n",
       "      <td>0.0</td>\n",
       "    </tr>\n",
       "  </tbody>\n",
       "</table>\n",
       "</div>"
      ],
      "text/plain": [
       "   instagrammability urchin color fur fluff  adorbz temp  majesty  \\\n",
       "0             138.70         89.1       6.8   263.0   62     1.00   \n",
       "1             121.87         93.4       8.0   264.0   63     1.00   \n",
       "2             117.31         85.9       7.6   243.0   55     0.84   \n",
       "3              80.69         89.1       6.0   260.0   52     0.73   \n",
       "4             127.52         94.6       8.1   251.0   57     0.89   \n",
       "\n",
       "   observer GPA  paw size  paw grip  ice cream sold  shark attacks  \n",
       "0          2.04       0.0      25.0           196.0            3.0  \n",
       "1          2.69      -4.0      21.0           189.0            1.0  \n",
       "2          3.17      -2.0      11.0           219.0            0.0  \n",
       "3          2.13     -13.0     107.0           101.0            0.0  \n",
       "4          2.40      -6.0      43.0           186.0            0.0  "
      ]
     },
     "execution_count": 312,
     "metadata": {},
     "output_type": "execute_result"
    }
   ],
   "source": [
    "dfO = pd.read_csv(\"data/otters.csv\").dropna()\n",
    "# Stip non-numeric chars from data\n",
    "dfO['urchin color'] = dfO['urchin color'].str.strip('ƭ')\n",
    "dfO['fur fluff'] = dfO['fur fluff'].str.strip('ɭ')\n",
    "dfO['temp'] = dfO['temp'].str.strip('℉')\n",
    "\n",
    "dfO.head()"
   ]
  },
  {
   "cell_type": "markdown",
   "metadata": {},
   "source": [
    "**Part B**: Perform the appropriate statistical test at the $\\alpha = 0.05$ significance level to determine if _at least one_ of the features is related to the the response $y$.  Clearly describe your methodology and show all computations in Python. "
   ]
  },
  {
   "cell_type": "code",
   "execution_count": 710,
   "metadata": {},
   "outputs": [
    {
     "name": "stdout",
     "output_type": "stream",
     "text": [
      "F-value:    572.24\n",
      "F-critical:   1.96\n"
     ]
    }
   ],
   "source": [
    "alpha = 0.05\n",
    "# Extract respones, features from dataframe\n",
    "y, x = dfO['instagrammability'], dfO.iloc[:,1:]\n",
    "# Calculate p and n\n",
    "p = len(x.columns)\n",
    "n = len(x)\n",
    "\n",
    "# Fit model\n",
    "x = sm.add_constant(x)\n",
    "model = sm.OLS(y, x.astype(float)).fit()\n",
    "\n",
    "# Calculate f-value and f-critical to perform a hypothesis test\n",
    "f = model.fvalue\n",
    "fcrit = stats.f.ppf(1-alpha, p, n-p-1)\n",
    "print(\"F-value:    {:.2f}\".format(f))\n",
    "print(\"F-critical: {:6.2f}\".format(fcrit))"
   ]
  },
  {
   "cell_type": "markdown",
   "metadata": {},
   "source": [
    "Because $F = 572.24 > 1.96 = F_c$, there is sufficient statisitcal evidence to conclude that *at least one* of the features has a significant effect on the response variable. This F-statistic was calculated using the OLS package from `statsmodels.api`, which performs Multiple Linear Regression on the data and fits a linear model to the data. The package also computes an f-value using the formula:\n",
    "$$\n",
    "F = \\frac{ \\frac{SSE - SST}{p} }{ \\frac{SST}{n-p-1} }\n",
    "$$"
   ]
  },
  {
   "cell_type": "markdown",
   "metadata": {},
   "source": [
    "**Part C**: Write a function `forward_select(df, resp_str, maxk)` that takes in the DataFrame, the name of the column corresponding to the response, and the max number of desired features, and returns a list of feature names corresponding to the maxk most important features via forward selection.  At each stage in forward selection you should add the feature whose inclusion in the model would result in the lowest sum of squared errors $(SSE)$. Use your function to determine the best $k=5$ features to include in the model. Clearly indicate which feature was added in each stage. \n",
    "\n",
    "**Note**: The point of this exercise is to see if you can implement `foward_select` yourself.  You may of course use canned routines like statmodels OLS, but you may not call any Python method that explicitly performs forward selection. "
   ]
  },
  {
   "cell_type": "code",
   "execution_count": 711,
   "metadata": {},
   "outputs": [],
   "source": [
    "# Simple function to calculate SSE\n",
    "def calc_sse(y, x, yhat):\n",
    "    SSE = np.sum((y - yhat)**2)\n",
    "    return SSE"
   ]
  },
  {
   "cell_type": "code",
   "execution_count": 712,
   "metadata": {},
   "outputs": [],
   "source": [
    "def forward_select(df, resp_str, maxk):\n",
    "    # Get the response column\n",
    "    y = df[resp_str]\n",
    "    \n",
    "    # Prepare a list of features with the lowest SSE\n",
    "    features = []\n",
    "    \n",
    "    # Compute first SLR\n",
    "    min_sse = float(\"inf\")\n",
    "    min_idx = -1\n",
    "    # Loop through the columns, computing an SLR\n",
    "    # and SSE for each\n",
    "    for ii in range(1, len(df.columns)):\n",
    "        # Get an individual column\n",
    "        x = df[df.columns[ii]].astype(float)\n",
    "        # Compute a regression model\n",
    "        s, i, r, p, e = stats.linregress(x, y)\n",
    "        # Get an estimated value for each x using the model\n",
    "        yhat = s*x + i\n",
    "        # Caclulate SSE\n",
    "        sse = calc_sse(y, x, yhat)\n",
    "        # If this is the smallest SSE we've seen, save it\n",
    "        if (sse < min_sse):\n",
    "            min_sse = sse\n",
    "            min_idx = ii\n",
    "    # Add the feature with the smallest SSE to the list\n",
    "    features.append(df.columns[min_idx])\n",
    "    print(\"Added baseline feature '{:s}'\".format(df.columns[min_idx]))\n",
    "    \n",
    "    \n",
    "    # Make sure we don't try to return more features than there are\n",
    "    if maxk > len(df.columns)-1:\n",
    "        maxk = len(df.columns)-1\n",
    "    # After computing the initial SLR, we will compute a series\n",
    "    # of MLRs with the base constant, the feature with the lowest\n",
    "    # SSE from the SLR, and an increasing number of other features\n",
    "    # from the dataset. We start at 1 because we already got one\n",
    "    # feature from the SLR\n",
    "    for ii in range(1, maxk):\n",
    "        # Need to store minimums on each pass\n",
    "        min_sse = float(\"inf\")\n",
    "        min_idx = -1\n",
    "        # Loop through all columns again (except the response var)\n",
    "        for jj in range(len(df.columns)):\n",
    "            # Skip this feature if it's already in the set, or\n",
    "            # if it's the response variable\n",
    "            if df.columns[jj] in features or df.columns[jj] == resp_str:\n",
    "                continue\n",
    "            # Create a feature list for this pass with the\n",
    "            # current features and a new one\n",
    "            flist = features + [df.columns[jj]]\n",
    "            # Get the independent vars\n",
    "            x = df[flist]\n",
    "            x = sm.add_constant(x)\n",
    "            # Fit a model\n",
    "            model = sm.OLS(y, x.astype(float)).fit()\n",
    "            # Get a prediciton from this model\n",
    "            yhat = model.predict(x.astype(float))\n",
    "            # Calculate SSE on the model\n",
    "            sse = calc_sse(y, x, yhat)\n",
    "            # Keep the minimum SSE\n",
    "            if sse < min_sse:\n",
    "                min_sse = sse\n",
    "                min_idx = jj\n",
    "        # Add the feature with the lowest SSE to the list\n",
    "        features.append(df.columns[min_idx])\n",
    "        print(\"Added additional feature '{:s}'\".format(df.columns[min_idx]))\n",
    "        \n",
    "    return features"
   ]
  },
  {
   "cell_type": "code",
   "execution_count": 713,
   "metadata": {},
   "outputs": [
    {
     "name": "stdout",
     "output_type": "stream",
     "text": [
      "Added baseline feature 'paw size'\n",
      "Added additional feature 'temp'\n",
      "Added additional feature 'adorbz'\n",
      "Added additional feature 'urchin color'\n",
      "Added additional feature 'fur fluff'\n"
     ]
    },
    {
     "data": {
      "text/plain": [
       "['paw size', 'temp', 'adorbz', 'urchin color', 'fur fluff']"
      ]
     },
     "execution_count": 713,
     "metadata": {},
     "output_type": "execute_result"
    }
   ],
   "source": [
    "k = 5\n",
    "features = forward_select(dfO, 'instagrammability', k)\n",
    "features"
   ]
  },
  {
   "cell_type": "markdown",
   "metadata": {},
   "source": [
    "**Part D**: Write down the multiple linear regression model, including estimated parameters, obtained by your forward selection process. "
   ]
  },
  {
   "cell_type": "code",
   "execution_count": 714,
   "metadata": {},
   "outputs": [
    {
     "name": "stdout",
     "output_type": "stream",
     "text": [
      "y = -34.705 + 5.098*('paw size') - 0.977*('temp') + 0.460*('adorbz') + 1.000*('urchin color') + 3.705*('fur fluff')\n"
     ]
    }
   ],
   "source": [
    "# Set up variables\n",
    "y = dfO['instagrammability']\n",
    "x = dfO[features].astype(float)\n",
    "x = sm.add_constant(x)\n",
    "# Fit model\n",
    "model = sm.OLS(y, x).fit()\n",
    "# Print the intercept\n",
    "print(\"y = {:.3f}\".format(model.params[0]), end='')\n",
    "# Loop through and print each of the parameters\n",
    "for ii in range(1, len(model.params)):\n",
    "    if (model.params[ii] >= 0):\n",
    "        print(\" + \", end='')\n",
    "    else:\n",
    "        print(\" - \", end='')\n",
    "    print(\"{:.3f}*('{:s}')\".format(np.abs(model.params[ii]), features[ii-1]), end='')\n",
    "print()"
   ]
  },
  {
   "cell_type": "markdown",
   "metadata": {},
   "source": [
    "**Part E**: Perform the appropriate statistical test at the $\\alpha = 0.05$ significance level to determine whether there is a statistically significant difference between the full model with all features and the reduced model obtained by forward selection in **Part D**. "
   ]
  },
  {
   "cell_type": "code",
   "execution_count": 719,
   "metadata": {},
   "outputs": [
    {
     "name": "stdout",
     "output_type": "stream",
     "text": [
      "1831.8999447515318\n",
      "1920.4065399060707\n",
      "F-partial:  -0.682\n",
      "F-critical: 2.338\n"
     ]
    }
   ],
   "source": [
    "alpha = 0.05\n",
    "\n",
    "# Get the full parameter set\n",
    "x_full = dfO.iloc[:,1:].astype(float)\n",
    "# Fit a model using all of the parameters\n",
    "full_model = sm.OLS(y, x_full).fit()\n",
    "\n",
    "# Get predictions from the full and reduced models\n",
    "yhat_full = full_model.predict(x_full)\n",
    "yhat_redu = model.predict(x)\n",
    "\n",
    "# Calculate SSE for the full and reduced models\n",
    "sse_full = calc_sse(y, x_full, yhat_full)\n",
    "sse_redu = calc_sse(y, x, yhat_redu)\n",
    "\n",
    "# Compute a partial F-test on the full and reduced models\n",
    "f_partial = ((sse_redu - sse_full) / (p - k)) / (sse_full / (n - p - 1))\n",
    "# Get a critical value for F at the 0.95 confidence level\n",
    "f_critical = stats.f.ppf(1-alpha, p-k, n-p-1)\n",
    "\n",
    "print(\"F-partial:  {:.3f}\".format(f_partial))\n",
    "print(\"F-critical: {:.3f}\".format(f_critical))"
   ]
  },
  {
   "cell_type": "markdown",
   "metadata": {},
   "source": [
    "Because $F_{partial} = -0.682 < 2.338 = F_{critical}$, there is not enough evidence to conclude that the full model is any better at predicting the data than the reduced model."
   ]
  },
  {
   "cell_type": "markdown",
   "metadata": {},
   "source": [
    "**Part F**: Based on your conclusions in **Part E**, use the _better_ of the two models to predict an otter's instagrammability when the following features are observed: \n",
    "\n",
    "- $\\texttt{urchin color}$: 93 Wongs\n",
    "- $\\texttt{fur fluff}$: 8.2 Ketelsens\n",
    "- $\\texttt{adorbz}$: 273\n",
    "- $\\texttt{temp}$: 46F \n",
    "- $\\texttt{majesty}$: 0.79 \n",
    "- $\\texttt{observer GPA}$: 3.50 \n",
    "- $\\texttt{paw size}$: -10 \n",
    "- $\\texttt{paw grip}$: 55 Grochows\n",
    "- $\\texttt{ice cream sold}$: 130\n",
    "- $\\texttt{shark attacks}$: 3 "
   ]
  },
  {
   "cell_type": "code",
   "execution_count": 720,
   "metadata": {},
   "outputs": [
    {
     "name": "stdout",
     "output_type": "stream",
     "text": [
      "Instagrammability: 117.752\n"
     ]
    }
   ],
   "source": [
    "full_otter = [93,8.2,273,46,0.79,3.5,-10,55,130,3]\n",
    "#redu_otter = [-10,46,273,93,8.2]\n",
    "f_ig = full_model.predict(full_otter)\n",
    "#r_ig = model.predict(redu_otter)\n",
    "print(\"Instagrammability: {:.3f}\".format(ig[0]))"
   ]
  },
  {
   "cell_type": "markdown",
   "metadata": {},
   "source": [
    "I decided to use the full model anyways because I ran into a bunch of dimensionality conflicts with the reduced model, and the SSE's are close enough that the partial F-test did not show a significant difference between them."
   ]
  },
  {
   "cell_type": "code",
   "execution_count": null,
   "metadata": {
    "collapsed": true
   },
   "outputs": [],
   "source": []
  }
 ],
 "metadata": {
  "kernelspec": {
   "display_name": "Python 3",
   "language": "python",
   "name": "python3"
  },
  "language_info": {
   "codemirror_mode": {
    "name": "ipython",
    "version": 3
   },
   "file_extension": ".py",
   "mimetype": "text/x-python",
   "name": "python",
   "nbconvert_exporter": "python",
   "pygments_lexer": "ipython3",
   "version": "3.6.3"
  }
 },
 "nbformat": 4,
 "nbformat_minor": 2
}

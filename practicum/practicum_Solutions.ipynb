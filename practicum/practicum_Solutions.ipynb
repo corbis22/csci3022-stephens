{
 "cells": [
  {
   "cell_type": "markdown",
   "metadata": {},
   "source": [
    "# CSCI 3022: Intro to Data Science - Spring 2018 Practicum \n",
    "***\n",
    "- <span style=\"color:blue\">Version 1.01 - clarified problem 1B (in blue text).</span>\n",
    "- <span style=\"color:green\">Version 1.02 - clarified problem 1D (in green text).</span>\n",
    "- <span style=\"color:red\">Version 1.03 - clarified problem 2D (in red text).</span>\n",
    "\n",
    "\n",
    "This practicum is due on Moodle by **11:55pm on Wednesday May 2nd**. Your solutions to theoretical questions should be done in Markdown/MathJax directly below the associated question.  Your solutions to computational questions should include any specified Python code and results as well as written commentary on your conclusions.  \n",
    "\n",
    "**Here are the rules:** \n",
    "\n",
    "1. All work, code and analysis, must be your own. \n",
    "1. You may use your course notes, posted lecture slides, in-class notebooks, and homework solutions as resources.  You may also search online for answers to general knowledge questions like the form of a probability distribution function or how to perform a particular operation in Python/Pandas. \n",
    "2. You may **NOT** post to message boards or other online resources asking for help. \n",
    "3. You may **NOT** collaborate with classmates or anyone else.  \n",
    "\n",
    "Violation of the above rules will result in an **F** in the course and a trip to Honor Council. \n",
    "\n",
    "***\n",
    "\n",
    "**By writing your name below you agree to abide by the rules given above:**\n",
    "\n",
    "**Name**: \n",
    "\n",
    "***\n",
    "\n",
    "\n",
    "**NOTES**: \n",
    "\n",
    "- You may not use late days on the practicum nor can you drop your practicum grade. \n",
    "- If you have a question for Dan, post it as a **PRIVATE** message on Piazza.  If we decide that the question is appropriate for the entire class we will make the post public (and anonymous). \n",
    "- Do **NOT** load or use any Python packages that are not available in Anaconda 3.6. \n",
    "- Some problems with code may be autograded.  If we provide a function API **do not** change it.  If we do not provide a function API then you're free to structure your code however you like. \n",
    "- Submit only this Jupyter notebook to Moodle.  Do not compress it using tar, rar, zip, etc. "
   ]
  },
  {
   "cell_type": "code",
   "execution_count": 1,
   "metadata": {},
   "outputs": [
    {
     "name": "stderr",
     "output_type": "stream",
     "text": [
      "/Users/larremore/Desktop/Dropbox/python/env3/lib/python3.6/site-packages/statsmodels/compat/pandas.py:56: FutureWarning: The pandas.core.datetools module is deprecated and will be removed in a future version. Please use the pandas.tseries module instead.\n",
      "  from pandas.core import datetools\n"
     ]
    }
   ],
   "source": [
    "import numpy as np \n",
    "from scipy import stats\n",
    "import pandas as pd\n",
    "import matplotlib.pylab as plt \n",
    "import statsmodels.api as sm\n",
    "%matplotlib inline"
   ]
  },
  {
   "cell_type": "markdown",
   "metadata": {},
   "source": [
    "### [35 points] Problem 1: Malaria Parasite Problems\n",
    "***\n",
    "\n",
    "Malaria parasites are very good at evading the immune system. Each parasite's genome has 60 different versions of a key immune evasion gene, so that when you get malaria, instead of simply getting sick and then getting better, the parasite switches among its 60 genes, sequentially, thereby changing its camouflage over and over and over. This is one of the reasons that malaria is still a huge problem today: you never develop a really strong immunity to the overall parasite population, due to its huge genetic diversity. You can read more about this [here](https://www.quantamagazine.org/networks-untangle-malarias-deadly-shuffle-20151015/) if you like. \n",
    "\n",
    "Here we are concerned with helping out lab scientists in desigining and evaluating their genetic sequencing experiments which target _var_ genes. The setup is as follows:\n",
    "\n",
    "* Each parasite has a repertoire of 60 different genes.\n",
    "* A process called PCR is applied to a parasite genome. It may or may not be successful in producing the genetic sequence of one of the genes. The probability that a PCR fails entirely is $f$. \n",
    "* If PCR succeeds, a genetic sequence is produced, and this sequence is chosen uniformly at random from among the total 60 genes. \n",
    "* PCR does not deplete the DNA in the sample, meaning that if one repeats the PCR process, the same gene might be sequenced _or_ a different one of the 60 genes might be sequenced.\n",
    "* To be clear: repeating PCR might sample a previously sampled gene, or it might sample another one of the 60. Then again, any individual PCR fails with probability $f$."
   ]
  },
  {
   "cell_type": "markdown",
   "metadata": {},
   "source": [
    "**Part A**: Suppose you have the budget to do $r$ PCR attempts. Let $k$ be the number of PCRs that are successful. Since $k$ is a random variable, what is the name of its distribution? What is the expected value of $k$, and how does it depend on $r$? What is the standard deviation of $k$?"
   ]
  },
  {
   "cell_type": "markdown",
   "metadata": {},
   "source": [
    "**Solution**\n",
    "\n",
    "$k$ will be distributed according to a Binomial with $r$ trials and probability $1-f$. The expected value of $k$ is $r(1-f)$.  The variance is $rf(1-f)$ so the standard deviation is $\\sqrt{rf(1-f)}$.\n",
    "\n",
    "***"
   ]
  },
  {
   "cell_type": "markdown",
   "metadata": {},
   "source": [
    "**Part B**: Write a function called `draw_pcr_samples(r,f,var_repertoire)` that makes $r$ repeated attemps at PCR, each with independent probability of failure $f$. This code must return a list of the successfully sequenced var genes. For your convenience, please use the list `var_repertoire` below as the 60 possible var genes that are being sampled. <span style=\"color:blue\">When written correctly, the output of this code will change each time, depending on the success or failure of each PCR, and which var gene is chosen. To examine the output of your function, please repeatedly call it under three different conditions, and produce the following histograms: </span>\n",
    "* <span style=\"color:blue\">distribution of the</span> number of unique var genes sampled for $r=48$ and $f=0$. Make this histogram `blue`.\n",
    "* <span style=\"color:blue\">distribution of the</span> number of unique var genes sampled for $r=60$ and $f=0.2$. Make this histogram `green`.\n",
    "* <span style=\"color:blue\">distribution of the</span> number of unique var genes sampled for $r=120$ and $f=0.6$. Make this histogram `gold`."
   ]
  },
  {
   "cell_type": "code",
   "execution_count": 3,
   "metadata": {},
   "outputs": [],
   "source": [
    "var_repertoire = ['a','b','c','d','e','f','g','h','i','j','k','l','m','n','o','p','q',\n",
    "                  'r','s','t','u','v','w','x','y','z','A','B','C','D','E','F','G','H',\n",
    "                 'I','J','K','L','M','N','O','P','Q','R','S','T','U','V','W','X','Y','Z',\n",
    "                 'π','ø','ß','∆','ç','Ω','µ','∞']"
   ]
  },
  {
   "cell_type": "code",
   "execution_count": 4,
   "metadata": {},
   "outputs": [],
   "source": [
    "def draw_pcr_samples(r,f,var_repertoire):\n",
    "    draws = np.random.binomial(r,1-f)\n",
    "    samples = np.random.choice(var_repertoire,size=draws)\n",
    "    return list(set(samples))"
   ]
  },
  {
   "cell_type": "code",
   "execution_count": 5,
   "metadata": {},
   "outputs": [],
   "source": [
    "n_unique = []\n",
    "n_unique.append([len(draw_pcr_samples(48,0,var_repertoire)) for ii in range(10000)])\n",
    "n_unique.append([len(draw_pcr_samples(60,0.2,var_repertoire)) for ii in range(10000)])\n",
    "n_unique.append([len(draw_pcr_samples(120,0.6,var_repertoire)) for ii in range(10000)])"
   ]
  },
  {
   "cell_type": "code",
   "execution_count": 6,
   "metadata": {},
   "outputs": [
    {
     "data": {
      "image/png": "[encoded data removed]",
      "text/plain": [
       "<matplotlib.figure.Figure at 0x112a80358>"
      ]
     },
     "metadata": {},
     "output_type": "display_data"
    }
   ],
   "source": [
    "fig, axes = plt.subplots(nrows=3, ncols=1, figsize=(8,16))\n",
    "\n",
    "labels = [\"r=48,f=0\",\"r=60,f=0.2\",\"r=120,f=0.6\"]\n",
    "colors = [\"blue\",\"green\",\"gold\"]\n",
    "\n",
    "for axi,x in enumerate(n_unique): \n",
    "    axes[axi].hist(x,bins=np.arange(20,50), color=colors[axi],edgecolor=\"white\")\n",
    "    axes[axi].grid(alpha=0.25)\n",
    "    axes[axi].set_xlabel(labels[axi], fontsize=16)"
   ]
  },
  {
   "cell_type": "markdown",
   "metadata": {},
   "source": [
    "**Part C**: Use your calculations in Part A to write down the expected number of successful PCRs, $k$, for each of the three scenarios that you made histograms for in Part B. What do you notice? \n",
    "\n",
    "Then, examine the 3 histograms, and explain the relationship, if any, between the histograms and your expected $k$ calculations."
   ]
  },
  {
   "cell_type": "markdown",
   "metadata": {},
   "source": [
    "**Solution**\n",
    "\n",
    "The expected number of _successful_ PCRS in every case is 48. This is not the same as the number of unique var genes, but nevertheless, in expectation all the sampling should be the same. _However_, the variance increases in each case. This can be seen above in the plots, where you can, for example, note the number of trials in which there are only 25 sequences generated (the size of the bar at $k=25$). For blue, it's 0. For green it's just a handful. For gold, there are more. "
   ]
  },
  {
   "cell_type": "markdown",
   "metadata": {},
   "source": [
    "**Part D**: Lab scientists use what's called a _96-well plate_ to do experiments. A [96-well-plate](https://www.amazon.com/SEOH-Microplates-Well-Non-Sterile-Microchemistry/dp/B0088AR7Y6) is an 8-by-12 grid of little wells in which independent experiments can be conducted. Professor Amy Ferguson is wondering whether to dedicate a whole plate ($r=96$ independent PCR replicates) or a half plate ($r=48$ independent PCR replicates) to her PCR experiment. Or, she wonders whether she should use a different $r$ altogether. Use your code to simulate and compute answers to the following, assuming $f=0.1$:\n",
    "* In expectation, how many _unique_ genes are produced for $r=48$?\n",
    "* In expectation, how many _unique_ genes are produced for $r=96$?\n",
    "* If $r$ is large, then the chance that $55$ or more <span style=\"color:green\">_unique_</span> genes are sampled will increase. Professor Ferguson needs the probability that $55$ or more <span style=\"color:green\">_unique_</span> genes are sampled to be greater than 95%. What should $r$ be? Support your answer by creating a plot of <span style=\"color:green\">$P(\\text{at-least-55-unique-sampled} \\mid r)$</span> vs $r$."
   ]
  },
  {
   "cell_type": "code",
   "execution_count": 7,
   "metadata": {},
   "outputs": [
    {
     "name": "stdout",
     "output_type": "stream",
     "text": [
      "In expectation, when r=48, there are 30.96 unique genes.\n"
     ]
    }
   ],
   "source": [
    "print('In expectation, when r=48, there are {:.2f} unique genes.'.format(\n",
    "    np.mean([len(draw_pcr_samples(48,0.1,var_repertoire)) for ii in range(100000)])))"
   ]
  },
  {
   "cell_type": "code",
   "execution_count": 8,
   "metadata": {},
   "outputs": [
    {
     "name": "stdout",
     "output_type": "stream",
     "text": [
      "In expectation, when r=96, there are 45.95 unique genes.\n"
     ]
    }
   ],
   "source": [
    "print('In expectation, when r=96, there are {:.2f} unique genes.'.format(\n",
    "    np.mean([len(draw_pcr_samples(96,0.1,var_repertoire)) for ii in range(100000)])))"
   ]
  },
  {
   "cell_type": "code",
   "execution_count": 46,
   "metadata": {},
   "outputs": [
    {
     "data": {
      "image/png": "[encoded data removed]",
      "text/plain": [
       "<matplotlib.figure.Figure at 0x10dd80fd0>"
      ]
     },
     "metadata": {},
     "output_type": "display_data"
    }
   ],
   "source": [
    "max_r = 300\n",
    "prob_55_or_more = np.zeros(max_r)\n",
    "for r in range(max_r):\n",
    "    prob_55_or_more[r] = np.mean([(len(draw_pcr_samples(r,0.1,var_repertoire)) >=55) for ii in range(100)])\n",
    "fig, ax = plt.subplots(nrows=1, ncols=1, figsize=(8,6))\n",
    "ax.plot(np.arange(max_r),prob_55_or_more)\n",
    "ax.plot(np.arange(max_r),0.95*np.ones(max_r),'r')\n",
    "ax.set_xlabel(\"r\",FontSize=16)\n",
    "ax.set_ylabel(\"Pr(at least 55 sampled)\",FontSize=16)\n",
    "ax.grid(alpha=0.25)"
   ]
  },
  {
   "cell_type": "markdown",
   "metadata": {},
   "source": [
    "Let's zoom in around $r=200$. "
   ]
  },
  {
   "cell_type": "code",
   "execution_count": 55,
   "metadata": {},
   "outputs": [
    {
     "data": {
      "image/png": "[encoded data removed]",
      "text/plain": [
       "<matplotlib.figure.Figure at 0x10d8fabe0>"
      ]
     },
     "metadata": {},
     "output_type": "display_data"
    }
   ],
   "source": [
    "min_r = 198\n",
    "max_r = 203\n",
    "prob_55_or_more = np.zeros(max_r+1)\n",
    "for r in range(max_r+1):\n",
    "    if r < min_r:\n",
    "        continue\n",
    "    else:\n",
    "        prob_55_or_more[r] = np.mean([(len(draw_pcr_samples(r,0.1,var_repertoire)) >=55) for ii in range(100000)])\n",
    "fig, ax = plt.subplots(nrows=1, ncols=1, figsize=(8,6))\n",
    "ax.plot(np.arange(max_r+1),prob_55_or_more)\n",
    "ax.plot(np.arange(max_r+1),0.95*np.ones(max_r+1),'r')\n",
    "ax.set_xlim([min_r,max_r])\n",
    "ax.set_ylim([0.93,0.97])\n",
    "ax.set_xlabel(\"r\",FontSize=16)\n",
    "ax.set_ylabel(\"Pr(at least 55 sampled)\",FontSize=16)\n",
    "ax.grid(alpha=0.25)"
   ]
  },
  {
   "cell_type": "markdown",
   "metadata": {},
   "source": [
    "Looks like we should recommend $r=203$."
   ]
  },
  {
   "cell_type": "markdown",
   "metadata": {},
   "source": [
    "**Part E**: Bills, bills, bills. Professory Amy Ferguson has a decision to make about her lab budget. Here are some numbers:\n",
    "\n",
    "* Each 96-well plate costs \\$5 to buy. \n",
    "* The cheap PCR reagents cost $c=$\\$0.05 per well and fail with probability $f=0.3$.\n",
    "* The expensive PCR reagents cost $c=$\\$0.10 per well and fail with probability $f=0.1$.\n",
    "* The premium PCR reagents cost $c=$\\$0.20 per well and fail with probability $f=0.05$.\n",
    "\n",
    "Amy needs at least 50 unique sequences from a particular parasite genome for her experiment to be considered a success. She also knows that this whole PCR thing is a stochastic process, so while she might get 50 unique sequences in just $r=50$ attempts, that's going to be pretty rare. Still, increasing $r$ will increase the probability of success, i.e. of getting $\\geq50$ unique sequences. \n",
    "\n",
    "Turns out, she needs to succeed with probability of at least 0.95. She could achieve this using the cheap reagents, the expensive reagents, or the premium reagents. Naturally, she'd need to buy more of the cheaper reagents, but... the tradeoff isn't clear. \n",
    "\n",
    "Help! Which reagents should she choose? State your answer clearly as a recommendation, and explain why you recommend that. Use figures and calculations as necessary to support your case.\n",
    "\n",
    "You may assume:\n",
    "* A 96-well plate costs \\$5 even if fewer than 96 of the wells are actually used. For example, using 97 wells costs \\$10, since it uses two plates.\n",
    "* Reagents are billed on a per-well basis, not on a per-plate basis.\n",
    "* The goal is to sample 50 or more unique sequences 95\\% of the time or greater, but for as little money as possible."
   ]
  },
  {
   "cell_type": "code",
   "execution_count": 29,
   "metadata": {},
   "outputs": [
    {
     "name": "stdout",
     "output_type": "stream",
     "text": [
      "Reagent set 0 with r=188 succeeds w.p. 0.9554 and costs 19.40\n",
      "Reagent set 1 with r=144 succeeds w.p. 0.9542 and costs 24.40\n",
      "Reagent set 2 with r=137 succeeds w.p. 0.9583 and costs 37.40\n"
     ]
    }
   ],
   "source": [
    "# Hmmm. Let's write a function that empirically tells us the probability that we get ≥50 samples\n",
    "def get_fraction_geq_x(r,f,n_draws,x=50):\n",
    "    return np.mean([(len(draw_pcr_samples(r,f,var_repertoire)) >=x) for ii in range(n_draws)])\n",
    "\n",
    "fvals = np.array([0.3,0.1,0.05])\n",
    "rvals = np.array([188,144,137]) # I kept rerunning the code and changing these numbers till I got 0.95, 0.95, 0.95\n",
    "pcr_cost = np.array([0.05,0.1,0.2])\n",
    "for idx,f in enumerate(fvals):\n",
    "    r = rvals[idx]\n",
    "    prob = get_fraction_geq_x(r,f,n_draws=10000,x=50)\n",
    "    cost = r*pcr_cost[idx] + 5*np.ceil(r/96)\n",
    "    print(\"Reagent set {} with r={} succeeds w.p. {:.4f} and costs {:.2f}\".format(idx,r,prob,cost))"
   ]
  },
  {
   "cell_type": "markdown",
   "metadata": {},
   "source": [
    "Based on the above, it's clear that we should use the cheaper reagents!"
   ]
  },
  {
   "cell_type": "markdown",
   "metadata": {},
   "source": [
    "### [35 points] Problem 2: Parental Leave\n",
    "***\n",
    "\n",
    "The file `leave.tsv` is in the data folder. It contains information on paid parental leave policies for US and Canadian institutions for tenure-track professors. \n",
    "\n",
    "Answer the following questions and provide both _pseudocode_ and code for each question. In other words, in a #comment, explain what your code is doing in each step, and give the reader a hint why. (This is what we mean by pseudocode.)  Then, provide the code that answers the question. \n",
    "\n",
    "Note that `pandas` is your friend here. Also, note that the researchers may have coded missing data in a variety of ways, so you'll need to explore the file to learn what those are. "
   ]
  },
  {
   "cell_type": "markdown",
   "metadata": {},
   "source": [
    "**Part A**: Figure out what a `.tsv` file is and how to load it in using `pandas`. Call your dataframe `dfLeave`."
   ]
  },
  {
   "cell_type": "code",
   "execution_count": 23,
   "metadata": {},
   "outputs": [
    {
     "data": {
      "text/html": [
       "<div>\n",
       "<style scoped>\n",
       "    .dataframe tbody tr th:only-of-type {\n",
       "        vertical-align: middle;\n",
       "    }\n",
       "\n",
       "    .dataframe tbody tr th {\n",
       "        vertical-align: top;\n",
       "    }\n",
       "\n",
       "    .dataframe thead th {\n",
       "        text-align: right;\n",
       "    }\n",
       "</style>\n",
       "<table border=\"1\" class=\"dataframe\">\n",
       "  <thead>\n",
       "    <tr style=\"text-align: right;\">\n",
       "      <th></th>\n",
       "      <th>university_name</th>\n",
       "      <th>short_name</th>\n",
       "      <th>is_private</th>\n",
       "      <th>rank</th>\n",
       "      <th>rank_ind</th>\n",
       "      <th>census_region</th>\n",
       "      <th>missing</th>\n",
       "      <th>paid_leave_len_woman</th>\n",
       "      <th>paid_leave_len_woman_units</th>\n",
       "      <th>paid_leave_weeks_woman</th>\n",
       "      <th>relief_woman</th>\n",
       "      <th>paid_leave_len_man</th>\n",
       "      <th>paid_leave_len_man_units</th>\n",
       "      <th>paid_leave_weeks_man</th>\n",
       "      <th>relief_man</th>\n",
       "      <th>link</th>\n",
       "      <th>notes</th>\n",
       "      <th>date</th>\n",
       "    </tr>\n",
       "  </thead>\n",
       "  <tbody>\n",
       "    <tr>\n",
       "      <th>0</th>\n",
       "      <td>Arizona State University</td>\n",
       "      <td>Arizona State</td>\n",
       "      <td>0</td>\n",
       "      <td>108.72</td>\n",
       "      <td>101</td>\n",
       "      <td>West</td>\n",
       "      <td>0</td>\n",
       "      <td>6.0</td>\n",
       "      <td>week</td>\n",
       "      <td>6.0</td>\n",
       "      <td>Not specified</td>\n",
       "      <td>6.0</td>\n",
       "      <td>week</td>\n",
       "      <td>6.0</td>\n",
       "      <td>Not specified</td>\n",
       "      <td>https://provost.asu.edu/academic-personnel/par...</td>\n",
       "      <td>.</td>\n",
       "      <td>2/22/18</td>\n",
       "    </tr>\n",
       "    <tr>\n",
       "      <th>1</th>\n",
       "      <td>Auburn University</td>\n",
       "      <td>Auburn</td>\n",
       "      <td>0</td>\n",
       "      <td>126.69</td>\n",
       "      <td>122</td>\n",
       "      <td>South</td>\n",
       "      <td>0</td>\n",
       "      <td>0.0</td>\n",
       "      <td>NaN</td>\n",
       "      <td>0.0</td>\n",
       "      <td>NaN</td>\n",
       "      <td>0.0</td>\n",
       "      <td>NaN</td>\n",
       "      <td>0.0</td>\n",
       "      <td>NaN</td>\n",
       "      <td>https://cws.auburn.edu/shared/content/files/85/</td>\n",
       "      <td>FMLA</td>\n",
       "      <td>2/22/18</td>\n",
       "    </tr>\n",
       "    <tr>\n",
       "      <th>2</th>\n",
       "      <td>Boston University</td>\n",
       "      <td>Boston</td>\n",
       "      <td>1</td>\n",
       "      <td>51.73</td>\n",
       "      <td>44</td>\n",
       "      <td>Northeast</td>\n",
       "      <td>0</td>\n",
       "      <td>1.0</td>\n",
       "      <td>term</td>\n",
       "      <td>14.0</td>\n",
       "      <td>Other</td>\n",
       "      <td>1.0</td>\n",
       "      <td>term</td>\n",
       "      <td>14.0</td>\n",
       "      <td>Other</td>\n",
       "      <td>https://www.bu.edu/handbook/leaves-absences/fa...</td>\n",
       "      <td>Full semester for either parent, relief is FUL...</td>\n",
       "      <td>2/22/18</td>\n",
       "    </tr>\n",
       "    <tr>\n",
       "      <th>3</th>\n",
       "      <td>Brandeis University</td>\n",
       "      <td>Brandeis</td>\n",
       "      <td>1</td>\n",
       "      <td>84.55</td>\n",
       "      <td>78</td>\n",
       "      <td>Northeast</td>\n",
       "      <td>0</td>\n",
       "      <td>12.0</td>\n",
       "      <td>week</td>\n",
       "      <td>12.0</td>\n",
       "      <td>Not specified</td>\n",
       "      <td>12.0</td>\n",
       "      <td>week</td>\n",
       "      <td>12.0</td>\n",
       "      <td>Not specified</td>\n",
       "      <td>https://www.brandeis.edu/humanresources/docume...</td>\n",
       "      <td>.</td>\n",
       "      <td>2/22/18</td>\n",
       "    </tr>\n",
       "    <tr>\n",
       "      <th>4</th>\n",
       "      <td>Brigham Young University</td>\n",
       "      <td>Brigham Young</td>\n",
       "      <td>1</td>\n",
       "      <td>166.53</td>\n",
       "      <td>180</td>\n",
       "      <td>West</td>\n",
       "      <td>1</td>\n",
       "      <td>NaN</td>\n",
       "      <td>NaN</td>\n",
       "      <td>NaN</td>\n",
       "      <td>NaN</td>\n",
       "      <td>NaN</td>\n",
       "      <td>NaN</td>\n",
       "      <td>NaN</td>\n",
       "      <td>NaN</td>\n",
       "      <td>Not publicly accessible</td>\n",
       "      <td>Staff leave is 6wk</td>\n",
       "      <td>2/22/18</td>\n",
       "    </tr>\n",
       "  </tbody>\n",
       "</table>\n",
       "</div>"
      ],
      "text/plain": [
       "            university_name     short_name  is_private    rank  rank_ind  \\\n",
       "0  Arizona State University  Arizona State           0  108.72       101   \n",
       "1         Auburn University         Auburn           0  126.69       122   \n",
       "2         Boston University         Boston           1   51.73        44   \n",
       "3       Brandeis University       Brandeis           1   84.55        78   \n",
       "4  Brigham Young University  Brigham Young           1  166.53       180   \n",
       "\n",
       "  census_region  missing  paid_leave_len_woman paid_leave_len_woman_units  \\\n",
       "0          West        0                   6.0                       week   \n",
       "1         South        0                   0.0                        NaN   \n",
       "2     Northeast        0                   1.0                       term   \n",
       "3     Northeast        0                  12.0                       week   \n",
       "4          West        1                   NaN                        NaN   \n",
       "\n",
       "   paid_leave_weeks_woman   relief_woman  paid_leave_len_man  \\\n",
       "0                     6.0  Not specified                 6.0   \n",
       "1                     0.0            NaN                 0.0   \n",
       "2                    14.0          Other                 1.0   \n",
       "3                    12.0  Not specified                12.0   \n",
       "4                     NaN            NaN                 NaN   \n",
       "\n",
       "  paid_leave_len_man_units  paid_leave_weeks_man     relief_man  \\\n",
       "0                     week                   6.0  Not specified   \n",
       "1                      NaN                   0.0            NaN   \n",
       "2                     term                  14.0          Other   \n",
       "3                     week                  12.0  Not specified   \n",
       "4                      NaN                   NaN            NaN   \n",
       "\n",
       "                                                link  \\\n",
       "0  https://provost.asu.edu/academic-personnel/par...   \n",
       "1    https://cws.auburn.edu/shared/content/files/85/   \n",
       "2  https://www.bu.edu/handbook/leaves-absences/fa...   \n",
       "3  https://www.brandeis.edu/humanresources/docume...   \n",
       "4                            Not publicly accessible   \n",
       "\n",
       "                                               notes     date  \n",
       "0                                                  .  2/22/18  \n",
       "1                                               FMLA  2/22/18  \n",
       "2  Full semester for either parent, relief is FUL...  2/22/18  \n",
       "3                                                  .  2/22/18  \n",
       "4                                 Staff leave is 6wk  2/22/18  "
      ]
     },
     "execution_count": 23,
     "metadata": {},
     "output_type": "execute_result"
    }
   ],
   "source": [
    "dfLeave = pd.read_csv('data/leave.tsv',delimiter='\\t',encoding='utf-8')\n",
    "dfLeave.head()"
   ]
  },
  {
   "cell_type": "markdown",
   "metadata": {},
   "source": [
    "**Part B**: Answer the following summary questions:\n",
    "* How many institutions are in the dataset? \n",
    "* How many actually have parental leave data in the `paid_leave_len_woman` column? \n",
    "* How many private institutions are there? \n",
    "* How many institutions have a note associated with them?"
   ]
  },
  {
   "cell_type": "code",
   "execution_count": 24,
   "metadata": {},
   "outputs": [
    {
     "name": "stdout",
     "output_type": "stream",
     "text": [
      "There are 205 institutions.\n"
     ]
    }
   ],
   "source": [
    "n_inst = len(dfLeave)\n",
    "print('There are {} institutions.'.format(n_inst))"
   ]
  },
  {
   "cell_type": "code",
   "execution_count": 25,
   "metadata": {},
   "outputs": [
    {
     "name": "stdout",
     "output_type": "stream",
     "text": [
      "There are 197 institutions with leave data in the paid_leave_len_woman column.\n"
     ]
    }
   ],
   "source": [
    "n_data = len(dfLeave[\"paid_leave_len_woman\"].dropna())\n",
    "print('There are {} institutions with leave data in the paid_leave_len_woman column.'.format(n_data))"
   ]
  },
  {
   "cell_type": "code",
   "execution_count": 26,
   "metadata": {},
   "outputs": [
    {
     "name": "stdout",
     "output_type": "stream",
     "text": [
      "There are 53 private institutions.\n"
     ]
    }
   ],
   "source": [
    "n_priv = dfLeave[\"is_private\"].sum()\n",
    "print('There are {} private institutions.'.format(n_priv))"
   ]
  },
  {
   "cell_type": "code",
   "execution_count": 27,
   "metadata": {},
   "outputs": [
    {
     "name": "stdout",
     "output_type": "stream",
     "text": [
      "There are 174 institutions with notes.\n"
     ]
    }
   ],
   "source": [
    "# inspecting dfLeave[\"notes\"] (or the file itself) reveals that no notes are coded as \".\"\n",
    "n_notes = n_inst - np.sum(dfLeave[\"notes\"]=='.')\n",
    "print('There are {} institutions with notes.'.format(n_notes))"
   ]
  },
  {
   "cell_type": "markdown",
   "metadata": {},
   "source": [
    "**Part C**: Is there statistical evidence at the $\\alpha=0.05$ level that public and private institutions have different average paid parental leave durations? Answer the question separately for men and for women. Note that the researchers have conveniently included a column that converts durations into weeks. "
   ]
  },
  {
   "cell_type": "code",
   "execution_count": 28,
   "metadata": {},
   "outputs": [
    {
     "data": {
      "text/plain": [
       "197"
      ]
     },
     "execution_count": 28,
     "metadata": {},
     "output_type": "execute_result"
    }
   ],
   "source": [
    "# drop missing data\n",
    "# dfPassengers.drop(dfPassengers.index[[0]])\n",
    "dfClean = dfLeave.drop(dfLeave.index[dfLeave[\"missing\"]==1])\n",
    "len(dfClean)\n",
    "# yay 197. story checks out."
   ]
  },
  {
   "cell_type": "code",
   "execution_count": 29,
   "metadata": {},
   "outputs": [],
   "source": [
    "# slice and dice to get the values.\n",
    "priv_women = dfClean.loc[dfClean[\"is_private\"]==1,\"paid_leave_weeks_woman\"]\n",
    "priv_men = dfClean.loc[dfClean[\"is_private\"]==1,\"paid_leave_weeks_man\"]\n",
    "pub_women = dfClean.loc[dfClean[\"is_private\"]==0,\"paid_leave_weeks_woman\"]\n",
    "pub_men = dfClean.loc[dfClean[\"is_private\"]==0,\"paid_leave_weeks_man\"]"
   ]
  },
  {
   "cell_type": "markdown",
   "metadata": {},
   "source": [
    "**CI Solution**"
   ]
  },
  {
   "cell_type": "code",
   "execution_count": 30,
   "metadata": {},
   "outputs": [
    {
     "name": "stdout",
     "output_type": "stream",
     "text": [
      "Private Women \t[8.74,12.31]\n",
      "Public Women \t[6.55,9.85]\n",
      "Private Men \t[7.01,10.82]\n",
      "Public Men \t[4.85,7.46]\n"
     ]
    }
   ],
   "source": [
    "# put em in a list\n",
    "datasets = [priv_women,pub_women,priv_men,pub_men]\n",
    "# useful names\n",
    "names = ['Private Women','Public Women', 'Private Men', 'Public Men']\n",
    "# Confidence intervals\n",
    "for idx,x in enumerate(datasets):\n",
    "    xbar = x.mean()\n",
    "    se = np.sqrt(x.var(ddof=1))\n",
    "    n = len(x) # all n are > 30... use CLT\n",
    "    zalphaovertwo = stats.norm.ppf(1-0.025)\n",
    "    L = xbar - zalphaovertwo*(se/np.sqrt(n))\n",
    "    U = xbar + zalphaovertwo*(se/np.sqrt(n))\n",
    "    print(names[idx],'\\t[{:.2f},{:.2f}]'.format(L,U))"
   ]
  },
  {
   "cell_type": "markdown",
   "metadata": {},
   "source": [
    "We can't draw conclusions. While we can REJECT a null hypothesis due to nonoverlapping CIs... these results are ambiguous. See next cell for the CORRECT approach."
   ]
  },
  {
   "cell_type": "code",
   "execution_count": 31,
   "metadata": {
    "scrolled": true
   },
   "outputs": [
    {
     "name": "stdout",
     "output_type": "stream",
     "text": [
      "Women\t[-0.11,4.75]\n",
      "Men\t[0.45,5.07]\n"
     ]
    }
   ],
   "source": [
    "# CI for difference of means.\n",
    "\n",
    "# women\n",
    "xbar = priv_women.mean() - pub_women.mean()\n",
    "se = np.sqrt(priv_women.var(ddof=1)/len(priv_women) + pub_women.var(ddof=1)/len(pub_women))\n",
    "zalphaover2 = stats.norm.ppf(1-0.05/2)\n",
    "L = xbar - zalphaovertwo*se\n",
    "U = xbar + zalphaovertwo*se\n",
    "print('Women\\t[{:.2f},{:.2f}]'.format(L,U))\n",
    "\n",
    "# men\n",
    "xbar = priv_men.mean() - pub_men.mean()\n",
    "se = np.sqrt(priv_men.var(ddof=1)/len(priv_men) + pub_men.var(ddof=1)/len(pub_men))\n",
    "L = xbar - zalphaovertwo*se\n",
    "U = xbar + zalphaovertwo*se\n",
    "print('Men\\t[{:.2f},{:.2f}]'.format(L,U))"
   ]
  },
  {
   "cell_type": "markdown",
   "metadata": {},
   "source": [
    "The women's CI includes zero. But the men's does not. The men are statistically significantly different at public vs private.  "
   ]
  },
  {
   "cell_type": "markdown",
   "metadata": {},
   "source": [
    "** p-value / z-test Solution **"
   ]
  },
  {
   "cell_type": "code",
   "execution_count": 32,
   "metadata": {},
   "outputs": [
    {
     "name": "stdout",
     "output_type": "stream",
     "text": [
      "p-val women:\t 0.0614\n",
      "|z| women:\t 1.8707\n",
      "p-val men:\t 0.0190\n",
      "|z| men:\t 2.3446\n",
      "\n",
      "\n",
      "alpha = 0.05 and z_crit = 1.9600\n"
     ]
    }
   ],
   "source": [
    "# p-value test for difference of means.\n",
    "\n",
    "# women\n",
    "xbar = priv_women.mean() - pub_women.mean()\n",
    "se = np.sqrt(priv_women.var(ddof=1)/len(priv_women) + pub_women.var(ddof=1)/len(pub_women))\n",
    "z = (xbar-0)/se\n",
    "pval = 2*stats.norm.cdf(-np.abs(z))\n",
    "print('p-val women:\\t {:.4f}'.format(pval))\n",
    "print('|z| women:\\t {:.4f}'.format(np.abs(z)))\n",
    "\n",
    "# men\n",
    "xbar = priv_men.mean() - pub_men.mean()\n",
    "se = np.sqrt(priv_men.var(ddof=1)/len(priv_men) + pub_men.var(ddof=1)/len(pub_men))\n",
    "z = (xbar-0)/se\n",
    "pval = 2*stats.norm.cdf(-np.abs(z))\n",
    "print('p-val men:\\t {:.4f}'.format(pval))\n",
    "print('|z| men:\\t {:.4f}\\n'.format(np.abs(z)))\n",
    "\n",
    "\n",
    "print('\\nalpha = 0.05 and z_crit = {:.4f}'.format(stats.norm.ppf(1-0.05/2)))"
   ]
  },
  {
   "cell_type": "markdown",
   "metadata": {},
   "source": [
    "We can reject the null hypothesis for men, but not for women. "
   ]
  },
  {
   "cell_type": "markdown",
   "metadata": {},
   "source": [
    "**Part D**: Some institutions provide zero weeks of paid parental leave. For each `census_region` in the dataset, create a 95% confidence interval for the _proportion of universities that offer zero paid parental leave to their professors_. <span style=\"color:red\">Since a policy may offer paid parental leave to men, women, both, or neither, please consider a policy that offers any paid parental leave to men _or_ women _or_ both to qualify as non-zero paid parental leave. For example, a university that offers women 6 weeks and men 0 weeks _does_ qualify as a non-zero paid parental leave policy</span>. Based on your observations, is there evidence that policies vary significantly by census region? \n",
    "\n",
    "Please note that the number of data points varies from one census region to another, and therefore, different methods may be required to compute confidence intervals for the proportions in different census regions. _Clearly_ state which methods were used to create each confidence interval.\n",
    "\n",
    "For clarity, please plot your confidence intervals as vertical bars in a single plot. From left to right, please plot in the order `Canada`, `Northeast`, `Midwest`,`South`, `West`."
   ]
  },
  {
   "cell_type": "code",
   "execution_count": 33,
   "metadata": {},
   "outputs": [
    {
     "name": "stdout",
     "output_type": "stream",
     "text": [
      "Canada n=19\n",
      "Northeast n=44\n",
      "Midwest n=38\n",
      "South n=58\n",
      "West n=38\n"
     ]
    }
   ],
   "source": [
    "regions = [\"Canada\",\"Northeast\",\"Midwest\",\"South\",\"West\"]\n",
    "for reg in regions:\n",
    "    dfReg = dfClean.loc[dfClean[\"census_region\"]==reg,[\"paid_leave_weeks_woman\",\"paid_leave_weeks_man\"]]\n",
    "    print(reg,'n={}'.format(len(dfReg)))"
   ]
  },
  {
   "cell_type": "markdown",
   "metadata": {},
   "source": [
    "Looks like we'll need to bootstrap a CI for Canada since n=19 and the data are not normal. We can use the CLT to get CIs for the others OR we could bootstrap."
   ]
  },
  {
   "cell_type": "code",
   "execution_count": 34,
   "metadata": {},
   "outputs": [],
   "source": [
    "# data in x\n",
    "def boots_p(x,n_resamples=100000,alpha=0.05):\n",
    "    n = len(x)\n",
    "    p = np.zeros(n_resamples)\n",
    "    for ii in np.arange(n_resamples):\n",
    "        y = np.random.choice(x,size=n)\n",
    "        p[ii] = np.sum(y==0)/n\n",
    "    return [np.percentile(p,100*alpha/2),np.percentile(p,100*(1-alpha/2))]"
   ]
  },
  {
   "cell_type": "code",
   "execution_count": 35,
   "metadata": {},
   "outputs": [
    {
     "name": "stdout",
     "output_type": "stream",
     "text": [
      "[0.000,0.316]\tCanada\n",
      "[0.161,0.430]\tNortheast\n",
      "[0.264,0.578]\tMidwest\n",
      "[0.424,0.680]\tSouth\n",
      "[0.168,0.464]\tWest\n"
     ]
    }
   ],
   "source": [
    "alpha = 0.05\n",
    "CIs = {}\n",
    "for reg in regions:\n",
    "    dfReg = dfClean.loc[dfClean[\"census_region\"]==reg,[\"paid_leave_weeks_woman\",\"paid_leave_weeks_man\"]]\n",
    "    x = dfReg[\"paid_leave_weeks_man\"]+dfReg[\"paid_leave_weeks_woman\"]\n",
    "    n = len(x)\n",
    "    if n > 30:\n",
    "        #CLT\n",
    "        p = np.sum(x==0)/n\n",
    "        CIs[reg] = [p-stats.norm.ppf(1-alpha/2)*np.sqrt(p*(1-p)/n), p+stats.norm.ppf(1-alpha/2)*np.sqrt(p*(1-p)/n)]\n",
    "    else:\n",
    "        #bootstrap (coded above)\n",
    "        CIs[reg] = boots_p(x)\n",
    "\n",
    "for key in CIs:\n",
    "    print(\"[{:.3f},{:.3f}]\\t{}\".format(CIs[key][0],CIs[key][1],key))"
   ]
  },
  {
   "cell_type": "code",
   "execution_count": 46,
   "metadata": {},
   "outputs": [
    {
     "data": {
      "image/png": "[encoded data removed]",
      "text/plain": [
       "<matplotlib.figure.Figure at 0x10a89bf60>"
      ]
     },
     "metadata": {},
     "output_type": "display_data"
    }
   ],
   "source": [
    "fig, ax = plt.subplots(nrows=1, ncols=1, figsize=(7,5))\n",
    "for ii,reg in enumerate(CIs):\n",
    "    ax.plot([ii,ii],CIs[reg])\n",
    "ax.set_xticks(np.arange(5))\n",
    "ax.set_xticklabels(regions,fontSize=16)\n",
    "ax.set_ylim([-0.1,0.7])\n",
    "ax.set_ylabel('Proportion of Univs. w/ zero leave',fontSize=16)\n",
    "ax.yaxis.grid(alpha)"
   ]
  },
  {
   "cell_type": "markdown",
   "metadata": {},
   "source": [
    "Since some of these confidence intervals do not overlap, we can conclude that there is indeed variation by region."
   ]
  },
  {
   "cell_type": "markdown",
   "metadata": {},
   "source": [
    "### [30 points] Problem 3: Multiple Linear Otter-gression \n",
    "***\n",
    "\n",
    "After years of study and professional development, you have finally landed your dream job as lead otter scientist.  As your first project, you wish to use multiple linear regression to understand and predict what makes otters Instagrammable, as measured during many observations of otters, conducted by students.  Luckily, your predecessor has collected lots of data that might prove relevant.  You'll find this data in the file `otters.csv`. \n",
    "\n",
    "**Response**: \n",
    "\n",
    "- $\\texttt{instagrammability}$: The instagrammability of a particular otter, measured by a complicated formula involving likes, comments, DMs, reposts, and new followers.\n",
    "\n",
    "**Features**: \n",
    "\n",
    "- $\\texttt{urchin color}$: the depth of color of the urchins nearby, measured in Wongs. \n",
    "- $\\texttt{fur fluff}$: the fluff factor of the otter's fur, measured in Ketelsens.\n",
    "- $\\texttt{adorbz}$: unknown variable. The students keep writing it down. Units unknown.\n",
    "- $\\texttt{temp}$: the outside temperature, measured in degrees Fahrenheit \n",
    "- $\\texttt{majesty}$: the majesty of this particular otter in this particular photo, measured as a fraction of maximum majesty (between 0 and 1). \n",
    "- $\\texttt{observer GPA}$: the GPA of the student who recorded the data.\n",
    "- $\\texttt{paw size}$: measured as some kind of deviation away from the median paw size. Units unknown.\n",
    "- $\\texttt{paw grip}$: grip strength of paw (estimated) measured in Grochows. \n",
    "- $\\texttt{ice cream sold}$: the number of units of ice cream sold at the concession stand \n",
    "- $\\texttt{shark attacks}$: the number of shark attacks at the Boulder Res on the day of observation\n"
   ]
  },
  {
   "cell_type": "markdown",
   "metadata": {},
   "source": [
    "**Part A**: Read the data from **otters.csv** into a Pandas DataFrame and clean the data.  Note that since we will be doing a multiple linear regression we will need all of the features, so you should drop any row in the DataFrame that is missing data.  "
   ]
  },
  {
   "cell_type": "code",
   "execution_count": 188,
   "metadata": {},
   "outputs": [
    {
     "data": {
      "text/html": [
       "<div>\n",
       "<style scoped>\n",
       "    .dataframe tbody tr th:only-of-type {\n",
       "        vertical-align: middle;\n",
       "    }\n",
       "\n",
       "    .dataframe tbody tr th {\n",
       "        vertical-align: top;\n",
       "    }\n",
       "\n",
       "    .dataframe thead th {\n",
       "        text-align: right;\n",
       "    }\n",
       "</style>\n",
       "<table border=\"1\" class=\"dataframe\">\n",
       "  <thead>\n",
       "    <tr style=\"text-align: right;\">\n",
       "      <th></th>\n",
       "      <th>instagrammability</th>\n",
       "      <th>urchin color</th>\n",
       "      <th>fur fluff</th>\n",
       "      <th>adorbz</th>\n",
       "      <th>temp</th>\n",
       "      <th>majesty</th>\n",
       "      <th>observer GPA</th>\n",
       "      <th>paw size</th>\n",
       "      <th>paw grip</th>\n",
       "      <th>ice cream sold</th>\n",
       "      <th>shark attacks</th>\n",
       "    </tr>\n",
       "  </thead>\n",
       "  <tbody>\n",
       "    <tr>\n",
       "      <th>0</th>\n",
       "      <td>138.70</td>\n",
       "      <td>89.1</td>\n",
       "      <td>6.8</td>\n",
       "      <td>263.0</td>\n",
       "      <td>62.0</td>\n",
       "      <td>1.00</td>\n",
       "      <td>2.04</td>\n",
       "      <td>0.0</td>\n",
       "      <td>25.0</td>\n",
       "      <td>196.0</td>\n",
       "      <td>3.0</td>\n",
       "    </tr>\n",
       "    <tr>\n",
       "      <th>1</th>\n",
       "      <td>121.87</td>\n",
       "      <td>93.4</td>\n",
       "      <td>8.0</td>\n",
       "      <td>264.0</td>\n",
       "      <td>63.0</td>\n",
       "      <td>1.00</td>\n",
       "      <td>2.69</td>\n",
       "      <td>-4.0</td>\n",
       "      <td>21.0</td>\n",
       "      <td>189.0</td>\n",
       "      <td>1.0</td>\n",
       "    </tr>\n",
       "    <tr>\n",
       "      <th>2</th>\n",
       "      <td>117.31</td>\n",
       "      <td>85.9</td>\n",
       "      <td>7.6</td>\n",
       "      <td>243.0</td>\n",
       "      <td>55.0</td>\n",
       "      <td>0.84</td>\n",
       "      <td>3.17</td>\n",
       "      <td>-2.0</td>\n",
       "      <td>11.0</td>\n",
       "      <td>219.0</td>\n",
       "      <td>0.0</td>\n",
       "    </tr>\n",
       "    <tr>\n",
       "      <th>3</th>\n",
       "      <td>80.69</td>\n",
       "      <td>89.1</td>\n",
       "      <td>6.0</td>\n",
       "      <td>260.0</td>\n",
       "      <td>52.0</td>\n",
       "      <td>0.73</td>\n",
       "      <td>2.13</td>\n",
       "      <td>-13.0</td>\n",
       "      <td>107.0</td>\n",
       "      <td>101.0</td>\n",
       "      <td>0.0</td>\n",
       "    </tr>\n",
       "    <tr>\n",
       "      <th>4</th>\n",
       "      <td>127.52</td>\n",
       "      <td>94.6</td>\n",
       "      <td>8.1</td>\n",
       "      <td>251.0</td>\n",
       "      <td>57.0</td>\n",
       "      <td>0.89</td>\n",
       "      <td>2.40</td>\n",
       "      <td>-6.0</td>\n",
       "      <td>43.0</td>\n",
       "      <td>186.0</td>\n",
       "      <td>0.0</td>\n",
       "    </tr>\n",
       "  </tbody>\n",
       "</table>\n",
       "</div>"
      ],
      "text/plain": [
       "   instagrammability  urchin color  fur fluff  adorbz  temp  majesty  \\\n",
       "0             138.70          89.1        6.8   263.0  62.0     1.00   \n",
       "1             121.87          93.4        8.0   264.0  63.0     1.00   \n",
       "2             117.31          85.9        7.6   243.0  55.0     0.84   \n",
       "3              80.69          89.1        6.0   260.0  52.0     0.73   \n",
       "4             127.52          94.6        8.1   251.0  57.0     0.89   \n",
       "\n",
       "   observer GPA  paw size  paw grip  ice cream sold  shark attacks  \n",
       "0          2.04       0.0      25.0           196.0            3.0  \n",
       "1          2.69      -4.0      21.0           189.0            1.0  \n",
       "2          3.17      -2.0      11.0           219.0            0.0  \n",
       "3          2.13     -13.0     107.0           101.0            0.0  \n",
       "4          2.40      -6.0      43.0           186.0            0.0  "
      ]
     },
     "execution_count": 188,
     "metadata": {},
     "output_type": "execute_result"
    }
   ],
   "source": [
    "dfR = pd.read_csv(\"data/otters.csv\")\n",
    "dfR = dfR.dropna()\n",
    "\n",
    "def nums_only(s):\n",
    "    return float(''.join(c for c in s if (c.isdigit() or c==\".\")))\n",
    "\n",
    "dfR[\"urchin color\"] = dfR[\"urchin color\"].apply(nums_only)\n",
    "dfR[\"fur fluff\"] = dfR[\"fur fluff\"].apply(nums_only)\n",
    "dfR[\"temp\"] = dfR[\"temp\"].apply(nums_only)\n",
    "dfR.head()"
   ]
  },
  {
   "cell_type": "markdown",
   "metadata": {},
   "source": [
    "**Part B**: Perform the appropriate statistical test at the $\\alpha = 0.05$ significance level to determine if _at least one_ of the features is related to the the response $y$.  Clearly describe your methodology and show all computations in Python. "
   ]
  },
  {
   "cell_type": "markdown",
   "metadata": {},
   "source": [
    "**Solution**: We perform a full F-test with the hypotheses: \n",
    "\n",
    "$$\n",
    "\\begin{array}{ll}\n",
    "H_0: & \\beta_1 = \\beta_2 = \\ldots = \\beta_{10} = 0  \\\\\n",
    "H_1: & \\beta_k \\neq 0 \\textrm{ for at least one } k=1, \\ldots, 10  \\\\\n",
    "\\end{array}\n",
    "$$\n",
    "\n",
    "Luckily, sm.OLS can perform this test for us.  We have "
   ]
  },
  {
   "cell_type": "code",
   "execution_count": 194,
   "metadata": {},
   "outputs": [
    {
     "data": {
      "text/html": [
       "<table class=\"simpletable\">\n",
       "<caption>OLS Regression Results</caption>\n",
       "<tr>\n",
       "  <th>Dep. Variable:</th>    <td>instagrammability</td> <th>  R-squared:         </th> <td>   0.987</td>\n",
       "</tr>\n",
       "<tr>\n",
       "  <th>Model:</th>                   <td>OLS</td>        <th>  Adj. R-squared:    </th> <td>   0.986</td>\n",
       "</tr>\n",
       "<tr>\n",
       "  <th>Method:</th>             <td>Least Squares</td>   <th>  F-statistic:       </th> <td>   572.2</td>\n",
       "</tr>\n",
       "<tr>\n",
       "  <th>Date:</th>             <td>Wed, 25 Apr 2018</td>  <th>  Prob (F-statistic):</th> <td>8.10e-66</td>\n",
       "</tr>\n",
       "<tr>\n",
       "  <th>Time:</th>                 <td>21:48:24</td>      <th>  Log-Likelihood:    </th> <td> -249.37</td>\n",
       "</tr>\n",
       "<tr>\n",
       "  <th>No. Observations:</th>      <td>    85</td>       <th>  AIC:               </th> <td>   520.7</td>\n",
       "</tr>\n",
       "<tr>\n",
       "  <th>Df Residuals:</th>          <td>    74</td>       <th>  BIC:               </th> <td>   547.6</td>\n",
       "</tr>\n",
       "<tr>\n",
       "  <th>Df Model:</th>              <td>    10</td>       <th>                     </th>     <td> </td>   \n",
       "</tr>\n",
       "<tr>\n",
       "  <th>Covariance Type:</th>      <td>nonrobust</td>     <th>                     </th>     <td> </td>   \n",
       "</tr>\n",
       "</table>\n",
       "<table class=\"simpletable\">\n",
       "<tr>\n",
       "         <td></td>           <th>coef</th>     <th>std err</th>      <th>t</th>      <th>P>|t|</th>  <th>[0.025</th>    <th>0.975]</th>  \n",
       "</tr>\n",
       "<tr>\n",
       "  <th>const</th>          <td>  -35.2765</td> <td>   13.517</td> <td>   -2.610</td> <td> 0.011</td> <td>  -62.210</td> <td>   -8.343</td>\n",
       "</tr>\n",
       "<tr>\n",
       "  <th>urchin color</th>   <td>    0.9940</td> <td>    0.113</td> <td>    8.832</td> <td> 0.000</td> <td>    0.770</td> <td>    1.218</td>\n",
       "</tr>\n",
       "<tr>\n",
       "  <th>fur fluff</th>      <td>    4.0447</td> <td>    0.689</td> <td>    5.868</td> <td> 0.000</td> <td>    2.671</td> <td>    5.418</td>\n",
       "</tr>\n",
       "<tr>\n",
       "  <th>adorbz</th>         <td>    0.4486</td> <td>    0.037</td> <td>   12.183</td> <td> 0.000</td> <td>    0.375</td> <td>    0.522</td>\n",
       "</tr>\n",
       "<tr>\n",
       "  <th>temp</th>           <td>   -0.9955</td> <td>    0.082</td> <td>  -12.181</td> <td> 0.000</td> <td>   -1.158</td> <td>   -0.833</td>\n",
       "</tr>\n",
       "<tr>\n",
       "  <th>majesty</th>        <td>   -2.7631</td> <td>    3.823</td> <td>   -0.723</td> <td> 0.472</td> <td>  -10.380</td> <td>    4.854</td>\n",
       "</tr>\n",
       "<tr>\n",
       "  <th>observer GPA</th>   <td>    0.8343</td> <td>    0.969</td> <td>    0.861</td> <td> 0.392</td> <td>   -1.096</td> <td>    2.765</td>\n",
       "</tr>\n",
       "<tr>\n",
       "  <th>paw size</th>       <td>    5.0875</td> <td>    0.083</td> <td>   61.298</td> <td> 0.000</td> <td>    4.922</td> <td>    5.253</td>\n",
       "</tr>\n",
       "<tr>\n",
       "  <th>paw grip</th>       <td>   -0.0108</td> <td>    0.014</td> <td>   -0.749</td> <td> 0.457</td> <td>   -0.040</td> <td>    0.018</td>\n",
       "</tr>\n",
       "<tr>\n",
       "  <th>ice cream sold</th> <td>    0.0127</td> <td>    0.011</td> <td>    1.121</td> <td> 0.266</td> <td>   -0.010</td> <td>    0.035</td>\n",
       "</tr>\n",
       "<tr>\n",
       "  <th>shark attacks</th>  <td>    0.4050</td> <td>    0.694</td> <td>    0.584</td> <td> 0.561</td> <td>   -0.978</td> <td>    1.788</td>\n",
       "</tr>\n",
       "</table>\n",
       "<table class=\"simpletable\">\n",
       "<tr>\n",
       "  <th>Omnibus:</th>       <td> 0.893</td> <th>  Durbin-Watson:     </th> <td>   2.062</td>\n",
       "</tr>\n",
       "<tr>\n",
       "  <th>Prob(Omnibus):</th> <td> 0.640</td> <th>  Jarque-Bera (JB):  </th> <td>   0.985</td>\n",
       "</tr>\n",
       "<tr>\n",
       "  <th>Skew:</th>          <td> 0.170</td> <th>  Prob(JB):          </th> <td>   0.611</td>\n",
       "</tr>\n",
       "<tr>\n",
       "  <th>Kurtosis:</th>      <td> 2.597</td> <th>  Cond. No.          </th> <td>8.60e+03</td>\n",
       "</tr>\n",
       "</table>"
      ],
      "text/plain": [
       "<class 'statsmodels.iolib.summary.Summary'>\n",
       "\"\"\"\n",
       "                            OLS Regression Results                            \n",
       "==============================================================================\n",
       "Dep. Variable:      instagrammability   R-squared:                       0.987\n",
       "Model:                            OLS   Adj. R-squared:                  0.986\n",
       "Method:                 Least Squares   F-statistic:                     572.2\n",
       "Date:                Wed, 25 Apr 2018   Prob (F-statistic):           8.10e-66\n",
       "Time:                        21:48:24   Log-Likelihood:                -249.37\n",
       "No. Observations:                  85   AIC:                             520.7\n",
       "Df Residuals:                      74   BIC:                             547.6\n",
       "Df Model:                          10                                         \n",
       "Covariance Type:            nonrobust                                         \n",
       "==================================================================================\n",
       "                     coef    std err          t      P>|t|      [0.025      0.975]\n",
       "----------------------------------------------------------------------------------\n",
       "const            -35.2765     13.517     -2.610      0.011     -62.210      -8.343\n",
       "urchin color       0.9940      0.113      8.832      0.000       0.770       1.218\n",
       "fur fluff          4.0447      0.689      5.868      0.000       2.671       5.418\n",
       "adorbz             0.4486      0.037     12.183      0.000       0.375       0.522\n",
       "temp              -0.9955      0.082    -12.181      0.000      -1.158      -0.833\n",
       "majesty           -2.7631      3.823     -0.723      0.472     -10.380       4.854\n",
       "observer GPA       0.8343      0.969      0.861      0.392      -1.096       2.765\n",
       "paw size           5.0875      0.083     61.298      0.000       4.922       5.253\n",
       "paw grip          -0.0108      0.014     -0.749      0.457      -0.040       0.018\n",
       "ice cream sold     0.0127      0.011      1.121      0.266      -0.010       0.035\n",
       "shark attacks      0.4050      0.694      0.584      0.561      -0.978       1.788\n",
       "==============================================================================\n",
       "Omnibus:                        0.893   Durbin-Watson:                   2.062\n",
       "Prob(Omnibus):                  0.640   Jarque-Bera (JB):                0.985\n",
       "Skew:                           0.170   Prob(JB):                        0.611\n",
       "Kurtosis:                       2.597   Cond. No.                     8.60e+03\n",
       "==============================================================================\n",
       "\n",
       "Warnings:\n",
       "[1] Standard Errors assume that the covariance matrix of the errors is correctly specified.\n",
       "[2] The condition number is large, 8.6e+03. This might indicate that there are\n",
       "strong multicollinearity or other numerical problems.\n",
       "\"\"\""
      ]
     },
     "execution_count": 194,
     "metadata": {},
     "output_type": "execute_result"
    }
   ],
   "source": [
    "y = dfR[\"instagrammability\"]\n",
    "X = dfR.loc[:,dfR.columns != \"instagrammability\"]\n",
    "X = sm.add_constant(X)\n",
    "full_model = sm.OLS(y, X).fit()\n",
    "full_model.summary()"
   ]
  },
  {
   "cell_type": "markdown",
   "metadata": {},
   "source": [
    "From the model summary we see that the F-statistic of interest is $F = 648.8$ with an associated p-value of $8.27\\times 10^{-68}$.  Since this is less than $\\alpha = 0.05$ we reject the null hypothesis and conclude that at least one of the provided features is related to the response. "
   ]
  },
  {
   "cell_type": "markdown",
   "metadata": {},
   "source": [
    "**Part C**: Write a function **forward_select**(df, resp_str, maxk) that takes in the DataFrame, the name of the column corresponding to the response, and the max number of desired features, and returns a list of feature names corresponding to the maxk most important features via forward selection.  At each stage in forward selection you should add the feature whose inclusion in the model would result in the lowest sum of squared errors $(SSE)$. Use your function to determine the best $k=5$ features to include in the model. Clearly indicate which feature was added in each stage. \n",
    "\n",
    "**Note**: The point of this exercise is to see if you can implement **foward_select** yourself.  You may of course use canned routines like statmodels OLS, but you may not call any Python method that explicitly performs forward selection. "
   ]
  },
  {
   "cell_type": "code",
   "execution_count": 196,
   "metadata": {},
   "outputs": [
    {
     "name": "stdout",
     "output_type": "stream",
     "text": [
      "Stage 1, added feature: paw size\n",
      "Stage 2, added feature: temp\n",
      "Stage 3, added feature: adorbz\n",
      "Stage 4, added feature: urchin color\n",
      "Stage 5, added feature: fur fluff\n"
     ]
    }
   ],
   "source": [
    "def forward_selection(df, resp_str=\"instagrammability\", maxp=5):\n",
    "    \n",
    "    # set response vector \n",
    "    y = df[resp_str]\n",
    "    \n",
    "    # get potential features \n",
    "    remaining_features = list(df.columns[df.columns != resp_str])\n",
    "    \n",
    "    # initialize good features list \n",
    "    good_features = []\n",
    "    \n",
    "    # perform forward selection \n",
    "    for p in range(maxp):\n",
    "        SSEs = []\n",
    "        for feat in remaining_features:\n",
    "            X = df[good_features + [feat]]\n",
    "            X = sm.add_constant(X)\n",
    "            model = sm.OLS(y, X).fit() \n",
    "            SSEs.append(np.sum((y-model.predict(X))**2))\n",
    "        new_feat = remaining_features[np.argmin(SSEs)]\n",
    "        good_features = good_features + [new_feat]\n",
    "        remaining_features.remove(new_feat)\n",
    "        print(\"Stage {}, added feature: {}\".format(p+1, new_feat))\n",
    "        \n",
    "    return good_features\n",
    "              \n",
    "good_features = forward_selection(dfR, resp_str=\"instagrammability\", maxp=5)"
   ]
  },
  {
   "cell_type": "markdown",
   "metadata": {},
   "source": [
    "**Part D**: Write down the multiple linear regression model, including estimated parameters, obtained by your forward selection process. "
   ]
  },
  {
   "cell_type": "code",
   "execution_count": 198,
   "metadata": {},
   "outputs": [
    {
     "data": {
      "text/html": [
       "<table class=\"simpletable\">\n",
       "<caption>OLS Regression Results</caption>\n",
       "<tr>\n",
       "  <th>Dep. Variable:</th>    <td>instagrammability</td> <th>  R-squared:         </th> <td>   0.987</td>\n",
       "</tr>\n",
       "<tr>\n",
       "  <th>Model:</th>                   <td>OLS</td>        <th>  Adj. R-squared:    </th> <td>   0.986</td>\n",
       "</tr>\n",
       "<tr>\n",
       "  <th>Method:</th>             <td>Least Squares</td>   <th>  F-statistic:       </th> <td>   1172.</td>\n",
       "</tr>\n",
       "<tr>\n",
       "  <th>Date:</th>             <td>Wed, 25 Apr 2018</td>  <th>  Prob (F-statistic):</th> <td>1.49e-72</td>\n",
       "</tr>\n",
       "<tr>\n",
       "  <th>Time:</th>                 <td>21:49:50</td>      <th>  Log-Likelihood:    </th> <td> -251.10</td>\n",
       "</tr>\n",
       "<tr>\n",
       "  <th>No. Observations:</th>      <td>    85</td>       <th>  AIC:               </th> <td>   514.2</td>\n",
       "</tr>\n",
       "<tr>\n",
       "  <th>Df Residuals:</th>          <td>    79</td>       <th>  BIC:               </th> <td>   528.9</td>\n",
       "</tr>\n",
       "<tr>\n",
       "  <th>Df Model:</th>              <td>     5</td>       <th>                     </th>     <td> </td>   \n",
       "</tr>\n",
       "<tr>\n",
       "  <th>Covariance Type:</th>      <td>nonrobust</td>     <th>                     </th>     <td> </td>   \n",
       "</tr>\n",
       "</table>\n",
       "<table class=\"simpletable\">\n",
       "<tr>\n",
       "        <td></td>          <th>coef</th>     <th>std err</th>      <th>t</th>      <th>P>|t|</th>  <th>[0.025</th>    <th>0.975]</th>  \n",
       "</tr>\n",
       "<tr>\n",
       "  <th>const</th>        <td>  -34.7049</td> <td>   12.561</td> <td>   -2.763</td> <td> 0.007</td> <td>  -59.706</td> <td>   -9.704</td>\n",
       "</tr>\n",
       "<tr>\n",
       "  <th>paw size</th>     <td>    5.0980</td> <td>    0.078</td> <td>   65.149</td> <td> 0.000</td> <td>    4.942</td> <td>    5.254</td>\n",
       "</tr>\n",
       "<tr>\n",
       "  <th>temp</th>         <td>   -0.9774</td> <td>    0.031</td> <td>  -31.160</td> <td> 0.000</td> <td>   -1.040</td> <td>   -0.915</td>\n",
       "</tr>\n",
       "<tr>\n",
       "  <th>adorbz</th>       <td>    0.4595</td> <td>    0.034</td> <td>   13.382</td> <td> 0.000</td> <td>    0.391</td> <td>    0.528</td>\n",
       "</tr>\n",
       "<tr>\n",
       "  <th>urchin color</th> <td>    1.0001</td> <td>    0.110</td> <td>    9.132</td> <td> 0.000</td> <td>    0.782</td> <td>    1.218</td>\n",
       "</tr>\n",
       "<tr>\n",
       "  <th>fur fluff</th>    <td>    3.7045</td> <td>    0.639</td> <td>    5.797</td> <td> 0.000</td> <td>    2.433</td> <td>    4.976</td>\n",
       "</tr>\n",
       "</table>\n",
       "<table class=\"simpletable\">\n",
       "<tr>\n",
       "  <th>Omnibus:</th>       <td> 1.019</td> <th>  Durbin-Watson:     </th> <td>   2.103</td>\n",
       "</tr>\n",
       "<tr>\n",
       "  <th>Prob(Omnibus):</th> <td> 0.601</td> <th>  Jarque-Bera (JB):  </th> <td>   1.059</td>\n",
       "</tr>\n",
       "<tr>\n",
       "  <th>Skew:</th>          <td> 0.249</td> <th>  Prob(JB):          </th> <td>   0.589</td>\n",
       "</tr>\n",
       "<tr>\n",
       "  <th>Kurtosis:</th>      <td> 2.776</td> <th>  Cond. No.          </th> <td>6.54e+03</td>\n",
       "</tr>\n",
       "</table>"
      ],
      "text/plain": [
       "<class 'statsmodels.iolib.summary.Summary'>\n",
       "\"\"\"\n",
       "                            OLS Regression Results                            \n",
       "==============================================================================\n",
       "Dep. Variable:      instagrammability   R-squared:                       0.987\n",
       "Model:                            OLS   Adj. R-squared:                  0.986\n",
       "Method:                 Least Squares   F-statistic:                     1172.\n",
       "Date:                Wed, 25 Apr 2018   Prob (F-statistic):           1.49e-72\n",
       "Time:                        21:49:50   Log-Likelihood:                -251.10\n",
       "No. Observations:                  85   AIC:                             514.2\n",
       "Df Residuals:                      79   BIC:                             528.9\n",
       "Df Model:                           5                                         \n",
       "Covariance Type:            nonrobust                                         \n",
       "================================================================================\n",
       "                   coef    std err          t      P>|t|      [0.025      0.975]\n",
       "--------------------------------------------------------------------------------\n",
       "const          -34.7049     12.561     -2.763      0.007     -59.706      -9.704\n",
       "paw size         5.0980      0.078     65.149      0.000       4.942       5.254\n",
       "temp            -0.9774      0.031    -31.160      0.000      -1.040      -0.915\n",
       "adorbz           0.4595      0.034     13.382      0.000       0.391       0.528\n",
       "urchin color     1.0001      0.110      9.132      0.000       0.782       1.218\n",
       "fur fluff        3.7045      0.639      5.797      0.000       2.433       4.976\n",
       "==============================================================================\n",
       "Omnibus:                        1.019   Durbin-Watson:                   2.103\n",
       "Prob(Omnibus):                  0.601   Jarque-Bera (JB):                1.059\n",
       "Skew:                           0.249   Prob(JB):                        0.589\n",
       "Kurtosis:                       2.776   Cond. No.                     6.54e+03\n",
       "==============================================================================\n",
       "\n",
       "Warnings:\n",
       "[1] Standard Errors assume that the covariance matrix of the errors is correctly specified.\n",
       "[2] The condition number is large, 6.54e+03. This might indicate that there are\n",
       "strong multicollinearity or other numerical problems.\n",
       "\"\"\""
      ]
     },
     "execution_count": 198,
     "metadata": {},
     "output_type": "execute_result"
    }
   ],
   "source": [
    "y = dfR[\"instagrammability\"]\n",
    "Xred = dfR.loc[:, good_features]\n",
    "Xred = sm.add_constant(Xred)\n",
    "red_model = sm.OLS(y, Xred).fit()\n",
    "red_model.summary()"
   ]
  },
  {
   "cell_type": "markdown",
   "metadata": {},
   "source": [
    "The obtained reduced model is: \n",
    "\n",
    "$$\n",
    "\\hat{y} =  -34.7 + 5.1\\times\\texttt{paw size} \n",
    "- 0.98\\times\\texttt{temp} \n",
    "+ 0.46\\times\\texttt{adorbz} \n",
    "+ 1.00\\times\\texttt{urchin color} \n",
    "+ 3.70\\times\\texttt{fur fluff} \n",
    "$$"
   ]
  },
  {
   "cell_type": "markdown",
   "metadata": {},
   "source": [
    "**Part E**: Perform the appropriate statistical test at the $\\alpha = 0.05$ significance level to determine whether there is a statistically significant difference between the full model with all features and the reduced model obtained by forward selection in **Part D**. "
   ]
  },
  {
   "cell_type": "markdown",
   "metadata": {},
   "source": [
    "**Solution**: Our null hypothesis is that the true parameters on the features not included in the reduced model are zero.  Our alternate hypothesis is that at least one of the slopes associated with a missing feature is important: \n",
    "\n",
    "$$\n",
    "\\begin{array}{ll}\n",
    "H_0: \\beta_{grip} = \\beta_{ice~cream} = \\beta_{sharks} = \\beta_{majesty} = \\beta_{GPA} = 0 \\\\\n",
    "H_1: \\beta_{k} \\neq 0 \\textrm{ for at least one } k \\in \\{grip, ice~cream, sharks, majesty, GPA \\} \\\\\n",
    "\\end{array}\n",
    "$$\n",
    "\n",
    "We will evaluate our hypothesis by performing a Partial F-Test of the form \n",
    "\n",
    "$$\n",
    "F = \\dfrac{(SSE_{red} - SSE_{full})/(p-k)}{SSE_{full}/(n-p-1)} \\sim F_{p-k, n-p-1}\n",
    "$$"
   ]
  },
  {
   "cell_type": "code",
   "execution_count": 199,
   "metadata": {
    "scrolled": true
   },
   "outputs": [
    {
     "name": "stdout",
     "output_type": "stream",
     "text": [
      "SSE_full =  1758.5467865482624\n",
      "SSE_red =  1831.8999447515328\n",
      "num_dfs = 5\n",
      "den_dfs = 74\n",
      "F = 0.617\n",
      "P(>F) = 0.6869307378940674\n",
      "RR: F > = 2.338277630605569\n"
     ]
    }
   ],
   "source": [
    "SSE_red = np.sum((y-red_model.predict(Xred))**2)\n",
    "SSE_full = np.sum((y-full_model.predict(X))**2)\n",
    "p = len(dfR.columns)-1\n",
    "k = len(good_features) \n",
    "n = len(dfR)\n",
    "F = ((SSE_red - SSE_full)/(p-k))/((SSE_full)/(n-p-1))\n",
    "print(\"SSE_full = \", SSE_full)\n",
    "print(\"SSE_red = \", SSE_red)\n",
    "print(\"num_dfs = {}\".format(p-k))\n",
    "print(\"den_dfs = {}\".format(n-p-1))\n",
    "print(\"F = {:.3f}\".format(F))\n",
    "pval = 1 - stats.f.cdf(F, p-k, n-p-1)\n",
    "print(\"P(>F) = {}\".format(pval))\n",
    "print(\"RR: F > = {}\".format(stats.f.ppf(1-.05, p-k, n-p-1)))\n"
   ]
  },
  {
   "cell_type": "markdown",
   "metadata": {},
   "source": [
    "Since our p-value is greater than $\\alpha = 0.05$ we fail to reject the null hypothesis and thus conclude that there is insufficient evidence to believe that the full model is statistically significantly better than the reduced model obtained by forward selection. "
   ]
  },
  {
   "cell_type": "markdown",
   "metadata": {},
   "source": [
    "**Part F**: Based on your conclusions in **Part E**, use the _better_ of the two models to predict an otter's instagrammability when the following features are observed: \n",
    "\n",
    "- $\\texttt{urchin color}$: 93 Wongs\n",
    "- $\\texttt{fur fluff}$: 8.2 Ketelsens\n",
    "- $\\texttt{adorbz}$: 273\n",
    "- $\\texttt{temp}$: 46F \n",
    "- $\\texttt{majesty}$: 0.79 \n",
    "- $\\texttt{observer GPA}$: 3.50 \n",
    "- $\\texttt{paw size}$: -10 \n",
    "- $\\texttt{paw grip}$: 55 Grochows\n",
    "- $\\texttt{ice cream sold}$: 130\n",
    "- $\\texttt{shark attacks}$: 3 "
   ]
  },
  {
   "cell_type": "markdown",
   "metadata": {},
   "source": [
    "**Solution**: Using only the features in our reduced model, we have "
   ]
  },
  {
   "cell_type": "code",
   "execution_count": 200,
   "metadata": {},
   "outputs": [
    {
     "name": "stdout",
     "output_type": "stream",
     "text": [
      "yhat = 118.195\n"
     ]
    }
   ],
   "source": [
    "data = {'const': 1, \"paw size\": -10, \"temp\": 46, \"adorbz\": 273, \"urchin color\": 93, \"fur fluff\": 8.2}\n",
    "yhat = 0 \n",
    "for feat, slope in zip(red_model.params.index, red_model.params):\n",
    "    yhat += data[feat] * slope \n",
    "print(\"yhat = {:.3f}\".format(yhat))"
   ]
  },
  {
   "cell_type": "code",
   "execution_count": null,
   "metadata": {},
   "outputs": [],
   "source": []
  }
 ],
 "metadata": {
  "kernelspec": {
   "display_name": "Python 3",
   "language": "python",
   "name": "python3"
  },
  "language_info": {
   "codemirror_mode": {
    "name": "ipython",
    "version": 3
   },
   "file_extension": ".py",
   "mimetype": "text/x-python",
   "name": "python",
   "nbconvert_exporter": "python",
   "pygments_lexer": "ipython3",
   "version": "3.6.2"
  }
 },
 "nbformat": 4,
 "nbformat_minor": 2
}

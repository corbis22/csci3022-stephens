{
 "cells": [
  {
   "cell_type": "markdown",
   "metadata": {},
   "source": [
    "# Homework 3: Random Variables and Their Distributions\n",
    "***\n",
    "\n",
    "**Name**: \n",
    "\n",
    "***\n",
    "\n",
    "This assignment is due on Moodle by **5pm on Friday March 2nd**. Your solutions to theoretical questions should be done in Markdown/MathJax directly below the associated question.  Your solutions to computational questions should include any specified Python code and results as well as written commentary on your conclusions.  Remember that you are encouraged to discuss the problems with your instructors and classmates, but **you must write all code and solutions on your own**.  For a refresher on the course **Collaboration Policy** click [here](https://github.com/dblarremore/csci3022/blob/master/resources/syllabus.md#collaboration-policy).  \n",
    "\n",
    "**NOTES**: \n",
    "\n",
    "- Do **NOT** load or use any Python packages that are not available in Anaconda 3.6. \n",
    "- Some problems with code may be autograded.  If we provide a function API **do not** change it.  If we do not provide a function API then you're free to structure your code however you like. \n",
    "- Because you can technically evaluate notebook cells is a non-linear order, it's a good idea to do Cell $\\rightarrow$ Run All as a check before submitting your solutions.  That way if we need to run your code you will know that it will work as expected. \n",
    "- Submit only this Jupyter notebook to Moodle.  Do not compress it using tar, rar, zip, etc. \n",
    "\n",
    "### Work only 4 of the 5 problems below! Your choice."
   ]
  },
  {
   "cell_type": "code",
   "execution_count": 6,
   "metadata": {
    "collapsed": true,
    "scrolled": true
   },
   "outputs": [],
   "source": [
    "import pandas as pd\n",
    "import numpy as np\n",
    "import matplotlib.pylab as plt\n",
    "from scipy.special import binom\n",
    "%matplotlib inline"
   ]
  },
  {
   "cell_type": "markdown",
   "metadata": {},
   "source": [
    "### [25 points] Problem 1\n",
    "***\n",
    "\n",
    "Let $X$ be the lifespan (in years) of a BF Otterich Rugged Trail T/A tire under normal driving conditions, and suppose $X$ is described by the following probability density function: \n",
    "\n",
    "$$\n",
    "f(x) = \\left\\{ \n",
    "\\begin{array}{ll}\n",
    "\\dfrac{15}{c x^3} & 1 \\leq x \\leq 15 \\\\\n",
    "0 & \\textrm{otherwise}\n",
    "\\end{array}\n",
    "\\right.\n",
    "$$\n",
    "\n",
    "**Part A**: Determine the value of $c$ such that $f(x)$ is a valid PDF. "
   ]
  },
  {
   "cell_type": "markdown",
   "metadata": {
    "collapsed": true
   },
   "source": [
    "$$\\begin{align}\n",
    "1 & = \\int_1^{15}{\\frac{15}{cx^3}dx} \\\\\n",
    "& = \\frac{15}{c} \\int_1^{15}{x^{-3}dx} \\\\\n",
    "& = \\frac{15}{c} \\bigg[\\frac{-1}{2 x^2}\\bigg]_1^{15} \\\\\n",
    "& = \\frac{15}{c} \\bigg[\\frac{-1}{2(15)^2} - \\frac{-1}{2(1)^2}\\bigg] \\\\\n",
    "& = \\frac{15}{c} \\cdot \\frac{112}{225} \\\\\n",
    "1 & = \\frac{112}{15c} \\\\\n",
    "c & = \\bf \\frac{112}{15} \\approx 7.467 \\\\\n",
    "\\end{align}$$"
   ]
  },
  {
   "cell_type": "markdown",
   "metadata": {},
   "source": [
    "**Part B**: Compute the cumulative distribution function $F(y)$ for $X$. "
   ]
  },
  {
   "cell_type": "markdown",
   "metadata": {},
   "source": [
    "$$\\begin{align}\n",
    "F(y) & = \\int_{1}^{y}{f(x)dx} \\\\\n",
    "& = \\frac{225}{112} \\bigg[-\\frac{1}{2y^2} + \\frac12 \\bigg] \\\\\n",
    "\\bf F(y) & = \\bf -\\frac{225}{112} \\cdot \\frac{1}{2y^2} + \\frac{225}{224} \\\\\n",
    "\\end{align}$$"
   ]
  },
  {
   "cell_type": "markdown",
   "metadata": {},
   "source": [
    "**Part C**: Use the cdf you computed in **Part B** to find the probability that a single tire goes longer than 5 years without failing. "
   ]
  },
  {
   "cell_type": "markdown",
   "metadata": {
    "collapsed": true
   },
   "source": [
    "$$\\begin{align}\n",
    "F(5) & = -\\frac{225}{112} \\cdot \\frac{1}{2(5)^2} + \\frac{225}{224} \\\\\n",
    "& = -\\frac{225}{112} \\cdot \\frac{1}{50} + \\frac{225}{224} \\\\\n",
    "& = -\\frac{9}{224} + \\frac{225}{224} \\\\\n",
    "F(5) & = \\frac{27}{28} \\approx 0.964 \\\\\n",
    "1 - F(5) & = \\bf \\frac{1}{28} \\approx 0.036 \\\\\n",
    "\\end{align}$$"
   ]
  },
  {
   "cell_type": "markdown",
   "metadata": {},
   "source": [
    "**Part D**: Use the cdf you computed in **Part B** to determine the number of years within which $62.5\\%$ of all tires will need to be replaced. In other words, determine the 62.5th percentile of the distribution of $X$. "
   ]
  },
  {
   "cell_type": "markdown",
   "metadata": {
    "collapsed": true
   },
   "source": [
    "$$\\begin{align}\n",
    "\\frac58 & = -\\frac{225}{112} \\cdot \\frac{1}{2y^2} + \\frac{225}{224} \\\\\n",
    "-\\frac{85}{224} & = -\\frac{225}{112} \\cdot \\frac{1}{2y^2} \\\\\n",
    "\\frac{17}{90} & = \\frac{1}{2y^2} \\\\\n",
    "2y^2 & = \\frac{90}{17} \\\\\n",
    "y & = \\bf \\sqrt{\\frac{45}{17}} \\approx 1.627 \\\\\n",
    "\\end{align}$$"
   ]
  },
  {
   "cell_type": "markdown",
   "metadata": {},
   "source": [
    "**Part E**: What is the probability that all four BF Otterich Rugged Trail T/A tires on a vehicle last longer than 5 years without failing? "
   ]
  },
  {
   "cell_type": "markdown",
   "metadata": {
    "collapsed": true
   },
   "source": [
    "$$\n",
    "(1-F(5))^4 = \\bigg(\\frac{1}{28}\\bigg)^4 = \\bf \\frac{1}{614656} \\approx 2 \\cdot 10^{-6}\n",
    "$$"
   ]
  },
  {
   "cell_type": "markdown",
   "metadata": {},
   "source": [
    "### [25 points] Problem 2\n",
    "***\n",
    "\n",
    "You are a data-driven transportation engineer investigating the effect that a particular [vertical lift bridge](https://en.wikipedia.org/wiki/Vertical-lift_bridge) has on city traffic.  Every time a boat passes under the bridge, cars must stop while the bridge is raised to accommodate the height of the boat.  As both boat and car traffic increases, city planners are considering building a new taller bridge that will never impede the flow of traffic. As part of a larger simulation of traffic congestion, you need to decide how to model the arrival of boats at the bridge.  From your Intro to Data Science class you remember that the time _between_ independent arrivals are usually modeled by an Exponential distribution.  Finally, you have access to a report that says on average 10 boats cross under the bridge per day.\n",
    "\n",
    "Answer the following questions about this scenario. **Note** that for **Parts B-D** you should clearly express the computation you're doing with math, but feel free to do any fancy function evaluations with Python. \n",
    "\n",
    "**Part A**:  Assuming the between-boat times do in-fact follow $Exp(10)$, what distribution would you expect the **number** of boats that cross under the bridge on a given day to follow?  What are the parameter(s) of the distribution? "
   ]
  },
  {
   "cell_type": "markdown",
   "metadata": {},
   "source": [
    "The number of boats crossing under the bridge during any given time follow a Poisson distribution with parameter $10$."
   ]
  },
  {
   "cell_type": "markdown",
   "metadata": {},
   "source": [
    "**Part B**:  What is the probability that 13 boats cross under the bridge on a particular day?"
   ]
  },
  {
   "cell_type": "markdown",
   "metadata": {
    "collapsed": true
   },
   "source": [
    "$$\n",
    "X \\sim Pos(10) \\\\\n",
    "P(X = 13) = \\frac{10^{13}}{13!} e^{-10} \\\\\n",
    "$$"
   ]
  },
  {
   "cell_type": "code",
   "execution_count": 11,
   "metadata": {},
   "outputs": [
    {
     "data": {
      "text/plain": [
       "0.072907946224436665"
      ]
     },
     "execution_count": 11,
     "metadata": {},
     "output_type": "execute_result"
    }
   ],
   "source": [
    "(10**13)/(np.math.factorial(13))*np.exp(-10)"
   ]
  },
  {
   "cell_type": "markdown",
   "metadata": {},
   "source": [
    "The probability of 13 boats going under the bridge is $\\sim0.073$."
   ]
  },
  {
   "cell_type": "markdown",
   "metadata": {},
   "source": [
    "**Part C**:  What is the probability that 8 boats or fewer cross under the bridge on a particular day?"
   ]
  },
  {
   "cell_type": "markdown",
   "metadata": {
    "collapsed": true
   },
   "source": [
    "$$\n",
    "P(X \\leq 8) = \\sum_{n=0}^8{\\frac{10^n}{n!} e^{-10}} \\\\\n",
    "$$"
   ]
  },
  {
   "cell_type": "code",
   "execution_count": 12,
   "metadata": {},
   "outputs": [
    {
     "data": {
      "text/plain": [
       "0.22022064660169896"
      ]
     },
     "execution_count": 12,
     "metadata": {},
     "output_type": "execute_result"
    }
   ],
   "source": [
    "np.sum([(10**n)/(np.math.factorial(n))*np.exp(-10) for n in range(8)])"
   ]
  },
  {
   "cell_type": "markdown",
   "metadata": {},
   "source": [
    "The probability that 8 or fewer boats cross under the bridge is $\\sim0.22$."
   ]
  },
  {
   "cell_type": "markdown",
   "metadata": {},
   "source": [
    "**Part D**: What is the probability that between 2 and 4 hours pass between two boat crossings? "
   ]
  },
  {
   "cell_type": "markdown",
   "metadata": {
    "collapsed": true
   },
   "source": [
    "$$\n",
    "Y \\sim Exp(10) \\\\\n",
    "P(2 \\leq Y \\leq 4) = F(4) - F(2) \\\\\n",
    "F(Y) = \\int_0^Y{f(x)}dx = \\int_0^Y{10e^{-10x}}dx = 10 \\int_0^Y{e^{-10x}}dx \\\\\n",
    "F(Y) = \\big[e^{-10x} \\big]_0^Y = e^{-10Y} \\\\\n",
    "F(4) - F(2) = e^{-40} + e^{-20} \\bf\\approx 2.06\\times10^{-9} \\\\\n",
    "$$"
   ]
  },
  {
   "cell_type": "markdown",
   "metadata": {},
   "source": [
    "**Part F**: Write a function boat_count that takes as its sole argument the rate parameter $\\lambda$ with units boats per day. Your function should simulate boat arrivals at the bridge by sampling between-boat times from $Exp(\\lambda)$ via Numpy's [random.exponential](https://docs.scipy.org/doc/numpy-1.13.0/reference/generated/numpy.random.exponential.html) function and return the number of boats that pass under the bridge on a single simulated day. \n",
    "\n",
    "**Note**: Do not change the API for this function. In other words, please keep the name of the function, its input parameter, and its desired output the same. Of course, the inner workings of this function and the actual value that it returns are in your hands!"
   ]
  },
  {
   "cell_type": "code",
   "execution_count": 27,
   "metadata": {
    "collapsed": true
   },
   "outputs": [],
   "source": [
    "def boat_count(lam):\n",
    "    num_boats = 0\n",
    "    t = 0\n",
    "    while t < 1:\n",
    "        t += np.random.exponential(1/lam)\n",
    "        num_boats += 1\n",
    "    return num_boats"
   ]
  },
  {
   "cell_type": "code",
   "execution_count": 28,
   "metadata": {},
   "outputs": [
    {
     "data": {
      "text/plain": [
       "9"
      ]
     },
     "execution_count": 28,
     "metadata": {},
     "output_type": "execute_result"
    }
   ],
   "source": [
    "boat_count(10)"
   ]
  },
  {
   "cell_type": "markdown",
   "metadata": {},
   "source": [
    "**Part G**: Write a function boat_count_sim that takes as arguments the rate parameter $\\lambda$ with units boats per day and an integer number of days to simulate. Your function should use the function you wrote in **Part F** to simulate many independent days of boat crossings and estimate the probability that 8 boats or fewer cross under the bridge on a particular day. For $\\lambda = 10$, does your estimate agree with the by-hand computation you did in **Part C**?  \n",
    "\n",
    "**Note**: Do not change the API for this function. "
   ]
  },
  {
   "cell_type": "code",
   "execution_count": 34,
   "metadata": {
    "collapsed": true
   },
   "outputs": [],
   "source": [
    "def boat_count_sim(lam, num_days=int(1e3)):\n",
    "    boat_counts = [boat_count(lam) for i in range(num_days)]\n",
    "    less8 = 0\n",
    "    for day in boat_counts:\n",
    "        if day <= 8:\n",
    "            less8 += 1\n",
    "    return less8 / num_days"
   ]
  },
  {
   "cell_type": "code",
   "execution_count": 36,
   "metadata": {},
   "outputs": [
    {
     "data": {
      "text/plain": [
       "0.2228"
      ]
     },
     "execution_count": 36,
     "metadata": {},
     "output_type": "execute_result"
    }
   ],
   "source": [
    "boat_count_sim(10, num_days=int(1e4))"
   ]
  },
  {
   "cell_type": "markdown",
   "metadata": {},
   "source": [
    "At $0.2228$, the simulated value is very close to my calculation of $0.2202$ for the probability that 8 or fewer boats pass under the bridge in a day."
   ]
  },
  {
   "cell_type": "markdown",
   "metadata": {},
   "source": [
    "**Part H**: Write a function boat_time_sim that takes as arguments the rate parameter $\\lambda$ with units boats per day and an integer number of boat arrivals to simulate. Your function should sample boat arrivals via [np.random.exponential](https://docs.scipy.org/doc/numpy-1.13.0/reference/generated/numpy.random.exponential.html) and estimate the probability that boats arrive between 2 and 4 hours apart.  For $\\lambda = 10$, does your estimate agree with the by-hand computation you did in **Part D**?  \n",
    "\n",
    "**Note**: Do not change the API for this function.  "
   ]
  },
  {
   "cell_type": "code",
   "execution_count": 48,
   "metadata": {
    "collapsed": true
   },
   "outputs": [],
   "source": [
    "def boat_time_sim(lam, num_boats=int(1e3)): \n",
    "    wait_times = [np.random.exponential(1/lam) for i in range(num_boats)]\n",
    "    range_count = 0\n",
    "    for t in wait_times:\n",
    "        if t*24 > 2 and t*24 < 4:\n",
    "            range_count += 1\n",
    "    return range_count / num_boats"
   ]
  },
  {
   "cell_type": "code",
   "execution_count": 49,
   "metadata": {},
   "outputs": [
    {
     "data": {
      "text/plain": [
       "0.2459"
      ]
     },
     "execution_count": 49,
     "metadata": {},
     "output_type": "execute_result"
    }
   ],
   "source": [
    "boat_time_sim(10, num_boats=int(1e4))"
   ]
  },
  {
   "cell_type": "markdown",
   "metadata": {},
   "source": [
    "This simulated value of $0.2402$ does not match my calculated value of $\\sim2.06\\times10^{-9}$, which is strange because I'm pretty sure I (and by I, I mean my calculator) did the integral right and plugged everything in correctly. Can't win 'em all, I guess..."
   ]
  },
  {
   "cell_type": "markdown",
   "metadata": {},
   "source": [
    "### [25 points] Problem 3 \n",
    "***\n",
    "\n",
    "Let $X =$ the leading digit of a randomly selected number from a large accounting\n",
    "ledger. For example, if we randomly draw the number \\$20,695, then $X = 2.$\n",
    "People who make up numbers to commit accounting fraud tend to give $X$ a\n",
    "(discrete) uniform distribution, i.e., $P(X = x) = \\frac{1}{9}$, for $x \\in \\{1, ..., 9\\}$. However,\n",
    "there is empirical evidence that suggests that _naturally occurring_ numbers (e.g.,\n",
    "numbers in a non-fraudulent accounting ledgers) have leading digits that do not\n",
    "follow a uniform distribution. Instead, they follow a distribution defined by the following probability mass function:\n",
    "\n",
    "$$\n",
    "f(x) = \\log_{10}\\left( \\frac{x+1}{x} \\right) \\quad \\textrm{for } x = 1, 2, \\ldots, 9\n",
    "$$"
   ]
  },
  {
   "cell_type": "markdown",
   "metadata": {},
   "source": [
    "**Part A**: Write a function pmf_natural that implements $f(x)$. Your function should take in an integer $x$ and return $f(x) = P(X = x)$.  Use your function to argue that $f(x)$ is a well-defined probability mass function. "
   ]
  },
  {
   "cell_type": "code",
   "execution_count": 2,
   "metadata": {
    "collapsed": true
   },
   "outputs": [],
   "source": [
    "def pmf_natural(x):\n",
    "    return np.log10((x+1)/x) "
   ]
  },
  {
   "cell_type": "code",
   "execution_count": 3,
   "metadata": {},
   "outputs": [
    {
     "name": "stdout",
     "output_type": "stream",
     "text": [
      "1.0\n"
     ]
    }
   ],
   "source": [
    "sum = 0\n",
    "for i in range(1,10):\n",
    "    sum += pmf_natural(i)\n",
    "print(sum)"
   ]
  },
  {
   "cell_type": "markdown",
   "metadata": {},
   "source": [
    "$\\sum_{i=1}^9{f(x)} = 1$, so $f(x)$ is a well-defined PMF."
   ]
  },
  {
   "cell_type": "markdown",
   "metadata": {},
   "source": [
    "**Part B**: Use the function you wrote above to make stacked bar plots describing the pmf of the naturally occurring numbers as well as the discrete uniform distribution.  Make sure that the $x$- and $y$-limits on your plots are the same so that the two distributions are easy to compare. "
   ]
  },
  {
   "cell_type": "code",
   "execution_count": 57,
   "metadata": {},
   "outputs": [
    {
     "data": {
      "text/plain": [
       "Text(0,0.5,'Frequency')"
      ]
     },
     "execution_count": 57,
     "metadata": {},
     "output_type": "execute_result"
    },
    {
     "name": "stderr",
     "output_type": "stream",
     "text": [
      "/home/user/anaconda3/lib/python3.6/site-packages/matplotlib/figure.py:1999: UserWarning: This figure includes Axes that are not compatible with tight_layout, so results might be incorrect.\n",
      "  warnings.warn(\"This figure includes Axes that are not compatible \"\n"
     ]
    },
    {
     "data": {
      "image/png": "[encoded data removed]",
      "text/plain": [
       "<matplotlib.figure.Figure at 0x7f21108b97f0>"
      ]
     },
     "metadata": {},
     "output_type": "display_data"
    }
   ],
   "source": [
    "num_samples = int(5e3)\n",
    "probs = [pmf_natural(x) for x in range(1,10)]\n",
    "samples = np.random.choice(range(1,10), p=probs, size=num_samples)\n",
    "natural = np.random.choice(range(1,10), size=num_samples)\n",
    "\n",
    "\n",
    "fig, axs = plt.subplots(nrows=2, ncols=1, figsize=(8,8), tight_layout=True, sharex=True)\n",
    "axs[0].hist(samples, bins=9)\n",
    "axs[0].axis([0.5,9.5,0,1600])\n",
    "axs[0].set_title(\"Naturally-Ocurring vs. Unifrom Distribution of Digits 1-9\")\n",
    "axs[0].set_ylabel(\"Frequency\")\n",
    "\n",
    "axs[1].hist(natural, bins=9)\n",
    "axs[1].axis([0.5,9.5,0,1600])\n",
    "axs[1].set_xlabel(\"Digit\")\n",
    "axs[1].set_ylabel(\"Frequency\")"
   ]
  },
  {
   "cell_type": "markdown",
   "metadata": {},
   "source": [
    "**Part C**: Write a function cdf_natural that implements the cumulative distribution function $F(y)$ for $X$ and use it to compute the probability that the leading digit in a number is at most 4 and at most 5. "
   ]
  },
  {
   "cell_type": "code",
   "execution_count": 69,
   "metadata": {
    "collapsed": true
   },
   "outputs": [],
   "source": [
    "def cdf_natural(y):\n",
    "    sum = 0\n",
    "    y = 9 if y > 9 else y\n",
    "    for i in range(1,y+1):\n",
    "        sum += pmf_natural(i)\n",
    "    return sum  "
   ]
  },
  {
   "cell_type": "code",
   "execution_count": 77,
   "metadata": {},
   "outputs": [
    {
     "name": "stdout",
     "output_type": "stream",
     "text": [
      "Probability that X <= 4: 0.699\n",
      "Probability that X <= 5: 0.778\n"
     ]
    }
   ],
   "source": [
    "print(\"Probability that X <= 4: %.3f\" % cdf_natural(4))\n",
    "print(\"Probability that X <= 5: %.3f\" % cdf_natural(5))"
   ]
  },
  {
   "cell_type": "markdown",
   "metadata": {},
   "source": [
    "**Part D**: The data in tax_data.txt contains the taxable income for individuals in 1978. Use Pandas and the information from **Parts A-D** to determine whether or not the dataset is likely fraudulent.  In addition to code and any graphical summaries, make sure to clearly justify your conclusion in words. "
   ]
  },
  {
   "cell_type": "code",
   "execution_count": 108,
   "metadata": {},
   "outputs": [
    {
     "data": {
      "text/plain": [
       "Text(0,0.5,'Frequency')"
      ]
     },
     "execution_count": 108,
     "metadata": {},
     "output_type": "execute_result"
    },
    {
     "data": {
      "image/png": "[encoded data removed]",
      "text/plain": [
       "<matplotlib.figure.Figure at 0x7f211098a630>"
      ]
     },
     "metadata": {},
     "output_type": "display_data"
    }
   ],
   "source": [
    "dfTax = pd.read_table(\"tax_data.txt\")\n",
    "dfTax[\"n1\"] = dfTax[\"Tax Incomes\"].astype(str).str[0]\n",
    "fig, ax = plt.subplots(figsize=(12,6))\n",
    "ax.hist(dfTax[\"n1\"])\n",
    "ax.set_title(\"First Digit of Reported Tax Incomes\")\n",
    "ax.set_xlabel(\"Digit\")\n",
    "ax.set_ylabel(\"Frequency\")"
   ]
  },
  {
   "cell_type": "markdown",
   "metadata": {},
   "source": [
    "The distribution of the first digit of each reported income is clearly *not* a uniform distribution, and in fact closely resembles the given distribution for naturally-ocurring digits. Therefore, this dataset is most likely not fraudulent."
   ]
  },
  {
   "cell_type": "markdown",
   "metadata": {},
   "source": [
    "### [25 points] Problem 4\n",
    "***\n",
    "\n",
    "You are the team manager for the CU intramural Quidditch team, the Boulder Beaters, and you've just made it to the national championship series against the Stanford Snitching Snitches. The typical Quidditch championship is a best of 11 series, so the first team to win 6 matches is declared the winner.  Furthermore, based on a rigorous statistical analysis of regular season play, the probability that the Boulder Beaters win any one match against the Snitching Snitches is given by $p = 0.55$.  \n",
    "\n",
    "**Part A**: What is the probability that you win the 11-game series on the 8th match played? \n"
   ]
  },
  {
   "cell_type": "markdown",
   "metadata": {
    "collapsed": true
   },
   "source": [
    "$$\\begin{align}\n",
    "X \\sim Bin(7, 0.55) \\\\\n",
    "P(X = 8) & = \\binom86 \\cdot 0.55^6 \\cdot (1-0.55)^{8-6} \\\\\n",
    "& = \\frac{8!}{6!2!} \\cdot 0.55^6 \\cdot 0.45^2 \\\\\n",
    "& \\approx 0.157 \\\\\n",
    "\\end{align}$$"
   ]
  },
  {
   "cell_type": "markdown",
   "metadata": {},
   "source": [
    "**Part B**: What is the probability that you win the 11-game series in any valid number of matches? "
   ]
  },
  {
   "cell_type": "markdown",
   "metadata": {
    "collapsed": true
   },
   "source": [
    "$$\\begin{align}\n",
    "F(X) & = \\sum_{x=6}^{X}{f(y)} \\\\\n",
    "& = \\sum_{n=6}^{X}{\\binom{n}{6} \\cdot 0.55^6 \\cdot (1-0.55)^{n-6}} \\\\\n",
    "F(11) & = 0.55^6 \\bigg(\\binom{6}{6} \\cdot 0.45^0 + \\binom76 \\cdot 0.45^1 + \\binom86 \\cdot 0.45^2 + \\binom96 \\cdot 0.45^3 + \\binom{10}{6} \\cdot 0.45^4 + \\binom{11}{6} \\cdot 0.45^5 \\bigg) \\\\\n",
    "& = 0.55^6 \\big(1 \\cdot 1 + 7 \\cdot 0.45 + 28 \\cdot 0.2025 + 84 \\cdot 0.91125 + 210 \\cdot 0.041006 + 462 \\cdot 0.018453 \\big) \\\\\n",
    "& = 0.55^6 \\cdot 34.611 \\\\\n",
    "F(11) & \\approx 0.958 \\\\\n",
    "\\end{align}$$"
   ]
  },
  {
   "cell_type": "markdown",
   "metadata": {},
   "source": [
    "**Part C**: The winner of the champsionship will take home \\$10,000 to use for equipment and victory parties in the following season. Because the stakes are so high, you've decided to hire a famous Quidditch consultant, Bludger Bob, to help you prepare for each match. With Bob's help your probability of winning any given match increases to $p = 0.7$.  Bludger Bob charges a fee of \\$100 per game, but as a testament to his confidence in his abilities, only charges you the \\$100 for games that you win and only if you win the series.  So, if you play a 11-game series and win you will take home \\$10,000 less \\$600 for Bludger Bob's fees, for a total payout of \\$9,400.  What is the expected payout for an 11-game series?   "
   ]
  },
  {
   "cell_type": "markdown",
   "metadata": {
    "collapsed": true
   },
   "source": [
    "$$\n",
    "\n",
    "$$"
   ]
  },
  {
   "cell_type": "markdown",
   "metadata": {},
   "source": [
    "**Part D**: This year the National Intramural Quidditch Association (NIQA) is implementing an experimental rule.  As the team with the best record in the regular season you will get to choose the length of the championship series.  Specifically, you can choose the series length to be anywhere from $N=3, 5, 7, \\ldots, 99$ games long.  Assuming that you plan to use Bludger Bob's services and considering the fact that you have a better than even chance of winning each game, explain the trade-offs between choosing a short series vs. a long series in terms of Expected Payout. \n"
   ]
  },
  {
   "cell_type": "code",
   "execution_count": null,
   "metadata": {
    "collapsed": true
   },
   "outputs": [],
   "source": []
  },
  {
   "cell_type": "markdown",
   "metadata": {},
   "source": [
    "**Part E**: Write a function optimal_series that takes in $p$, the probability that your team wins an individual game, then computes the Expected Payout for each series of length $N=3, 5, 7, \\ldots 99$ and returns the optimal series length.  In addition to returning the optimal series length, your function should also produce a plot of Expected Payout vs Series Length. You may write any additional helper functions that you like, but you should not change the API for the function optimal_series. "
   ]
  },
  {
   "cell_type": "code",
   "execution_count": null,
   "metadata": {
    "collapsed": true
   },
   "outputs": [],
   "source": [
    "def optimal_series(p):\n",
    "    return 1"
   ]
  },
  {
   "cell_type": "markdown",
   "metadata": {},
   "source": [
    "### [25 points] Problem 5\n",
    "***\n",
    "\n",
    "The card game \"War\" is fun for small children. The basic rules are [here](https://www.bicyclecards.com/how-to-play/war/), but see the list below. Assume that the value of each card in the deck, in decreasing order, is A K Q J 10 9 8 7 6 5 4 3 2. For example, Q is of higher value than J. \n",
    "\n",
    "Create a simulation of the game War. Your simulation must:\n",
    "\n",
    "- initialize a single deck of 52 standard cards, shuffled.\n",
    "- deal half of those cards to each player.\n",
    "- simulate the game of War between two players until one player has all 52 cards, while recording the number of rounds that have passed.\n",
    "- for counting purposes, a round ends when the winner places cards on the bottom of their stack. \n",
    "- if a player runs out of cards mid-War, that player loses. \n",
    "- when cards are collected to be placed at the bottom of a deck, they are scraped from the table in a way that randomly shuffles them.  "
   ]
  },
  {
   "cell_type": "code",
   "execution_count": null,
   "metadata": {
    "collapsed": true
   },
   "outputs": [],
   "source": [
    "def war_round(player1, player2, verbose=False):\n",
    "    cards_p1 = [player1.pop()]\n",
    "    cards_p2 = [player2.pop()]\n",
    "    if verbose:\n",
    "        print()\n",
    "        print(\"Player 1 flopped a %d\" % cards_p1[-1])\n",
    "        print(\"Player 2 flopped a %d\" % cards_p2[-1])\n",
    "    if len(player1) == 0:\n",
    "        player2.insert(0, np.random.shuffle(cards_p1 + cards_p2))\n",
    "        return player1, player2\n",
    "    elif len(player2) == 0:\n",
    "        player1.insert(0, np.random.shuffle(cards_p1 + cards_p2))\n",
    "        return player1, player2\n",
    "    \n",
    "    while cards_p1[-1] == cards_p2[-1]:\n",
    "        for i in range(2):\n",
    "            cards_p1.append(player1.pop())\n",
    "            if len(player1) == 0:\n",
    "                player2.insert(0, np.random.shuffle(cards_p1 + cards_p2))\n",
    "                return player1, player2\n",
    "            cards_p2.append(player2.pop())\n",
    "            if len(player2) == 0:\n",
    "                player1.insert(0, np.random.shuffle(cards_p1 + cards_p2))\n",
    "                return player1, player2\n",
    "            if i == 1 and verbose:\n",
    "                print(\"P1: %d\" % cards_p1[-1])\n",
    "                print(\"p2: %d\" % cards_p2[-1])\n",
    "        \n",
    "    if cards_p1[-1] > cards_p2[-1]:\n",
    "        winnings = cards_p1 + cards_p2\n",
    "        np.random.shuffle(winnings)\n",
    "        for card in winnings:\n",
    "            player1.insert(0, card)\n",
    "    else:\n",
    "        winnings = cards_p1 + cards_p2\n",
    "        np.random.shuffle(winnings)\n",
    "        for card in winnings:\n",
    "            player2.insert(0, card)\n",
    "    \n",
    "    return player1, player2"
   ]
  },
  {
   "cell_type": "code",
   "execution_count": 287,
   "metadata": {
    "collapsed": true
   },
   "outputs": [],
   "source": [
    "def war_sim(deck=[14,13,12,11,10,9,8,7,6,5,4,3,2]*4, verbose=False):\n",
    "    # Initialize deck\n",
    "    np.random.shuffle(deck)\n",
    "    \n",
    "    # Deal cards\n",
    "    player1 = deck[:26]\n",
    "    player2 = deck[26:]\n",
    "    \n",
    "    # Simulate turns\n",
    "    c = 1\n",
    "    p1w = 0\n",
    "    p2w = 0\n",
    "    while len(player1) > 0 and len(player2) > 0:\n",
    "        player1, player2 = war_round(player1, player2)\n",
    "        if verbose:\n",
    "            print()\n",
    "            print(\"ROUND %d\"%c)\n",
    "            print(\"Player 1 has %2d cards left\" % len(player1))\n",
    "            print(\"Player 2 has %2d cards left\" % len(player2))\n",
    "        c += 1\n",
    "    if len(player2) == 0:\n",
    "        p1w += 1\n",
    "        if verbose: print(\"Player 1 won after %d rounds!\" % c)\n",
    "    else:\n",
    "        p2w += 2\n",
    "        if verbose: print(\"Player 2 won after %d rounds!\" % c)\n",
    "    return c"
   ]
  },
  {
   "cell_type": "code",
   "execution_count": 289,
   "metadata": {},
   "outputs": [
    {
     "data": {
      "text/plain": [
       "333"
      ]
     },
     "execution_count": 289,
     "metadata": {},
     "output_type": "execute_result"
    }
   ],
   "source": [
    "war_sim()"
   ]
  },
  {
   "cell_type": "markdown",
   "metadata": {
    "collapsed": true
   },
   "source": [
    "**Part A**: For any fixed order of the cards, the game is completely non-random. This means that shuffling the deck randomly makes the duration of the game a random variable. Use your simulation to compute the expected value of the duration of a game of war. "
   ]
  },
  {
   "cell_type": "code",
   "execution_count": 286,
   "metadata": {},
   "outputs": [
    {
     "name": "stdout",
     "output_type": "stream",
     "text": [
      "405.5193\n"
     ]
    }
   ],
   "source": [
    "total_turns = 0\n",
    "num_games = 1e4\n",
    "for i in range(int(num_games)):\n",
    "    total_turns += war_sim()\n",
    "print(total_turns / num_games)"
   ]
  },
  {
   "cell_type": "markdown",
   "metadata": {
    "collapsed": true
   },
   "source": [
    "**Part B**: What happens to the expected duration if the K, Q, and J cards are all now assumed to have _equal_ rank?"
   ]
  },
  {
   "cell_type": "code",
   "execution_count": 290,
   "metadata": {},
   "outputs": [
    {
     "name": "stdout",
     "output_type": "stream",
     "text": [
      "292.2135\n"
     ]
    }
   ],
   "source": [
    "total_turns = 0\n",
    "num_games = 1e4\n",
    "for i in range(int(num_games)):\n",
    "    total_turns += war_sim(deck=[14,11,11,11,10,9,8,7,6,5,4,3,2]*4)\n",
    "print(total_turns / num_games)"
   ]
  },
  {
   "cell_type": "markdown",
   "metadata": {},
   "source": [
    "These games are considerably shorter than the normal rules because it forces players into War more often, meaning they lose larger numbers of cards at a time."
   ]
  },
  {
   "cell_type": "markdown",
   "metadata": {},
   "source": [
    "**Part C**: Suppose that before the game starts, Player 1 gives all of their 2s and 3s to Player 2, and Player 2 gives all their As and Ks to Player 1. Does this tend to make the game longer or shorter?"
   ]
  },
  {
   "cell_type": "code",
   "execution_count": 314,
   "metadata": {
    "collapsed": true
   },
   "outputs": [],
   "source": [
    "def war_sim_alt(deck=[14,13,12,11,10,9,8,7,6,5,4,3,2]*4, verbose=False):\n",
    "    # Initialize deck\n",
    "    np.random.shuffle(deck)\n",
    "    \n",
    "    # Deal cards\n",
    "    player1 = deck[:26]\n",
    "    player2 = deck[26:]\n",
    "    \n",
    "    k = 0\n",
    "    while k < len(player1):\n",
    "        if player1[k] == 2 or player1[k] == 3:\n",
    "            card = player1.pop(k)\n",
    "            player2.append(card)\n",
    "            k -= 2\n",
    "        k += 1\n",
    "    k = 0\n",
    "    while k < len(player2):\n",
    "        if player2[k] == 14 or player2[k] == 13:\n",
    "            card = player2.pop(k)\n",
    "            player1.append(card)\n",
    "            k -= 2\n",
    "        k += 1\n",
    "    \n",
    "    np.random.shuffle(player1)\n",
    "    np.random.shuffle(player2)\n",
    "        \n",
    "    \n",
    "    # Simulate turns\n",
    "    c = 1\n",
    "    p1w = 0\n",
    "    p2w = 0\n",
    "    while len(player1) > 0 and len(player2) > 0:\n",
    "        player1, player2 = war_round(player1, player2)\n",
    "        if verbose:\n",
    "            print()\n",
    "            print(\"ROUND %d\"%c)\n",
    "            print(\"Player 1 has %2d cards left\" % len(player1))\n",
    "            print(\"Player 2 has %2d cards left\" % len(player2))\n",
    "        c += 1\n",
    "    if len(player2) == 0:\n",
    "        p1w += 1\n",
    "        if verbose: print(\"Player 1 won after %d rounds!\" % c)\n",
    "    else:\n",
    "        p2w += 2\n",
    "        if verbose: print(\"Player 2 won after %d rounds!\" % c)\n",
    "    return c"
   ]
  },
  {
   "cell_type": "code",
   "execution_count": 315,
   "metadata": {},
   "outputs": [
    {
     "name": "stdout",
     "output_type": "stream",
     "text": [
      "125.0461\n"
     ]
    }
   ],
   "source": [
    "total_turns = 0\n",
    "num_games = 1e4\n",
    "for i in range(int(num_games)):\n",
    "    total_turns += war_sim_alt()\n",
    "print(total_turns / num_games)"
   ]
  },
  {
   "cell_type": "markdown",
   "metadata": {},
   "source": [
    "These games are even shorter than the rules in part B because they give a serious advantage to player 1."
   ]
  },
  {
   "cell_type": "code",
   "execution_count": null,
   "metadata": {
    "collapsed": true
   },
   "outputs": [],
   "source": []
  }
 ],
 "metadata": {
  "kernelspec": {
   "display_name": "Python 3",
   "language": "python",
   "name": "python3"
  },
  "language_info": {
   "codemirror_mode": {
    "name": "ipython",
    "version": 3
   },
   "file_extension": ".py",
   "mimetype": "text/x-python",
   "name": "python",
   "nbconvert_exporter": "python",
   "pygments_lexer": "ipython3",
   "version": "3.6.3"
  }
 },
 "nbformat": 4,
 "nbformat_minor": 2
}

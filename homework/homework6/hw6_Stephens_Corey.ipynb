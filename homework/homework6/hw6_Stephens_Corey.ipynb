{
 "cells": [
  {
   "cell_type": "markdown",
   "metadata": {},
   "source": [
    "# Homework 6: Hypothesis Testing, P-Hacking, and Simple Linear Regression \n",
    "***\n",
    "\n",
    "**Name**: Corey Stephens\n",
    "\n",
    "***\n",
    "\n",
    "This assignment is due on Moodle by **5pm on Friday April 20th**. Your solutions to theoretical questions should be done in Markdown/MathJax directly below the associated question.  Your solutions to computational questions should include any specified Python code and results as well as written commentary on your conclusions.  Remember that you are encouraged to discuss the problems with your instructors and classmates, but **you must write all code and solutions on your own**.  For a refresher on the course **Collaboration Policy** click [here](https://github.com/dblarremore/csci3022/blob/master/resources/syllabus.md#collaboration-policy).\n",
    "\n",
    "**NOTES**: \n",
    "\n",
    "- Do **NOT** load or use any Python packages that are not available in Anaconda 3.6. \n",
    "- Some problems with code may be autograded.  If we provide a function API **do not** change it.  If we do not provide a function API then you're free to structure your code however you like. \n",
    "- Because you can technically evaluate notebook cells is a non-linear order, it's a good idea to do Cell $\\rightarrow$ Run All as a check before submitting your solutions.  That way if we need to run your code you will know that it will work as expected. \n",
    "- Submit only this Jupyter notebook to Moodle.  Do not compress it using tar, rar, zip, etc. "
   ]
  },
  {
   "cell_type": "code",
   "execution_count": 2,
   "metadata": {
    "collapsed": true,
    "scrolled": true
   },
   "outputs": [],
   "source": [
    "import numpy as np\n",
    "import matplotlib.pylab as plt\n",
    "import pandas as pd\n",
    "from scipy import stats \n",
    "%matplotlib inline"
   ]
  },
  {
   "cell_type": "markdown",
   "metadata": {},
   "source": [
    "### [15 points] Problem 1 - Hypothesis Testing: Find-the-Knowledge-Bug \n",
    "***\n",
    "\n",
    "As part of your job as a seasoned data science consultant, companies often bring you in to supervise their less-experienced data science teams before new product roll-outs.  One one such occasion, you are hired by a medium-sized internet-sales company that is preparing to release a new line of smart-home products.  Prior to their product release the company wants to do a targeted ad campaign to drive traffic to their site on launch day. \n",
    "\n",
    "You are asked to pair-up and do some inference work with a new employee named Stevey McKnowsNoStats. At various points in your day you catch Stevey making the following mistakes.  In each case, clearly explain to Stevey why his testing setup or conclusion is incorrect. "
   ]
  },
  {
   "cell_type": "markdown",
   "metadata": {},
   "source": [
    "**Part A**: Stevey has pulled up some data on the characteristics of customers that visited the company's website over the previous month.  He wants to perform an analysis on the mean age of customers that visit the site.  Let $X$ be the random variable describing the age of a site visitor and suppose that the population mean for $X$ is $\\mu$. In particular, Stevey wants to see if the data suggests that the mean age of their customers is under 30 years old.   He decides to perform the test with a null hypothesis of $H_0: \\bar{x} = 30$. "
   ]
  },
  {
   "cell_type": "markdown",
   "metadata": {
    "collapsed": true
   },
   "source": [
    "Stevey's null hypothesis is making a statement about the *sample mean*, $\\bar X$, when he should be investigating the *population mean*, $\\mu$."
   ]
  },
  {
   "cell_type": "markdown",
   "metadata": {},
   "source": [
    "**Part B**: After the wonderful explanation you gave him after the previous debacle, Stevey has seen the error in his ways and decides instead to do his hypothesis test with a null hypothesis of $H_0: \\mu < 30$.  "
   ]
  },
  {
   "cell_type": "markdown",
   "metadata": {
    "collapsed": true
   },
   "source": [
    "A null hypothesis is always that some value is *equal* to something, not less than it. It is the alternative hypothesis that states the two values are different."
   ]
  },
  {
   "cell_type": "markdown",
   "metadata": {},
   "source": [
    "**Part C**: Finally on track with reasonable hypotheses of $H_0: \\mu = 30$ and $H_1: \\mu < 30$, Stevey computes a normalized test-statistic of $z = -1.35$ for the mean age and concludes that since $z = -1.35 < 0.05$ there is sufficient statistical evidence at the $\\alpha = 0.05$ significance level that the mean age of their customers is less than 30.  "
   ]
  },
  {
   "cell_type": "markdown",
   "metadata": {
    "collapsed": true
   },
   "source": [
    "Oh boy Stevey... $\\alpha = 0.05$ is a confidence level, not a test statistic, and thus we cannot directly compare it to our normalized test statistic. Here he has two options: calculate a p-value for $z=-1.35$ and compare *that* to $\\alpha$, or calculate the value of $z$ from the standard normal distribution which has $0.05%$ of the probability mass below it. If the p-value is less than $0.05$, or the value of $z$ with $CDF(Z)=0.05$ is greater than Stevey's test statistic $z=-1.35$, then he can conclude that there is sufficient statistical evidence at the $\\alpha = 0.05$ significance level that the mean age of customers is less than 30."
   ]
  },
  {
   "cell_type": "markdown",
   "metadata": {},
   "source": [
    "**Part D**: This time, with the hypotheses again $H_0: \\mu = 30$ and $H_1: \\mu < 30$, Stevey computes a p-value of $0.03$, and thus concludes that there is only a 3% probability that the null hypothesis is true. "
   ]
  },
  {
   "cell_type": "markdown",
   "metadata": {
    "collapsed": true
   },
   "source": [
    "Almost, but not quite... A p-value of $0.03$ indicates two things: $3\\%$ of the probability mass in the standard normal distribution lies to the left of the test statistic, and there is a $3\\%$ chance of observing this mean under the assumption that the null hypothesis is true."
   ]
  },
  {
   "cell_type": "markdown",
   "metadata": {},
   "source": [
    "### [10 points] Problem 2 - Scientists vs. P-Values \n",
    "***\n",
    "\n",
    "Read the following article from **FiveThirtyEight**: [Statisticians Found One Thing They Can Agree On: It's Time to Stop Misusing P-Values](http://fivethirtyeight.com/features/statisticians-found-one-thing-they-can-agree-on-its-time-to-stop-misusing-p-values/). In what ways are scientists misusing p-values?  What suggestions are being made to use them properly? "
   ]
  },
  {
   "cell_type": "markdown",
   "metadata": {},
   "source": [
    "Scientists are using p-values as a means of discerning whether or no a hypothesis is true given the data that they have collected, which is essentially the opposite of what a p-value actually indicates. Researches also often use p-values as an idicator of how likely their results were to be produced by random chance, which is somewhat closer to the actual definition of p-values but still far from accurate.\n",
    "\n",
    "P-values only provide one piece of information about a dataset: the likelihood of the data being observed under a given hypothesis. The validity of the p-value as a measure of truth depends far more on the formulation of the hypothesis it is testing than on the data it is computed from. The general consensus among the panel of experts discussing the matter was that researchers and scientists need to stop treating p-values as the final word on the truth of a hypothesis, and instead learn to use it as just one of many tools statistics provides for analyzing and interpeting data."
   ]
  },
  {
   "cell_type": "markdown",
   "metadata": {},
   "source": [
    "### [20 points] Problem 3 - Evaluating Pizza Delivery Performance \n",
    "***\n",
    "\n",
    "The manager of a pizza chain with multiple locations likes to keep meticulous data on his pizza deliveries.  The data from more than 1200 deliveries in May 2014 is stored in pizza.csv. "
   ]
  },
  {
   "cell_type": "code",
   "execution_count": 3,
   "metadata": {
    "collapsed": true
   },
   "outputs": [],
   "source": [
    "np.random.seed(1235)\n",
    "dfP = pd.read_csv(\"data/pizza.csv\")"
   ]
  },
  {
   "cell_type": "code",
   "execution_count": 4,
   "metadata": {},
   "outputs": [
    {
     "data": {
      "text/html": [
       "<div>\n",
       "<style>\n",
       "    .dataframe thead tr:only-child th {\n",
       "        text-align: right;\n",
       "    }\n",
       "\n",
       "    .dataframe thead th {\n",
       "        text-align: left;\n",
       "    }\n",
       "\n",
       "    .dataframe tbody tr th {\n",
       "        vertical-align: top;\n",
       "    }\n",
       "</style>\n",
       "<table border=\"1\" class=\"dataframe\">\n",
       "  <thead>\n",
       "    <tr style=\"text-align: right;\">\n",
       "      <th></th>\n",
       "      <th>day</th>\n",
       "      <th>date</th>\n",
       "      <th>time</th>\n",
       "      <th>operator</th>\n",
       "      <th>branch</th>\n",
       "      <th>driver</th>\n",
       "      <th>temperature</th>\n",
       "      <th>bill</th>\n",
       "      <th>pizzas</th>\n",
       "    </tr>\n",
       "  </thead>\n",
       "  <tbody>\n",
       "    <tr>\n",
       "      <th>0</th>\n",
       "      <td>Thursday</td>\n",
       "      <td>01-May-14</td>\n",
       "      <td>33.708636</td>\n",
       "      <td>Laura</td>\n",
       "      <td>East</td>\n",
       "      <td>Bruno</td>\n",
       "      <td>71.433084</td>\n",
       "      <td>58.4</td>\n",
       "      <td>4</td>\n",
       "    </tr>\n",
       "    <tr>\n",
       "      <th>1</th>\n",
       "      <td>Thursday</td>\n",
       "      <td>01-May-14</td>\n",
       "      <td>29.382070</td>\n",
       "      <td>Melissa</td>\n",
       "      <td>East</td>\n",
       "      <td>Salvatore</td>\n",
       "      <td>64.952920</td>\n",
       "      <td>26.4</td>\n",
       "      <td>2</td>\n",
       "    </tr>\n",
       "    <tr>\n",
       "      <th>2</th>\n",
       "      <td>Thursday</td>\n",
       "      <td>01-May-14</td>\n",
       "      <td>33.580664</td>\n",
       "      <td>Melissa</td>\n",
       "      <td>West</td>\n",
       "      <td>Salvatore</td>\n",
       "      <td>49.113452</td>\n",
       "      <td>58.1</td>\n",
       "      <td>3</td>\n",
       "    </tr>\n",
       "    <tr>\n",
       "      <th>3</th>\n",
       "      <td>Thursday</td>\n",
       "      <td>01-May-14</td>\n",
       "      <td>32.505369</td>\n",
       "      <td>Melissa</td>\n",
       "      <td>East</td>\n",
       "      <td>Salvatore</td>\n",
       "      <td>64.872559</td>\n",
       "      <td>35.2</td>\n",
       "      <td>3</td>\n",
       "    </tr>\n",
       "    <tr>\n",
       "      <th>4</th>\n",
       "      <td>Thursday</td>\n",
       "      <td>01-May-14</td>\n",
       "      <td>25.493613</td>\n",
       "      <td>Melissa</td>\n",
       "      <td>West</td>\n",
       "      <td>Salvatore</td>\n",
       "      <td>59.630052</td>\n",
       "      <td>38.4</td>\n",
       "      <td>2</td>\n",
       "    </tr>\n",
       "    <tr>\n",
       "      <th>5</th>\n",
       "      <td>Thursday</td>\n",
       "      <td>01-May-14</td>\n",
       "      <td>21.727466</td>\n",
       "      <td>Melissa</td>\n",
       "      <td>Centre</td>\n",
       "      <td>Bruno</td>\n",
       "      <td>53.715391</td>\n",
       "      <td>61.8</td>\n",
       "      <td>4</td>\n",
       "    </tr>\n",
       "    <tr>\n",
       "      <th>6</th>\n",
       "      <td>Thursday</td>\n",
       "      <td>01-May-14</td>\n",
       "      <td>38.394169</td>\n",
       "      <td>Laura</td>\n",
       "      <td>West</td>\n",
       "      <td>Bruno</td>\n",
       "      <td>60.266862</td>\n",
       "      <td>57.9</td>\n",
       "      <td>3</td>\n",
       "    </tr>\n",
       "    <tr>\n",
       "      <th>7</th>\n",
       "      <td>Thursday</td>\n",
       "      <td>01-May-14</td>\n",
       "      <td>22.186179</td>\n",
       "      <td>Melissa</td>\n",
       "      <td>West</td>\n",
       "      <td>Mario</td>\n",
       "      <td>61.187654</td>\n",
       "      <td>35.8</td>\n",
       "      <td>2</td>\n",
       "    </tr>\n",
       "    <tr>\n",
       "      <th>8</th>\n",
       "      <td>Thursday</td>\n",
       "      <td>01-May-14</td>\n",
       "      <td>35.324994</td>\n",
       "      <td>Laura</td>\n",
       "      <td>Centre</td>\n",
       "      <td>Mario</td>\n",
       "      <td>64.204093</td>\n",
       "      <td>36.6</td>\n",
       "      <td>2</td>\n",
       "    </tr>\n",
       "    <tr>\n",
       "      <th>9</th>\n",
       "      <td>Thursday</td>\n",
       "      <td>01-May-14</td>\n",
       "      <td>34.015280</td>\n",
       "      <td>Melissa</td>\n",
       "      <td>Centre</td>\n",
       "      <td>Bruno</td>\n",
       "      <td>67.383452</td>\n",
       "      <td>44.8</td>\n",
       "      <td>5</td>\n",
       "    </tr>\n",
       "    <tr>\n",
       "      <th>10</th>\n",
       "      <td>Thursday</td>\n",
       "      <td>01-May-14</td>\n",
       "      <td>33.792085</td>\n",
       "      <td>Melissa</td>\n",
       "      <td>Centre</td>\n",
       "      <td>Bruno</td>\n",
       "      <td>70.983051</td>\n",
       "      <td>49.5</td>\n",
       "      <td>4</td>\n",
       "    </tr>\n",
       "    <tr>\n",
       "      <th>11</th>\n",
       "      <td>Thursday</td>\n",
       "      <td>01-May-14</td>\n",
       "      <td>29.131207</td>\n",
       "      <td>Laura</td>\n",
       "      <td>East</td>\n",
       "      <td>Mario</td>\n",
       "      <td>69.949241</td>\n",
       "      <td>49.7</td>\n",
       "      <td>3</td>\n",
       "    </tr>\n",
       "    <tr>\n",
       "      <th>12</th>\n",
       "      <td>Thursday</td>\n",
       "      <td>01-May-14</td>\n",
       "      <td>21.926461</td>\n",
       "      <td>Melissa</td>\n",
       "      <td>West</td>\n",
       "      <td>Mario</td>\n",
       "      <td>60.798941</td>\n",
       "      <td>41.1</td>\n",
       "      <td>1</td>\n",
       "    </tr>\n",
       "    <tr>\n",
       "      <th>13</th>\n",
       "      <td>Thursday</td>\n",
       "      <td>01-May-14</td>\n",
       "      <td>28.185400</td>\n",
       "      <td>Melissa</td>\n",
       "      <td>Centre</td>\n",
       "      <td>Salvatore</td>\n",
       "      <td>72.440348</td>\n",
       "      <td>42.9</td>\n",
       "      <td>1</td>\n",
       "    </tr>\n",
       "    <tr>\n",
       "      <th>14</th>\n",
       "      <td>Thursday</td>\n",
       "      <td>01-May-14</td>\n",
       "      <td>32.603202</td>\n",
       "      <td>Laura</td>\n",
       "      <td>West</td>\n",
       "      <td>Bruno</td>\n",
       "      <td>63.111336</td>\n",
       "      <td>25.9</td>\n",
       "      <td>1</td>\n",
       "    </tr>\n",
       "    <tr>\n",
       "      <th>15</th>\n",
       "      <td>Thursday</td>\n",
       "      <td>01-May-14</td>\n",
       "      <td>32.648734</td>\n",
       "      <td>Melissa</td>\n",
       "      <td>West</td>\n",
       "      <td>Salvatore</td>\n",
       "      <td>55.732293</td>\n",
       "      <td>41.5</td>\n",
       "      <td>6</td>\n",
       "    </tr>\n",
       "    <tr>\n",
       "      <th>16</th>\n",
       "      <td>Thursday</td>\n",
       "      <td>01-May-14</td>\n",
       "      <td>37.398504</td>\n",
       "      <td>Melissa</td>\n",
       "      <td>Centre</td>\n",
       "      <td>Mario</td>\n",
       "      <td>54.507040</td>\n",
       "      <td>34.9</td>\n",
       "      <td>3</td>\n",
       "    </tr>\n",
       "    <tr>\n",
       "      <th>17</th>\n",
       "      <td>Thursday</td>\n",
       "      <td>01-May-14</td>\n",
       "      <td>33.956136</td>\n",
       "      <td>Melissa</td>\n",
       "      <td>East</td>\n",
       "      <td>Bruno</td>\n",
       "      <td>58.103934</td>\n",
       "      <td>42.4</td>\n",
       "      <td>4</td>\n",
       "    </tr>\n",
       "    <tr>\n",
       "      <th>18</th>\n",
       "      <td>Thursday</td>\n",
       "      <td>01-May-14</td>\n",
       "      <td>26.379708</td>\n",
       "      <td>Laura</td>\n",
       "      <td>East</td>\n",
       "      <td>Mario</td>\n",
       "      <td>56.517764</td>\n",
       "      <td>27.3</td>\n",
       "      <td>1</td>\n",
       "    </tr>\n",
       "    <tr>\n",
       "      <th>19</th>\n",
       "      <td>Thursday</td>\n",
       "      <td>01-May-14</td>\n",
       "      <td>33.193288</td>\n",
       "      <td>Melissa</td>\n",
       "      <td>Centre</td>\n",
       "      <td>Bruno</td>\n",
       "      <td>48.759259</td>\n",
       "      <td>47.7</td>\n",
       "      <td>4</td>\n",
       "    </tr>\n",
       "  </tbody>\n",
       "</table>\n",
       "</div>"
      ],
      "text/plain": [
       "         day       date       time operator  branch     driver  temperature  \\\n",
       "0   Thursday  01-May-14  33.708636    Laura    East      Bruno    71.433084   \n",
       "1   Thursday  01-May-14  29.382070  Melissa    East  Salvatore    64.952920   \n",
       "2   Thursday  01-May-14  33.580664  Melissa    West  Salvatore    49.113452   \n",
       "3   Thursday  01-May-14  32.505369  Melissa    East  Salvatore    64.872559   \n",
       "4   Thursday  01-May-14  25.493613  Melissa    West  Salvatore    59.630052   \n",
       "5   Thursday  01-May-14  21.727466  Melissa  Centre      Bruno    53.715391   \n",
       "6   Thursday  01-May-14  38.394169    Laura    West      Bruno    60.266862   \n",
       "7   Thursday  01-May-14  22.186179  Melissa    West      Mario    61.187654   \n",
       "8   Thursday  01-May-14  35.324994    Laura  Centre      Mario    64.204093   \n",
       "9   Thursday  01-May-14  34.015280  Melissa  Centre      Bruno    67.383452   \n",
       "10  Thursday  01-May-14  33.792085  Melissa  Centre      Bruno    70.983051   \n",
       "11  Thursday  01-May-14  29.131207    Laura    East      Mario    69.949241   \n",
       "12  Thursday  01-May-14  21.926461  Melissa    West      Mario    60.798941   \n",
       "13  Thursday  01-May-14  28.185400  Melissa  Centre  Salvatore    72.440348   \n",
       "14  Thursday  01-May-14  32.603202    Laura    West      Bruno    63.111336   \n",
       "15  Thursday  01-May-14  32.648734  Melissa    West  Salvatore    55.732293   \n",
       "16  Thursday  01-May-14  37.398504  Melissa  Centre      Mario    54.507040   \n",
       "17  Thursday  01-May-14  33.956136  Melissa    East      Bruno    58.103934   \n",
       "18  Thursday  01-May-14  26.379708    Laura    East      Mario    56.517764   \n",
       "19  Thursday  01-May-14  33.193288  Melissa  Centre      Bruno    48.759259   \n",
       "\n",
       "    bill  pizzas  \n",
       "0   58.4       4  \n",
       "1   26.4       2  \n",
       "2   58.1       3  \n",
       "3   35.2       3  \n",
       "4   38.4       2  \n",
       "5   61.8       4  \n",
       "6   57.9       3  \n",
       "7   35.8       2  \n",
       "8   36.6       2  \n",
       "9   44.8       5  \n",
       "10  49.5       4  \n",
       "11  49.7       3  \n",
       "12  41.1       1  \n",
       "13  42.9       1  \n",
       "14  25.9       1  \n",
       "15  41.5       6  \n",
       "16  34.9       3  \n",
       "17  42.4       4  \n",
       "18  27.3       1  \n",
       "19  47.7       4  "
      ]
     },
     "execution_count": 4,
     "metadata": {},
     "output_type": "execute_result"
    }
   ],
   "source": [
    "dfP.head(20)"
   ]
  },
  {
   "cell_type": "markdown",
   "metadata": {},
   "source": [
    "**Part A**: The manager's goal is to have an average delivery time across all branches of less than 30 minutes.  Perform an appropriate hypothesis test at the $\\alpha=0.05$ significance level to evaluate whether this goal has been achieved.  Be sure to clearly state your null and alternate hypothesis, describe your testing procedure, and show all calculations in Python. "
   ]
  },
  {
   "cell_type": "markdown",
   "metadata": {
    "collapsed": true
   },
   "source": [
    "Let $t$ be a random variable representing the time it takes for an order to be delivered. Let $\\mu_t$ represent the expected delivery time.\n",
    "\n",
    "$$\n",
    "H_0: \\mu_t = 30 \\\\\n",
    "H_1: \\mu_t < 30\n",
    "$$"
   ]
  },
  {
   "cell_type": "code",
   "execution_count": 5,
   "metadata": {},
   "outputs": [
    {
     "name": "stdout",
     "output_type": "stream",
     "text": [
      "alpha = 0.05000\n",
      "p-val = 0.00076\n"
     ]
    }
   ],
   "source": [
    "# Calculate necessary statistical measures\n",
    "t = dfP['time']\n",
    "tbar = np.mean(t)\n",
    "tvar = np.var(t)\n",
    "alpha = 0.05\n",
    "\n",
    "# Normalize the test statistic and compute a p-value\n",
    "zbar = (tbar - 30) / np.sqrt(tvar/len(t))\n",
    "pval = stats.norm.cdf(zbar)\n",
    "\n",
    "print(\"alpha = {:.5f}\".format(alpha))\n",
    "print(\"p-val = {:.5f}\".format(pval))"
   ]
  },
  {
   "cell_type": "markdown",
   "metadata": {},
   "source": [
    "Since the p-value of $0.0008$ is less than the confidence level $0.05$, there is sufficient statistical evidence to conclude that $\\mu_t < 30$."
   ]
  },
  {
   "cell_type": "markdown",
   "metadata": {},
   "source": [
    "**Part B**: The manager also has the goal of having an average delivery temperature across all branches of greater than 65F.  Perform an appropriate hypothesis test at the $\\alpha=0.05$ significance level to evaluate whether this goal has been achieved.  Be sure to clearly state your null and alternate hypothesis, describe your testing procedure, and show all calculations in Python. "
   ]
  },
  {
   "cell_type": "markdown",
   "metadata": {},
   "source": [
    "Let $f$ be a random variable represending the delivery temperature of a pizza in degrees Farenheit. Let $\\mu_f$ represent the expected delivery temperature.\n",
    "\n",
    "$$\n",
    "H_0: \\mu_f = 65 \\\\\n",
    "H_1: \\mu_f > 65\n",
    "$$"
   ]
  },
  {
   "cell_type": "code",
   "execution_count": 6,
   "metadata": {},
   "outputs": [
    {
     "name": "stdout",
     "output_type": "stream",
     "text": [
      "95% CI: [64.885, 65.664]\n"
     ]
    }
   ],
   "source": [
    "# Calculate necessary statistical measures\n",
    "f = dfP['temperature']\n",
    "fbar = np.mean(f)\n",
    "fvar = np.var(f)\n",
    "alpha = 0.05\n",
    "\n",
    "# Normalize the test statistic and compute a confidence interval\n",
    "zao2 = stats.norm.ppf(1-alpha/2)\n",
    "margin = zao2 * np.sqrt(fvar / len(f))\n",
    "minCI = fbar - margin\n",
    "maxCI = fbar + margin\n",
    "print('95% CI: [{:.3f}, {:.3f}]'.format(minCI, maxCI))"
   ]
  },
  {
   "cell_type": "markdown",
   "metadata": {},
   "source": [
    "Because the 95% confidence interval contains the value 65, there is not enough statistical evidence to say that the mean delivery temperature is greater than 65."
   ]
  },
  {
   "cell_type": "markdown",
   "metadata": {},
   "source": [
    "**Part C**: The manager has enough money to give one of his delivery drivers a raise based on good performance. He knows from the data that his two best drivers are Mario and Luigi, but he's not sure if there is evidence that either one is better than the other.  Using delivery time and temperature as the criteria, perform any necessary hypothesis tests at the $\\alpha = 0.05$ significance level, to determine if one of the drivers deserves a raise. Be sure to clearly describe your hypotheses and methodology, and show any relevant computations in Python. "
   ]
  },
  {
   "cell_type": "markdown",
   "metadata": {},
   "source": [
    "Let $t_m$ and $f_m$ be random variables representing the delivery time and temperature, respectively, for Mario. Let $t_l$ and $f_l$ represent the same for Luigi. Let $\\mu_{t_m}, \\mu_{f_m}, \\mu_{t_l}, \\mu_{f_l}$ represent the expected values for each of these random variables.\n",
    "\n",
    "$$\n",
    "\\text{For delivery time:} \\\\\n",
    "H_0: \\mu_{t_m} = \\mu_{t_l} \\\\\n",
    "H_1: \\mu_{t_m} \\ne \\mu_{t_l}\n",
    "$$\n",
    "\n",
    "$$\n",
    "\\text{For delivery temperature:} \\\\\n",
    "H_0: \\mu_{f_m} = \\mu_{f_l} \\\\\n",
    "H_1: \\mu_{f_m} \\ne \\mu_{f_l}\n",
    "$$"
   ]
  },
  {
   "cell_type": "code",
   "execution_count": 7,
   "metadata": {},
   "outputs": [
    {
     "name": "stdout",
     "output_type": "stream",
     "text": [
      "95% CI for time: [-1.155, 1.161]\n",
      "95% CI for temperature: [-2.068, 0.709]\n"
     ]
    }
   ],
   "source": [
    "alpha = 0.05\n",
    "\n",
    "# Delivery time\n",
    "tm = dfP.loc[dfP['driver'] == 'Mario']['time']\n",
    "tl = dfP.loc[dfP['driver'] == 'Luigi']['time']\n",
    "tmbar = np.mean(tm)\n",
    "tlbar = np.mean(tl)\n",
    "tmvar = np.var(tm)\n",
    "tlvar = np.var(tl)\n",
    "\n",
    "# Calculate a confidence interval for the difference between means\n",
    "zao2 = stats.norm.ppf(1-alpha/2)\n",
    "margin = zao2 * np.sqrt(tmvar/len(tm) + tlvar/len(tl))\n",
    "diff = tmbar - tlbar\n",
    "minCI = diff - margin\n",
    "maxCI = diff + margin\n",
    "\n",
    "print('95% CI for time: [{:.3f}, {:.3f}]'.format(minCI, maxCI))\n",
    "\n",
    "\n",
    "# Delivery Temperature\n",
    "fm = dfP.loc[dfP['driver'] == 'Mario']['temperature']\n",
    "fl = dfP.loc[dfP['driver'] == 'Luigi']['temperature']\n",
    "fmbar = np.mean(fm)\n",
    "flbar = np.mean(fl)\n",
    "fmvar = np.var(fm)\n",
    "flvar = np.var(fl)\n",
    "\n",
    "# Calculate CI for difference\n",
    "margin = zao2 * np.sqrt(fmvar/len(fm) + flvar/len(fl))\n",
    "diff = fmbar - flbar\n",
    "minCI = diff - margin\n",
    "maxCI = diff + margin\n",
    "\n",
    "print('95% CI for temperature: [{:.3f}, {:.3f}]'.format(minCI, maxCI))"
   ]
  },
  {
   "cell_type": "markdown",
   "metadata": {},
   "source": [
    "Because the 95% confidence interval for delivery time contains zero, there is not enough statistical evidence to conclude that there is a difference between the expected delivery times of Mario and Luigi.\n",
    "\n",
    "Likewise, the 95% CI for delivery temperature contains zero, so there is also not enough statistical evidence to conclude that there is a difference between the expected delivery temperatures of Mario and Luigi."
   ]
  },
  {
   "cell_type": "markdown",
   "metadata": {},
   "source": [
    "**Part D**: On the other hand, the manager suspects that Salvatore has been underperforming as a driver.  The manager has a policy that if a pizza takes 40 minutes or longer to be delivered, he has to fork over a free bottle of wine.  This policy is only financially viable for the pizza chain if they have give out free wine on less than 5% of all pizza deliveries.  Perform a hypothesis test at the $\\alpha = 0.05$ significance level to determine if there is significant evidence that the proportion of Salvatore's deliveries that take longer than 40 minutes is greater than 5%.  "
   ]
  },
  {
   "cell_type": "markdown",
   "metadata": {},
   "source": [
    "let $\\hat p_s$ represent the proportion of Salvatore's deliveries which take longer than 40 minutes to deliver.\n",
    "\n",
    "$$\n",
    "H_0: \\hat p_s = 0.05 \\\\\n",
    "H_1: \\hat p_s > 0.05 \\\\\n",
    "$$"
   ]
  },
  {
   "cell_type": "code",
   "execution_count": 9,
   "metadata": {},
   "outputs": [
    {
     "name": "stdout",
     "output_type": "stream",
     "text": [
      "95% CI: [0.031, 0.079]\n"
     ]
    }
   ],
   "source": [
    "alpha = 0.05\n",
    "\n",
    "# Find proportion of deliveries which take over 40 mins\n",
    "s = dfP.loc[dfP['driver'] == 'Salvatore']\n",
    "total_deliveries = len(s)\n",
    "gr40 = len(s.loc[s['time'] > 40])\n",
    "phat = gr40 / total_deliveries\n",
    "\n",
    "# Calculate a CI\n",
    "zao2 = stats.norm.ppf(1-alpha/2)\n",
    "margin = zao2 * np.sqrt((phat*(1-phat)) / total_deliveries)\n",
    "minCI = phat - margin\n",
    "maxCI = phat + margin\n",
    "print(\"95% CI: [{:.3f}, {:.3f}]\".format(minCI, maxCI))"
   ]
  },
  {
   "cell_type": "markdown",
   "metadata": {},
   "source": [
    "Because the $95\\%$ confidence interval contains the value $0.05$, there is not enough statistical evidence to conclude that more than $5\\%$ of Salvatore's deliveries take more than 40 minutes to deliver."
   ]
  },
  {
   "cell_type": "markdown",
   "metadata": {},
   "source": [
    "### [15 points] Problem 4 - Naps vs Coffee for Memory? \n",
    "***\n",
    "\n",
    "The consumption of coffee to benefit alertness is a common activity practiced by 90% of adults in North America. Often coffee is used to replace the need for sleep. One recent study compares students’ ability to recall memorized information after either the consumption of coffee or a brief nap. A random sample of 24 adults\n",
    "were randomly divided into two groups and verbally given a list\n",
    "of 25 words to memorize. During a break, one of the groups took a nap for an hour and a half,\n",
    "another group stayed awake and were given a coffee an hour prior to testing. Researchers measured the number of words participants were\n",
    "able to recall following the break. The summary statistics for the two groups are shown below.\n",
    "\n",
    "$$\n",
    "\\begin{array}{c|c|c|c}\n",
    "\\textrm{Group} & \\textrm{Sample Size} & \\textrm{Mean} & \\textrm{Standard Deviation} \\\\\n",
    "\\hline \n",
    "\\textrm{Nap} & 12 & 15.5 & 3.2 \\\\ \n",
    "\\textrm{Coffee} & 12 & 12.25 & 3.1 \\\\ \n",
    "\\end{array}\n",
    "$$\n",
    "\n",
    "In previous experiments the mean recall measurement was found to be normally distributed. \n",
    "\n",
    "**Part A**: Compute a 95% t-confidence interval for the mean recall measurement for participants that took a nap before the test. Do all computations in Python. "
   ]
  },
  {
   "cell_type": "markdown",
   "metadata": {},
   "source": [
    "$$\n",
    "\\text{CI} = \\bar X ± t_{\\alpha/2, n-1} \\frac{s}{\\sqrt n}\n",
    "$$"
   ]
  },
  {
   "cell_type": "code",
   "execution_count": 12,
   "metadata": {},
   "outputs": [
    {
     "name": "stdout",
     "output_type": "stream",
     "text": [
      "95% CI for nappers: [13.5, 17.5]\n"
     ]
    }
   ],
   "source": [
    "alpha = 0.05\n",
    "\n",
    "nap_bar = 15.5\n",
    "nap_s = 3.2\n",
    "n = 12\n",
    "tao2 = stats.t.ppf(1-alpha/2, n-1)\n",
    "margin = tao2 * (nap_s / np.sqrt(n))\n",
    "\n",
    "minCI = nap_bar - margin\n",
    "maxCI = nap_bar + margin\n",
    "print(\"95% CI for nappers: [{:.1f}, {:.1f}]\".format(minCI, maxCI))"
   ]
  },
  {
   "cell_type": "markdown",
   "metadata": {},
   "source": [
    "**Part B**: Is there sufficient evidence, at the $\\alpha = 0.05$ significance level, to conclude that taking a nap promotes better memory recall that drinking coffee?  Be sure to clearly explain the test that you're doing and state all hypotheses. Do all computations in Python. "
   ]
  },
  {
   "cell_type": "markdown",
   "metadata": {},
   "source": [
    "$$\n",
    "\\text{CI} = (\\bar X_{nap} - \\bar X_{coffee}) ± t_{\\alpha/2, n-1} \\sqrt{ \\frac{s_{nap}^2}{n} + \\frac{s_{cofee}^2}{n}}\n",
    "$$"
   ]
  },
  {
   "cell_type": "code",
   "execution_count": 14,
   "metadata": {},
   "outputs": [
    {
     "name": "stdout",
     "output_type": "stream",
     "text": [
      "95% CI for difference: [2.0, 4.5]\n"
     ]
    }
   ],
   "source": [
    "alpha = 0.05\n",
    "\n",
    "coffee_bar = 12.25\n",
    "coffee_s = 3.1\n",
    "margin = np.sqrt( (nap_s**2)/n + (coffee_s**2)/n )\n",
    "diff = nap_bar - coffee_bar\n",
    "\n",
    "minCI = diff - margin\n",
    "maxCI = diff + margin\n",
    "print(\"95% CI for difference: [{:.1f}, {:.1f}]\".format(minCI, maxCI))"
   ]
  },
  {
   "cell_type": "markdown",
   "metadata": {},
   "source": [
    "Because the $95\\%$ confidence interval for the difference between mean words remembered after a nap and after coffee does *not* contain $0$, there is sufficient statistical evidence to say that naps are more beneficial to memory recall than coffee."
   ]
  },
  {
   "cell_type": "markdown",
   "metadata": {},
   "source": [
    "**Part C**: Compute a 95% confidence interval for the standard deviation of memory recall for coffee drinkers. Do all computations in Python.  "
   ]
  },
  {
   "cell_type": "markdown",
   "metadata": {},
   "source": [
    "$$\n",
    "\\text{CI} = \\sqrt{ \\frac{(n-1)s^2}{\\chi_{\\alpha/2, n-1}^2} } < \\sigma < \\sqrt{ \\frac{(n-1)s^2}{\\chi_{1-\\alpha/2, n-1}^2 }}\n",
    "$$"
   ]
  },
  {
   "cell_type": "code",
   "execution_count": 18,
   "metadata": {},
   "outputs": [
    {
     "name": "stdout",
     "output_type": "stream",
     "text": [
      "95% CI for std of coffee: [2.2, 5.3]\n"
     ]
    }
   ],
   "source": [
    "alpha = 0.05\n",
    "\n",
    "chi_lo = stats.chi2.ppf(alpha/2, n-1)\n",
    "chi_hi = stats.chi2.ppf(1-alpha/2, n-1)\n",
    "numerator = (n-1) * coffee_s**2\n",
    "\n",
    "minCI = np.sqrt(numerator / chi_hi)\n",
    "maxCI = np.sqrt(numerator / chi_lo)\n",
    "print(\"95% CI for std of coffee: [{:.1f}, {:.1f}]\".format(minCI, maxCI))"
   ]
  },
  {
   "cell_type": "markdown",
   "metadata": {},
   "source": [
    "### [20 points] Problem 5 - Bad Science for Fun and Profit \n",
    "***\n",
    "\n",
    "[Data Dredging](https://en.wikipedia.org/wiki/Data_dredging) and [p-hacking](https://www.explainxkcd.com/wiki/index.php/882:_Significant) are umbrella terms for the dangerous practice of automatically testing a large number of hypotheses on the entirety or subsets of a single dataset in order to find statistically significant results. In this exercise we will focus on the idea of testing hypotheses on subsets of a single data set.  \n",
    "\n",
    "Johnny Nefarious has landed his first data science internship at an online marketing firm.  His primary summer project has been to design and test a new email advertisement for his company's best-selling product. To test his advertisement his supervisors have allowed him to send his ad to 4 targeted customer groups of 50 people every day for a month. \n",
    "\n",
    "The effectiveness of online advertising is typically measured by the ad's [click-through rate](https://en.wikipedia.org/wiki/Click-through_rate) (CTR), which is defined to be the _proportion_ of users that click on an advertisement. The company's standard email advertisement has a CTR of $0.05$.  Johnny is hoping to land a permanent position at the company when he graduates, so he's **really** motivated to show his supervisors that the CTR of his email advertisement is a (statistically) significant improvement over their previous ad. \n",
    "\n",
    "The data from Johnny's summer experiment can be found in email.csv. Load this dataset into Pandas. "
   ]
  },
  {
   "cell_type": "code",
   "execution_count": 57,
   "metadata": {},
   "outputs": [
    {
     "data": {
      "text/html": [
       "<div>\n",
       "<style>\n",
       "    .dataframe thead tr:only-child th {\n",
       "        text-align: right;\n",
       "    }\n",
       "\n",
       "    .dataframe thead th {\n",
       "        text-align: left;\n",
       "    }\n",
       "\n",
       "    .dataframe tbody tr th {\n",
       "        vertical-align: top;\n",
       "    }\n",
       "</style>\n",
       "<table border=\"1\" class=\"dataframe\">\n",
       "  <thead>\n",
       "    <tr style=\"text-align: right;\">\n",
       "      <th></th>\n",
       "      <th>Group</th>\n",
       "      <th>Date</th>\n",
       "      <th>Sent</th>\n",
       "      <th>Clicked</th>\n",
       "    </tr>\n",
       "  </thead>\n",
       "  <tbody>\n",
       "    <tr>\n",
       "      <th>0</th>\n",
       "      <td>1</td>\n",
       "      <td>NaN</td>\n",
       "      <td>50</td>\n",
       "      <td>1</td>\n",
       "    </tr>\n",
       "    <tr>\n",
       "      <th>1</th>\n",
       "      <td>1</td>\n",
       "      <td>Oct  2 2017</td>\n",
       "      <td>50</td>\n",
       "      <td>2</td>\n",
       "    </tr>\n",
       "    <tr>\n",
       "      <th>2</th>\n",
       "      <td>1</td>\n",
       "      <td>Oct  3 2017</td>\n",
       "      <td>50</td>\n",
       "      <td>4</td>\n",
       "    </tr>\n",
       "    <tr>\n",
       "      <th>3</th>\n",
       "      <td>1</td>\n",
       "      <td>NaN</td>\n",
       "      <td>50</td>\n",
       "      <td>5</td>\n",
       "    </tr>\n",
       "    <tr>\n",
       "      <th>4</th>\n",
       "      <td>1</td>\n",
       "      <td>Oct  5 2017</td>\n",
       "      <td>50</td>\n",
       "      <td>1</td>\n",
       "    </tr>\n",
       "  </tbody>\n",
       "</table>\n",
       "</div>"
      ],
      "text/plain": [
       "   Group         Date  Sent  Clicked\n",
       "0      1          NaN    50        1\n",
       "1      1  Oct  2 2017    50        2\n",
       "2      1  Oct  3 2017    50        4\n",
       "3      1          NaN    50        5\n",
       "4      1  Oct  5 2017    50        1"
      ]
     },
     "execution_count": 57,
     "metadata": {},
     "output_type": "execute_result"
    }
   ],
   "source": [
    "dfAd = pd.read_csv(\"data/email.csv\")\n",
    "dfAd.head()"
   ]
  },
  {
   "cell_type": "markdown",
   "metadata": {},
   "source": [
    "**Part A**: State the null and alternate hypotheses that Johnny should test to see if his ad campaign is an improvement over the company's standard mailer with a CTR of $0.05$. "
   ]
  },
  {
   "cell_type": "markdown",
   "metadata": {},
   "source": [
    "Let $P_J$ represent the click-through rate of Johnny's ad and $P_S$ represent the click-through rate of the standard mailer.\n",
    "\n",
    "$$\n",
    "H_0: P_J = P_S \\\\\n",
    "H_1: P_J > P_S\n",
    "$$"
   ]
  },
  {
   "cell_type": "markdown",
   "metadata": {},
   "source": [
    "**Part B**: Test the hypothesis from **Part A** at the $\\alpha = 0.05$ significance level using a p-value test. Is there sufficient evidence for Johnny to conclude that his ad campaign is an improvement?   "
   ]
  },
  {
   "cell_type": "markdown",
   "metadata": {},
   "source": [
    "$$\n",
    "Z = \\frac{ \\hat P_J - P_S }{ \\sqrt{\\frac{P_S (1-P_S)}{n}} }\n",
    "$$"
   ]
  },
  {
   "cell_type": "code",
   "execution_count": 53,
   "metadata": {},
   "outputs": [
    {
     "name": "stdout",
     "output_type": "stream",
     "text": [
      "p-value: 0.776\n"
     ]
    }
   ],
   "source": [
    "alpha = 0.05\n",
    "\n",
    "n = dfAd['Sent'].sum()\n",
    "clicked = dfAd['Clicked'].sum()\n",
    "pj = clicked / n\n",
    "ps = 0.05\n",
    "\n",
    "z = (pj - ps) / np.sqrt((ps*(1-ps)) / n)\n",
    "pval = stats.norm.cdf(z)\n",
    "print(\"p-value: {:.3f}\".format(pval))"
   ]
  },
  {
   "cell_type": "markdown",
   "metadata": {},
   "source": [
    "Because the p-value is not less than the $\\alpha$ significance level of $0.05$, Johnny can not conclude that his ad campaing is an improvement."
   ]
  },
  {
   "cell_type": "markdown",
   "metadata": {},
   "source": [
    "**Part C**: Bummer, Johnny thinks. This is the part where he decides to resort to some questionable science.  Maybe there is a reasonable subset of the data for which his alternative hypothesis is supported?  Can he find it?  Can he come up for a reasonable justification for why this subset of the data should be considered while the rest should be discarded? \n",
    "\n",
    "Here are the **rules**: Johnny cannot modify the original data (e.g. by adding nonexistent clicks to certain groups or days) because his boss will surely notice.  Instead he needs to find a subset of the data for which his hypothesis is supported by a p-value test at the $\\alpha = 0.05$ significance level _and_ be able to explain to his supervisors why his sub-selection of the data is reasonable.  \n",
    "\n",
    "In addition to your explanation of why your successful subset of the data is potentially reasonable, be sure to thoroughly explain the details of the tests that you perform and show all of your Python computation.  "
   ]
  },
  {
   "cell_type": "code",
   "execution_count": 59,
   "metadata": {},
   "outputs": [
    {
     "name": "stdout",
     "output_type": "stream",
     "text": [
      "p-val for group 1: 0.261\n",
      "p-val for group 2: 0.658\n",
      "p-val for group 3: 0.739\n",
      "p-val for group 4: 0.866\n"
     ]
    }
   ],
   "source": [
    "alpha = 0.05\n",
    "groups = dfAd['Group'].unique()\n",
    "sig_groups = []\n",
    "\n",
    "for g in groups:\n",
    "    group = dfAd.loc[dfAd['Group'] == g]\n",
    "    \n",
    "    n = group['Sent'].sum()\n",
    "    clicked = group['Clicked'].sum()\n",
    "    pj = clicked / n\n",
    "    ps = 0.05\n",
    "    \n",
    "    z = (pj - ps) / np.sqrt((ps*(1-ps)) / n)\n",
    "    pval = stats.norm.cdf(z)\n",
    "    print(\"p-val for group {:d}: {:.3f}\".format(g, pval))"
   ]
  },
  {
   "cell_type": "code",
   "execution_count": null,
   "metadata": {
    "collapsed": true
   },
   "outputs": [],
   "source": []
  },
  {
   "cell_type": "code",
   "execution_count": null,
   "metadata": {
    "collapsed": true
   },
   "outputs": [],
   "source": []
  },
  {
   "cell_type": "markdown",
   "metadata": {},
   "source": [
    "### [20 points] Problem 6 - Simple Linear Regression for Gas Mileage \n",
    "***\n",
    "\n",
    "The data in auto.csv contains information on cars from the 1970s and 1980s. In this exercise you will construct a simple linear regression model for the response variable mpg with horsepower as the feature. Load the data into a Pandas DataFrame.    \n"
   ]
  },
  {
   "cell_type": "code",
   "execution_count": 60,
   "metadata": {},
   "outputs": [
    {
     "data": {
      "text/html": [
       "<div>\n",
       "<style>\n",
       "    .dataframe thead tr:only-child th {\n",
       "        text-align: right;\n",
       "    }\n",
       "\n",
       "    .dataframe thead th {\n",
       "        text-align: left;\n",
       "    }\n",
       "\n",
       "    .dataframe tbody tr th {\n",
       "        vertical-align: top;\n",
       "    }\n",
       "</style>\n",
       "<table border=\"1\" class=\"dataframe\">\n",
       "  <thead>\n",
       "    <tr style=\"text-align: right;\">\n",
       "      <th></th>\n",
       "      <th>model</th>\n",
       "      <th>year</th>\n",
       "      <th>mpg</th>\n",
       "      <th>cylinders</th>\n",
       "      <th>horsepower</th>\n",
       "      <th>weight</th>\n",
       "    </tr>\n",
       "  </thead>\n",
       "  <tbody>\n",
       "    <tr>\n",
       "      <th>0</th>\n",
       "      <td>chevrolet chevelle malibu</td>\n",
       "      <td>70</td>\n",
       "      <td>18.0</td>\n",
       "      <td>8</td>\n",
       "      <td>130.0</td>\n",
       "      <td>3504.0</td>\n",
       "    </tr>\n",
       "    <tr>\n",
       "      <th>1</th>\n",
       "      <td>buick skylark 320</td>\n",
       "      <td>70</td>\n",
       "      <td>15.0</td>\n",
       "      <td>8</td>\n",
       "      <td>165.0</td>\n",
       "      <td>3693.0</td>\n",
       "    </tr>\n",
       "    <tr>\n",
       "      <th>2</th>\n",
       "      <td>plymouth satellite</td>\n",
       "      <td>70</td>\n",
       "      <td>18.0</td>\n",
       "      <td>8</td>\n",
       "      <td>150.0</td>\n",
       "      <td>3436.0</td>\n",
       "    </tr>\n",
       "    <tr>\n",
       "      <th>3</th>\n",
       "      <td>amc rebel sst</td>\n",
       "      <td>70</td>\n",
       "      <td>16.0</td>\n",
       "      <td>8</td>\n",
       "      <td>150.0</td>\n",
       "      <td>3433.0</td>\n",
       "    </tr>\n",
       "    <tr>\n",
       "      <th>4</th>\n",
       "      <td>ford torino</td>\n",
       "      <td>70</td>\n",
       "      <td>17.0</td>\n",
       "      <td>8</td>\n",
       "      <td>140.0</td>\n",
       "      <td>3449.0</td>\n",
       "    </tr>\n",
       "  </tbody>\n",
       "</table>\n",
       "</div>"
      ],
      "text/plain": [
       "                       model  year   mpg  cylinders  horsepower  weight\n",
       "0  chevrolet chevelle malibu    70  18.0          8       130.0  3504.0\n",
       "1          buick skylark 320    70  15.0          8       165.0  3693.0\n",
       "2         plymouth satellite    70  18.0          8       150.0  3436.0\n",
       "3              amc rebel sst    70  16.0          8       150.0  3433.0\n",
       "4                ford torino    70  17.0          8       140.0  3449.0"
      ]
     },
     "execution_count": 60,
     "metadata": {},
     "output_type": "execute_result"
    }
   ],
   "source": [
    "dfAuto = pd.read_csv(\"data/auto.csv\")\n",
    "dfAuto.head()"
   ]
  },
  {
   "cell_type": "markdown",
   "metadata": {},
   "source": [
    "**Part A**: Perform a simple linear regression with horsepower as the feature and mpg as the response.  Report the estimated regression model in the form $Y = \\alpha + \\beta x$. Do all computations in Python. "
   ]
  },
  {
   "cell_type": "code",
   "execution_count": 68,
   "metadata": {},
   "outputs": [
    {
     "name": "stdout",
     "output_type": "stream",
     "text": [
      "Y = 39.9 - 0.158x\n"
     ]
    }
   ],
   "source": [
    "bhat, ahat, rval, pval, std = stats.linregress(dfAuto['horsepower'], dfAuto['mpg'])\n",
    "print(\"Y = {:.1f} - {:.3f}x\".format(ahat, np.abs(bhat)))"
   ]
  },
  {
   "cell_type": "markdown",
   "metadata": {},
   "source": [
    "**Part B**: Make a scatter-plot of the data with horsepower as the feature and mpg as the response and overlay the estimated regression line. \n"
   ]
  },
  {
   "cell_type": "code",
   "execution_count": 77,
   "metadata": {},
   "outputs": [
    {
     "data": {
      "text/plain": [
       "Text(0,0.5,'Miles per Gallon')"
      ]
     },
     "execution_count": 77,
     "metadata": {},
     "output_type": "execute_result"
    },
    {
     "data": {
      "image/png": "[encoded data removed]",
      "text/plain": [
       "<matplotlib.figure.Figure at 0x1a1caca780>"
      ]
     },
     "metadata": {},
     "output_type": "display_data"
    }
   ],
   "source": [
    "fig, ax = plt.subplots(figsize=(12,6))\n",
    "ax.scatter(dfAuto['horsepower'], dfAuto['mpg'], color='black')\n",
    "\n",
    "x = np.linspace(dfAuto['horsepower'].min(), dfAuto['horsepower'].max())\n",
    "ax.plot(x, ahat + bhat*x)\n",
    "\n",
    "ax.set_title('Horsepower vs. MPG')\n",
    "ax.set_xlabel('Horsepower')\n",
    "ax.set_ylabel('Miles per Gallon')"
   ]
  },
  {
   "cell_type": "markdown",
   "metadata": {},
   "source": [
    "**Part C**: Is the relationship between horsepower and mpg positive or negative? Justify your response. "
   ]
  },
  {
   "cell_type": "markdown",
   "metadata": {},
   "source": [
    "The relationship between horsepower and MPG is negative because the slope $\\hat \\beta < 0$."
   ]
  },
  {
   "cell_type": "code",
   "execution_count": 78,
   "metadata": {},
   "outputs": [
    {
     "name": "stdout",
     "output_type": "stream",
     "text": [
      "-0.157844733354\n"
     ]
    }
   ],
   "source": [
    "print(bhat)"
   ]
  },
  {
   "cell_type": "markdown",
   "metadata": {},
   "source": [
    "**Part D**: Find a 95% confidence interval for the slope parameter.  Based on this confidence interval, is there sufficient evidence to believe, at the 95% confidence level, that there is a real relationship between horsepower and mpg? "
   ]
  },
  {
   "cell_type": "markdown",
   "metadata": {},
   "source": [
    "$$\n",
    "\\hat \\beta ± z_{\\alpha/2} \\frac{\\sigma}{n}\n",
    "$$"
   ]
  },
  {
   "cell_type": "code",
   "execution_count": 85,
   "metadata": {},
   "outputs": [
    {
     "name": "stdout",
     "output_type": "stream",
     "text": [
      "95% CI: [-0.174, -0.141]\n"
     ]
    }
   ],
   "source": [
    "alpha = 0.05\n",
    "zao2 = stats.norm.ppf(1-alpha/2)\n",
    "sig = np.std(dfAuto['mpg'] / dfAuto['horsepower'])\n",
    "n = len(dfAuto)\n",
    "margin = zao2 * sig / np.sqrt(n)\n",
    "\n",
    "minCI = bhat - margin\n",
    "maxCI = bhat + margin\n",
    "print(\"95% CI: [{:.3f}, {:.3f}]\".format(minCI, maxCI))"
   ]
  },
  {
   "cell_type": "markdown",
   "metadata": {},
   "source": [
    "**Part E**: Double-check your result from **Part D** by performing an equivalent hypothesis test.  Be sure to state your null and alternative hypotheses and explain your general methodology.  Do your conclusions agree with those made in **Part D**? "
   ]
  },
  {
   "cell_type": "markdown",
   "metadata": {},
   "source": [
    "$$\n",
    "H_0: \\beta = 0 \\\\\n",
    "H_1: \\beta \\ne 0\n",
    "$$"
   ]
  },
  {
   "cell_type": "markdown",
   "metadata": {
    "collapsed": true
   },
   "source": [
    "Because the (previously stated) confidence interval does not contain $0$, there is sufficient statistical evidence to conclude that MPG is a response variable for horsepower."
   ]
  },
  {
   "cell_type": "markdown",
   "metadata": {},
   "source": [
    "**Part F**: What gas mileage would your simple linear regression model predict for a car with a horsepower of $97$? "
   ]
  },
  {
   "cell_type": "code",
   "execution_count": 79,
   "metadata": {},
   "outputs": [
    {
     "data": {
      "text/plain": [
       "24.624921885866065"
      ]
     },
     "execution_count": 79,
     "metadata": {},
     "output_type": "execute_result"
    }
   ],
   "source": [
    "ahat + bhat * 97"
   ]
  },
  {
   "cell_type": "code",
   "execution_count": null,
   "metadata": {
    "collapsed": true
   },
   "outputs": [],
   "source": []
  }
 ],
 "metadata": {
  "kernelspec": {
   "display_name": "Python 3",
   "language": "python",
   "name": "python3"
  },
  "language_info": {
   "codemirror_mode": {
    "name": "ipython",
    "version": 3
   },
   "file_extension": ".py",
   "mimetype": "text/x-python",
   "name": "python",
   "nbconvert_exporter": "python",
   "pygments_lexer": "ipython3",
   "version": "3.6.3"
  }
 },
 "nbformat": 4,
 "nbformat_minor": 2
}

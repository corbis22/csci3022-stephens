{
 "cells": [
  {
   "cell_type": "markdown",
   "metadata": {},
   "source": [
    "# Homework 5: Confidence Intervals, Autograders, Freethrows\n",
    "***\n",
    "\n",
    "**Name**: Corey Stephens\n",
    "\n",
    "***\n",
    "\n",
    "This assignment is due on Moodle by **5pm on Friday April 6th**. Your solutions to theoretical questions should be done in Markdown/MathJax directly below the associated question.  Your solutions to computational questions should include any specified Python code and results as well as written commentary on your conclusions.  Remember that you are encouraged to discuss the problems with your instructors and classmates, but **you must write all code and solutions on your own**.  For a refresher on the course **Collaboration Policy** click [here](https://github.com/dblarremore/csci3022/blob/master/resources/syllabus.md#collaboration-policy).\n",
    "\n",
    "**NOTES**: \n",
    "\n",
    "- Do **NOT** load or use any Python packages that are not available in Anaconda 3.6. \n",
    "- Some problems with code may be autograded.  If we provide a function API **do not** change it.  If we do not provide a function API then you're free to structure your code however you like. \n",
    "- Because you can technically evaluate notebook cells is a non-linear order, it's a good idea to do Cell $\\rightarrow$ Run All as a check before submitting your solutions.  That way if we need to run your code you will know that it will work as expected. \n",
    "- Submit only this Jupyter notebook to Moodle.  Do not compress it using tar, rar, zip, etc. "
   ]
  },
  {
   "cell_type": "code",
   "execution_count": 1,
   "metadata": {
    "collapsed": true,
    "scrolled": true
   },
   "outputs": [],
   "source": [
    "import numpy as np\n",
    "import matplotlib.pylab as plt\n",
    "import pandas as pd\n",
    "from scipy import stats\n",
    "%matplotlib inline"
   ]
  },
  {
   "cell_type": "markdown",
   "metadata": {},
   "source": [
    "### [20 points] Problem 1 - Alcohol Content of Red vs White Wine \n",
    "***\n",
    "\n",
    "Load the data in $\\texttt{winequality-red.csv}$ and $\\texttt{winequality-white.csv}$ into Pandas DataFrames.  A description of this dataset can be found on [Berkeley's Machine Learning Repository](https://archive.ics.uci.edu/ml/datasets/Wine+Quality). The characteristic that we'll be interested in is the wine's alcohol content.  "
   ]
  },
  {
   "cell_type": "code",
   "execution_count": 2,
   "metadata": {
    "collapsed": true
   },
   "outputs": [],
   "source": [
    "dfRed = pd.read_csv('data/winequality-red.csv', delimiter=';')\n",
    "dfWhite = pd.read_csv('data/winequality-white.csv', delimiter=';')"
   ]
  },
  {
   "cell_type": "code",
   "execution_count": 3,
   "metadata": {},
   "outputs": [
    {
     "data": {
      "text/plain": [
       "1599"
      ]
     },
     "execution_count": 3,
     "metadata": {},
     "output_type": "execute_result"
    }
   ],
   "source": [
    "dfRed['alcohol'].count()"
   ]
  },
  {
   "cell_type": "code",
   "execution_count": 4,
   "metadata": {},
   "outputs": [
    {
     "data": {
      "text/plain": [
       "4898"
      ]
     },
     "execution_count": 4,
     "metadata": {},
     "output_type": "execute_result"
    }
   ],
   "source": [
    "dfWhite['alcohol'].count()"
   ]
  },
  {
   "cell_type": "markdown",
   "metadata": {},
   "source": [
    "**Part A**: Are we justified in using the assumptions of the Central Limit Theorem in our analysis of estimates of the mean of the data?  Justify your response. "
   ]
  },
  {
   "cell_type": "markdown",
   "metadata": {
    "collapsed": true
   },
   "source": [
    "The winequality-red.csv file contains nearly 1600 rows, and the winequality-white.csv file contains nearly 4900 rows, both of which are well within the range of 'large-n', so the Central Limit Theorem holds."
   ]
  },
  {
   "cell_type": "markdown",
   "metadata": {},
   "source": [
    "**Part B**: Compute a 95% confidence interval for the mean of the red wine's alcohol content.  Separately, compute a 95% confidence interval for the mean of the white wine's alcohol content. Do all computations in Python. "
   ]
  },
  {
   "cell_type": "code",
   "execution_count": 5,
   "metadata": {},
   "outputs": [
    {
     "name": "stdout",
     "output_type": "stream",
     "text": [
      "[10.371, 10.475]\n"
     ]
    }
   ],
   "source": [
    "xbar_red = dfRed['alcohol'].mean()\n",
    "zalpha = stats.norm.ppf(0.975)\n",
    "stdev_red = dfRed['alcohol'].std()\n",
    "rootn_red = np.sqrt(dfRed['alcohol'].count())\n",
    "maxCI_red = xbar_red + zalpha*(stdev_red/rootn_red)\n",
    "minCI_red = xbar_red - zalpha*(stdev_red/rootn_red)\n",
    "print(\"[{:.3f}, {:.3f}]\".format(minCI_red, maxCI_red))"
   ]
  },
  {
   "cell_type": "code",
   "execution_count": 6,
   "metadata": {},
   "outputs": [
    {
     "name": "stdout",
     "output_type": "stream",
     "text": [
      "[10.575, 10.575]\n"
     ]
    }
   ],
   "source": [
    "xbar_white = dfWhite['alcohol'].mean()\n",
    "stdev_white = dfWhite['alcohol'].std()\n",
    "rootn_white = np.sqrt(dfRed['alcohol'].count())\n",
    "maxCI_white = xbar_white + zalpha*(stdev_white/rootn_white)\n",
    "minCI_white = xbar_white + zalpha*(stdev_white/rootn_white)\n",
    "print(\"[{:.3f}, {:.3f}]\".format(minCI_white, maxCI_white))"
   ]
  },
  {
   "cell_type": "markdown",
   "metadata": {},
   "source": [
    "**Part C**: Compute the 95% confidence interval for the difference between the means of the alcohol content of red and white wine. "
   ]
  },
  {
   "cell_type": "code",
   "execution_count": 7,
   "metadata": {},
   "outputs": [
    {
     "name": "stdout",
     "output_type": "stream",
     "text": [
      "[0.016, 0.167]\n"
     ]
    }
   ],
   "source": [
    "mean_diff = np.absolute(xbar_red - xbar_white)\n",
    "std_diff = np.sqrt((stdev_red**2)/rootn_red**2 + (stdev_white)/rootn_white**2)\n",
    "minCI_diff = mean_diff - zalpha*std_diff\n",
    "maxCI_diff = mean_diff + zalpha*std_diff\n",
    "print('[{:.3f}, {:.3f}]'.format(minCI_diff, maxCI_diff))"
   ]
  },
  {
   "cell_type": "markdown",
   "metadata": {},
   "source": [
    "**Part D**: Interpret the confidence interval you computed in **Part C** in one or two sentences.  Can you say that it's likely that there is a difference in mean alcohol content between red and white wine?  "
   ]
  },
  {
   "cell_type": "markdown",
   "metadata": {
    "collapsed": true
   },
   "source": [
    "Because the 95% CI does not contain $0$, we can say with a high degree of confidence that there is in fact a difference between the mean aclohol content of red and white wines."
   ]
  },
  {
   "cell_type": "markdown",
   "metadata": {},
   "source": [
    "### [15 points] Problem 2: Election Polling\n",
    "***\n",
    "\n",
    "On the eve of an important senate seat election, a pollster polls a simple random sample of the population and asks which candidate they plan to vote for on the following day. In particular, the pollster asks if the respondents plan to vote for Candidate A, Candidate B, or some other candidate.  The results of the poll can be found in the following table: \n",
    "\n",
    "\\begin{array}{ccc}\n",
    "\\hline \n",
    "\\textrm{Candidate A} & \\textrm{Candidate B} & \\textrm{Other} \\\\\n",
    "\\hline \n",
    "1204 & 1099 & 205  \\\\\n",
    "\\hline \n",
    "\\end{array}\n",
    "\n",
    "**Part A**: Poll results are typically reported as a predicted **percentage** of the electorate plus or minus a margin of error, i.e. $\\texttt{percentage} \\pm \\texttt{margin}$.  Express the poll results for Candidates A and B in the specified format at the 95% confidence level. "
   ]
  },
  {
   "cell_type": "code",
   "execution_count": 8,
   "metadata": {},
   "outputs": [
    {
     "name": "stdout",
     "output_type": "stream",
     "text": [
      "Candidate A: 48.0 ± 2.0%\n",
      "Candidate B: 43.8 ± 1.9%\n",
      "Other:        8.2 ± 1.1%\n"
     ]
    }
   ],
   "source": [
    "A = 1204\n",
    "B = 1099\n",
    "O = 205\n",
    "n = A + B + O\n",
    "alpha = 0.05\n",
    "\n",
    "Ap = A / n\n",
    "Bp = B / n\n",
    "Op = O / n\n",
    "\n",
    "As = np.sqrt( (Ap * (1-Ap)) / n )\n",
    "Bs = np.sqrt( (Bp * (1-Bp)) / n )\n",
    "Os = np.sqrt( (Op * (1-Op)) / n )\n",
    "\n",
    "zalpha = stats.norm.ppf(1-alpha/2)\n",
    "\n",
    "Am = zalpha * As\n",
    "Bm = zalpha * Bs\n",
    "Om = zalpha * Os\n",
    "\n",
    "print(\"Candidate A: {:.1f} ± {:.1%}\".format(Ap*100, Am))\n",
    "print(\"Candidate B: {:.1f} ± {:.1%}\".format(Bp*100, Bm))\n",
    "print(\"Other: {:>10.1f} ± {:.1%}\".format(Op*100, Om))"
   ]
  },
  {
   "cell_type": "markdown",
   "metadata": {},
   "source": [
    "**Part B**: Express the poll results as 95% confidence intervals.  Based on these results, would it be responsible for a newspaper to definitely call the election for a particular candidate? Clearly justify your response. "
   ]
  },
  {
   "cell_type": "code",
   "execution_count": 9,
   "metadata": {},
   "outputs": [
    {
     "name": "stdout",
     "output_type": "stream",
     "text": [
      "Candidate A: [46.1%, 50.0%]\n",
      "Candidate B: [41.9%, 45.8%]\n",
      "Other:       [7.1%, 9.2%]\n"
     ]
    }
   ],
   "source": [
    "Amin = Ap - Am\n",
    "Amax = Ap + Am\n",
    "Bmin = Bp - Bm\n",
    "Bmax = Bp + Bm\n",
    "Omin = Op - Om\n",
    "Omax = Op + Om\n",
    "\n",
    "print(\"Candidate A: [{:.1%}, {:.1%}]\".format(Amin, Amax))\n",
    "print(\"Candidate B: [{:.1%}, {:.1%}]\".format(Bmin, Bmax))\n",
    "print(\"Other:       [{:.1%}, {:.1%}]\".format(Omin, Omax))"
   ]
  },
  {
   "cell_type": "markdown",
   "metadata": {},
   "source": [
    "Because Candidate A's 95% confidence interval does not overlap with Candidate B's, it would not be irresponsible to call the election in favor of Candidate A."
   ]
  },
  {
   "cell_type": "markdown",
   "metadata": {},
   "source": [
    "**Part C**: In the run-up to the next election, the pollster is designing a poll of a city council race between two relatively unknown candidates.  Without having any prior data, how many respondents does the pollster need responses from to guarantee that she will get at most a 2% margin of error at the 95% confidence level? Be sure to **clearly** justify your reasoning.  \n",
    "\n",
    "**Hint**: Recall that when computing a confidence interval for proportion we use the actual sample proportion to approximate the variance.  How can you get a worst-case scenario estimate of the variance when the sample proportion is not known _a priori_? \n"
   ]
  },
  {
   "cell_type": "markdown",
   "metadata": {
    "collapsed": true
   },
   "source": [
    "$$\\begin{align}\n",
    "\\text{margin} & = Z_{\\alpha/2}\\frac{\\sigma}{\\sqrt{n}} \\approx Z_{\\alpha/2}\\frac{s}{\\sqrt{n}} \\\\\n",
    "0.02 & \\ge 1.96 \\frac{s}{\\sqrt{n}} \\\\\n",
    "0.02\\sqrt{n} & \\ge 1.96 s \\\\\n",
    "\\sqrt n & \\ge 98 s \\\\\n",
    "n & \\ge 9604 s^2 \\\\\n",
    "\\text{Popoviciu's inequality:} \\\\\n",
    "s^2 & \\le \\frac14 (1.0 - 0.0)^2 = 0.25 \\\\\n",
    "n & \\ge 2401\n",
    "\\end{align}$$"
   ]
  },
  {
   "cell_type": "code",
   "execution_count": 11,
   "metadata": {},
   "outputs": [
    {
     "data": {
      "text/plain": [
       "0.96036470517353134"
      ]
     },
     "execution_count": 11,
     "metadata": {},
     "output_type": "execute_result"
    }
   ],
   "source": [
    "(stats.norm.ppf(0.975)/2)**2"
   ]
  },
  {
   "cell_type": "markdown",
   "metadata": {},
   "source": [
    "### [15 points] Problem 3 - Have Opinions on Marijuana Legalization Changed? \n",
    "***\n",
    "\n",
    "The General Social Survey (GSS) has been collecting demographic, behavioral, and attitudinal information since 1972 to monitor changes within the US and to compare the US to other nations. Support for the legalization of marijuana in the US is shown for 2010 and in 2016 in the following table:\n",
    "\n",
    "\n",
    "\\begin{array}{cccc}\n",
    "\\hline\n",
    "\\textrm{Year} & \\textrm{Favor} & \\textrm{Oppose} & \\textrm{Total} \\\\ \n",
    "\\hline\n",
    "\\textrm{2010} & \\textrm{603} & \\textrm{656} & \\textrm{1259} \\\\\n",
    "\\textrm{2016} & \\textrm{1126} & \\textrm{717} & \\textrm{1843} \\\\\n",
    "\\hline\n",
    "\\end{array}\n",
    "\n",
    "\n",
    "**Part A**: Find a 95% confidence interval for the change in the proportion supporting marijuana legalization from 2010 to 2016. Use Python for all computations and show your work. "
   ]
  },
  {
   "cell_type": "markdown",
   "metadata": {},
   "source": [
    "$$\\begin{align}\n",
    "\\text{CI} & = \\big(\\hat p_{2016} - \\hat p_{2010}\\big) ± Z_\\alpha \\cdot \\sqrt{\\frac{\\hat p_{2010}(1-\\hat p_{2010})}{n_{2010}} + \\frac{\\hat p_{2016}(1-\\hat p_{2016})}{n_{2016}}} \\\\\n",
    "& = (0.611 - 0.479) ± 1.96 \\cdot \\sqrt{\\frac{0.479 \\cdot 0.521}{603} + \\frac{0.611 \\cdot 0.389}{1126}} \\\\\n",
    "& = 0.132 ± 0.035\n",
    "\\end{align}$$"
   ]
  },
  {
   "cell_type": "code",
   "execution_count": 12,
   "metadata": {},
   "outputs": [
    {
     "name": "stdout",
     "output_type": "stream",
     "text": [
      "[9.7%, 16.7%]\n"
     ]
    }
   ],
   "source": [
    "# Create DataFrame for easy processing\n",
    "df = pd.DataFrame([['Year', 'Favor', 'Oppose', 'Total'], [2010, 603, 656, 1259], [2016, 1126, 717, 1843]])\n",
    "df.columns = df.iloc[0]\n",
    "df = df.reindex(df.index.drop(0))\n",
    "\n",
    "# Compute number and proportion of 'Favor' votes for each year\n",
    "n2010 = df.iloc[0][3]\n",
    "p2010 = df.iloc[0][1] / n2010\n",
    "n2016 = df.iloc[1][3]\n",
    "p2016 = df.iloc[1][1] / n2016\n",
    "\n",
    "alpha = 0.05\n",
    "zalpha = stats.norm.ppf(1-alpha/2)\n",
    "# Compute radical to multiply Zalpha by\n",
    "margin = np.sqrt( (p2016*(1-p2016))/n2016 + (p2010*(1-p2010))/n2010 )\n",
    "diff = p2016 - p2010\n",
    "minCI = diff - zalpha * margin\n",
    "maxCI = diff + zalpha * margin\n",
    "print(\"[{:.1%}, {:.1%}]\".format(minCI, maxCI))"
   ]
  },
  {
   "cell_type": "markdown",
   "metadata": {},
   "source": [
    "**Part B**: Is it likely that the proportion supporting marijuana legalization changed between 2010 and 2016? Justify your conclusion using the ideas of statistical inference and your results from **Part A**. "
   ]
  },
  {
   "cell_type": "markdown",
   "metadata": {
    "collapsed": true
   },
   "source": [
    "It is likely that the proportion of people who support marijuana legalization changed because the $95\\%$ condfidence interval does not contain $0$."
   ]
  },
  {
   "cell_type": "markdown",
   "metadata": {},
   "source": [
    "### [20 points] Problem 4 - Exploring Confidence Intervals \n",
    "***\n",
    "\n",
    "The so-called [Chi-squared](https://en.wikipedia.org/wiki/Chi-squared_distribution) distribution is important in several statistical tests.  It's also fairly asymmetric, and thus interesting for investigating confidence intervals.  It is implemented in scipy.stats as [chi2](https://docs.scipy.org/doc/scipy-0.19.1/reference/generated/scipy.stats.chi2.html). \n"
   ]
  },
  {
   "cell_type": "code",
   "execution_count": 13,
   "metadata": {
    "collapsed": true
   },
   "outputs": [],
   "source": [
    "from scipy.stats import chi2"
   ]
  },
  {
   "cell_type": "markdown",
   "metadata": {},
   "source": [
    "**Part A**: Complete the following code cell to plot a histogram of realizations from the Chi-squared distribution with parameter $K=3$. "
   ]
  },
  {
   "cell_type": "code",
   "execution_count": 14,
   "metadata": {
    "scrolled": false
   },
   "outputs": [
    {
     "data": {
      "text/plain": [
       "Text(0.5,1,'Realizations of the Chi-squared distribution for K=3')"
      ]
     },
     "execution_count": 14,
     "metadata": {},
     "output_type": "execute_result"
    },
    {
     "data": {
      "image/png": "[encoded data removed]",
      "text/plain": [
       "<matplotlib.figure.Figure at 0x109ae3ef0>"
      ]
     },
     "metadata": {},
     "output_type": "display_data"
    }
   ],
   "source": [
    "k = 3 \n",
    "x = chi2.rvs(k, size=10000)\n",
    "fig, ax = plt.subplots(nrows=1, ncols=1, figsize=(12,6))\n",
    "ax.hist(x)\n",
    "ax.set_title(\"Realizations of the Chi-squared distribution for K=3\")"
   ]
  },
  {
   "cell_type": "markdown",
   "metadata": {},
   "source": [
    "**Part B**: Look up the mean and variance of the Chi-squared distribution with parameter $k=3$ and report them here. "
   ]
  },
  {
   "cell_type": "code",
   "execution_count": 15,
   "metadata": {},
   "outputs": [
    {
     "name": "stdout",
     "output_type": "stream",
     "text": [
      "Mean:     3.017\n",
      "Variance: 5.969\n"
     ]
    }
   ],
   "source": [
    "print(\"Mean:     {:.3f}\".format(x.mean()))\n",
    "print(\"Variance: {:.3f}\".format(x.var()))"
   ]
  },
  {
   "cell_type": "markdown",
   "metadata": {},
   "source": [
    "**Part C**: In this part you'll write a function to investigate the _coverage properties_ of a confidence interval for the mean of the Chi-squared distribution. Complete the following function to randomly sample $m=500$ sample means with sample size $n=100$ for the Chi-squared distribution with parameter $k=3$.  For each random sample, compute the 95% confidence interval for the mean.  Your function should do two things: \n",
    "\n",
    "1. Report the proportion of confidence intervals that successfully cover the true mean of the distribution \n",
    "2. Make a plot of 50 randomly selected confidence intervals. Overlay the intervals on the line $y=\\mu$ where $\\mu$ is the true mean of the distribution. Color confidence intervals black if they cover the true mean, and red if they don't.  "
   ]
  },
  {
   "cell_type": "code",
   "execution_count": 16,
   "metadata": {
    "collapsed": true,
    "scrolled": false
   },
   "outputs": [],
   "source": [
    "def confidence_intervals(m=500, n=100):\n",
    "    # Set up vars\n",
    "    k = 3\n",
    "    cover_mean = 0\n",
    "    retset = []\n",
    "    fig, ax = plt.subplots(nrows=1, ncols=1, figsize=(12,6))\n",
    "    ci_sample_size = 50\n",
    "    \n",
    "    # Generate CI's\n",
    "    for ii in range(m):\n",
    "        # Get a sample of size n from chi2\n",
    "        x = chi2.rvs(k, size=n)\n",
    "        # Calculate mean, standard deviation\n",
    "        xbar = x.mean()\n",
    "        std = x.std()\n",
    "        # Get zalpha, margin\n",
    "        zalpha = stats.norm.ppf(0.975)\n",
    "        margin = zalpha * (std / np.sqrt(n))\n",
    "        # Compute CI\n",
    "        minCI = xbar - margin\n",
    "        maxCI = xbar + margin    \n",
    "        # Determine if the mean is in the CI\n",
    "        if minCI <= k and k <= maxCI:\n",
    "            cover_mean += 1\n",
    "        retset.append([minCI, maxCI])\n",
    "        \n",
    "    # Get a sample of CI's from the generated set of m CI's\n",
    "    sampleIdx = np.random.choice(m, ci_sample_size)\n",
    "    sampleCI = np.take(retset, sampleIdx, axis=0)\n",
    "    \n",
    "    # Plot the sampled CI's\n",
    "    for ii in range(ci_sample_size):\n",
    "        ax.plot([ii,ii], sampleCI[ii])\n",
    "    ax.plot([0,ci_sample_size], [k,k], ls='--')\n",
    "    ax.set_title('95% Confidence Intervals for the mean of a Chi-squared distribution')\n",
    "    ax.set_xlabel('Sample CI')\n",
    "    ax.set_ylabel('CI Range')\n",
    "    \n",
    "    print('Percentage of confidence intervals which contain the mean: {:.1%}'.format(cover_mean / m))"
   ]
  },
  {
   "cell_type": "code",
   "execution_count": 17,
   "metadata": {},
   "outputs": [
    {
     "name": "stdout",
     "output_type": "stream",
     "text": [
      "Percentage of confidence intervals which contain the mean: 95.2%\n"
     ]
    },
    {
     "data": {
      "image/png": "[encoded data removed]",
      "text/plain": [
       "<matplotlib.figure.Figure at 0x102781320>"
      ]
     },
     "metadata": {},
     "output_type": "display_data"
    }
   ],
   "source": [
    "confidence_intervals()"
   ]
  },
  {
   "cell_type": "markdown",
   "metadata": {},
   "source": [
    "**Part D**: Does the proportion of confidence intervals that cover the true mean of the distribution agree with the theory described in class?  Justify your conclusion. "
   ]
  },
  {
   "cell_type": "markdown",
   "metadata": {
    "collapsed": true
   },
   "source": [
    "Roughly $95\\%$ of the generated confidence intervals cover the true mean, which is exactly what we would expect from a $95\\%$ confidence interval, so yes, this does agree with the theory covered in class. That is the exact definition of a $95\\%$ CI: over many samples of confidence intervals, approximately $95\\%$ of them will contain the true mean."
   ]
  },
  {
   "cell_type": "markdown",
   "metadata": {},
   "source": [
    "### [15 points] Problem 5 - Autograding Simulation Homework \n",
    "***\n",
    "\n",
    "Suppose that you are the grader for an Introduction to Data Science course and your boss has asked you to write an autograder for a homework problem on simulation.  Specifically, students have been asked to write a simulation to estimate the expected number of rolls it will take until doubles are rolled with a pair of fair, six-sided dice (i.e. until both dice show the same value).  The students have been asked to structure their code so that it runs many trials of the experiment and returns the sample mean of the trials, as well as an array containing the result of each individual trial. \n",
    "\n",
    "The solutions submitted by three students in the course are given below. "
   ]
  },
  {
   "cell_type": "code",
   "execution_count": 18,
   "metadata": {
    "collapsed": true
   },
   "outputs": [],
   "source": [
    "def student1(num_trials=5000):\n",
    "    t = np.zeros(num_trials)\n",
    "    for ii in range(num_trials):\n",
    "        ctr = 0\n",
    "        while np.random.choice([1,2,3,4,5,6]) != np.random.choice([1,2,3,4,5,6]):\n",
    "            ctr += 1 \n",
    "        t[ii] = ctr \n",
    "    return np.mean(t), t\n",
    "\n",
    "def student2(num_trials=5000):\n",
    "    t = np.zeros(num_trials)\n",
    "    for ii in range(num_trials):\n",
    "        ctr = 1\n",
    "        while int(6*np.random.uniform(0,1)+1) != int(6*np.random.uniform(0,1)+1):\n",
    "            ctr += 1 \n",
    "        t[ii] = ctr \n",
    "    return np.mean(t), t\n",
    "\n",
    "def student3(num_trials=5000):\n",
    "    t = np.random.exponential(6, size=num_trials)\n",
    "    return np.mean(t), t "
   ]
  },
  {
   "cell_type": "markdown",
   "metadata": {},
   "source": [
    "Now, you landed this job at the last minute, and your probability theory is a little rusty.  Luckily, your boss has given you his solution to the problem which is shown below: "
   ]
  },
  {
   "cell_type": "code",
   "execution_count": 19,
   "metadata": {
    "collapsed": true
   },
   "outputs": [],
   "source": [
    "def prof(num_trials=5000):\n",
    "    t = np.random.geometric(1/6, size=num_trials)\n",
    "    return np.mean(t), t"
   ]
  },
  {
   "cell_type": "markdown",
   "metadata": {},
   "source": [
    "Knowing that your probability theory is rusty, your boss has suggested that your autograder be constructed solely based on confidence intervals to compare the students' estimates of the expected value of the experiment to his own estimate.  Finally, although there are only examples from three students above, there are actually more than 100 students in the course, so tailoring your tests to features of individual students' code is out of the question. \n",
    "\n",
    "**Part A**: Complete the function autograder below, which takes in the realizations of the trials from your professor's code and one of the students' codes, as well as the $\\alpha$ for a $100(1-\\alpha)\\%$ confidence interval and returns a string indicating whether the student passed or failed the test. **Clearly** indicate what statistical test(s) your autograder is using and why this is a good idea.  Then demonstrate the use of your autograder to grade the three student solutions above. "
   ]
  },
  {
   "cell_type": "code",
   "execution_count": 20,
   "metadata": {
    "collapsed": true
   },
   "outputs": [],
   "source": [
    "def autograder(pf, st, alpha=0.05):\n",
    "    passed = False\n",
    "    m = len(pf)\n",
    "    n = len(st)\n",
    "    \n",
    "    pfmean = pf[0]\n",
    "    stmean = st[0]\n",
    "    pfvar = np.var(pf[1])\n",
    "    stvar = np.var(st[1])\n",
    "    \n",
    "    zao2 = stats.norm.ppf(1-alpha/2)\n",
    "    diff = pfmean - stmean\n",
    "    margin = zao2 * np.sqrt( pfvar/m + stvar/n )\n",
    "    minCI = diff - margin\n",
    "    maxCI = diff + margin\n",
    "    \n",
    "    if minCI <= 0 and 0 <= maxCI:\n",
    "        return \"Passed\"\n",
    "    else:\n",
    "        return \"Failed\""
   ]
  },
  {
   "cell_type": "code",
   "execution_count": 21,
   "metadata": {},
   "outputs": [
    {
     "name": "stdout",
     "output_type": "stream",
     "text": [
      "Passed\n",
      "Passed\n",
      "Passed\n"
     ]
    }
   ],
   "source": [
    "students = (student1(), student2(), student3())\n",
    "pf = prof()\n",
    "for s in students:\n",
    "    result = autograder(pf, s)\n",
    "    print(result)"
   ]
  },
  {
   "cell_type": "markdown",
   "metadata": {},
   "source": [
    "The autograder generates a confidence interval based on the difference between the mean of the professor's sample and the student's sample using the formula:\n",
    "$$\n",
    "\\bar X - \\bar Y ± Z_{\\alpha/2} \\ \\sqrt{ \\frac{\\sigma^2_1}{m} + \\frac{\\sigma^2_2}{n} }\n",
    "$$\n",
    "If $0$ is present within the CI, it can be reasonably assumed that both samples came from the same distribution and the student passes. If $0$ is outside the CI, the student's code likely created a different distribution from the professor's and the student fails."
   ]
  },
  {
   "cell_type": "markdown",
   "metadata": {},
   "source": [
    "**[Extra Credit] Part B**: You realize that tests based solely on the estimate of the mean are not robust.  Come up with a better autograder that, again using tests based on confidence intervals, compares the students' solutions to the professor's solutions on statistical properties beyond just the mean. Again, **clearly** motivate the features of your autograder based on theory developed in class.    "
   ]
  },
  {
   "cell_type": "markdown",
   "metadata": {
    "collapsed": true
   },
   "source": [
    "### [15 points] Problem 6 - Freethrows\n",
    "***\n",
    "\n",
    "Keep your skills sharp by answering these straightforward questions."
   ]
  },
  {
   "cell_type": "markdown",
   "metadata": {},
   "source": [
    "**Part A**: <font color='green'>You are driving through the paint toward the basket when Steph Curry fouls you. You step to the line to sink this freethrow shot, which is delivered in the form of a CSCI3022 problem:</font>\n",
    "\n",
    "You have a shuffled deck of cards. You flip over the cards one by one, without replacing them in the deck. You count how many cards you'll have to flip until you flip over the third Jack.  You repeat this many times. Simulate this process. Plot a histogram with binsize=1 of the outcomes. Compute the mean, median, and mode for this dataset, indicate them on the plot too. Look up how to do a legend in MatPlotLib, and label your histogram, mean, median.\n",
    "***"
   ]
  },
  {
   "cell_type": "code",
   "execution_count": 60,
   "metadata": {},
   "outputs": [
    {
     "data": {
      "text/plain": [
       "<matplotlib.legend.Legend at 0x1a19ff4b38>"
      ]
     },
     "execution_count": 60,
     "metadata": {},
     "output_type": "execute_result"
    },
    {
     "data": {
      "image/png": "[encoded data removed]",
      "text/plain": [
       "<matplotlib.figure.Figure at 0x1a19ffd6a0>"
      ]
     },
     "metadata": {},
     "output_type": "display_data"
    }
   ],
   "source": [
    "from matplotlib.patches import mlines\n",
    "\n",
    "def flip_cards():\n",
    "    cards = ['2','3','4','5','6','7','8','9','10','J','Q','K','A'] * 4\n",
    "    np.random.shuffle(cards)\n",
    "    j_count = 0\n",
    "    flip_count = 0\n",
    "    for card in cards:\n",
    "        flip_count += 1\n",
    "        if card == 'J':\n",
    "            j_count += 1\n",
    "        if j_count == 3:\n",
    "            break\n",
    "    return flip_count\n",
    "\n",
    "num_trials = 50000\n",
    "flips = [ flip_cards() for i in range(num_trials) ]\n",
    "\n",
    "fig, ax = plt.subplots(figsize=(12,6))\n",
    "ax.hist(flips, bins=range(54))\n",
    "ax.set_title('Number of Flips to Reveal the 3rd Jack')\n",
    "ax.set_xlabel('Number of Flips')\n",
    "ax.set_ylabel('Number of Trials')\n",
    "\n",
    "mean = np.mean(flips)\n",
    "median = np.median(flips)\n",
    "mode = stats.mode(flips)[0][0]\n",
    "\n",
    "lmean = mlines.Line2D([], [], label='Mean: {:.3f}'.format(mean))\n",
    "lmedian = mlines.Line2D([], [], label='Median: {:.1f}'.format(median))\n",
    "lmode = mlines.Line2D([], [], label='Mode: {:d}'.format(mode))\n",
    "ax.legend(handles=[lmean, lmedian, lmode])"
   ]
  },
  {
   "cell_type": "markdown",
   "metadata": {},
   "source": [
    "**Part B**: <font color='green'>You sink your first free throw and immediately get dap from your teammates, Jerry Ferguson and Steve Ferguson. You prepare to take anotter shot, which—and you're not going to believe this—is another CSCI3022 problem:</font>\n",
    "\n",
    "In general, which is wider: a 95% confidence interval or a 99% confidence interval? How would you explain this to your younger sibling, who is not a statistician?\n",
    "***"
   ]
  },
  {
   "cell_type": "markdown",
   "metadata": {},
   "source": [
    "The 99% CI is larger than the 95% CI because if we are saying with a higher degree of confidence that a certain value lies within the CI, then we must expand that range to caputre a larger number of possible values. Put another way, a 100% CI would have to be infinitely wide because we can only be 100% sure that our value lies within a range if that range contains all values."
   ]
  },
  {
   "cell_type": "markdown",
   "metadata": {},
   "source": [
    "**Part C**: <font color='green'>The crowd is silent. Everything is slow motion. You're literally in the air, releasing what looks to be a perfect shot to tie the game. As you release the ball, a hand appears to block it. It is Kevin Durant. :( \n",
    "\n",
    "Luckily, his fingertips also brush against your arm. That's a foul, and everyone saw it. Back to the line. Back to CSCI3022:</font>\n",
    "\n",
    "Let $X$ be a normally-distributed random variable. You draw from it and get these values, stored in the numpy array **durant**, below. Compute a 95% confidence interval for the standard deviation.\n",
    "***"
   ]
  },
  {
   "cell_type": "code",
   "execution_count": 22,
   "metadata": {
    "collapsed": true
   },
   "outputs": [],
   "source": [
    "durant = np.array([3.7778,3.9459,3.8248,4.1111,4.0180,4.0898,4.0380,3.9273,3.9614,3.8387])"
   ]
  },
  {
   "cell_type": "code",
   "execution_count": 87,
   "metadata": {},
   "outputs": [
    {
     "name": "stdout",
     "output_type": "stream",
     "text": [
      "[0.017, 0.120]\n"
     ]
    }
   ],
   "source": [
    "a = 0.05\n",
    "n = len(durant)\n",
    "s = np.std(durant)\n",
    "chi2_low = stats.chi2.ppf(a/2, n-1)\n",
    "chi2_high = stats.chi2.ppf(1-a/2, n-1)\n",
    "maxCI = np.sqrt(((n-1)*(s**2))/chi2_low**2)\n",
    "minCI = np.sqrt(((n-1)*(s**2))/chi2_high**2)\n",
    "print('[{:.3f}, {:.3f}]'.format(minCI, maxCI))"
   ]
  },
  {
   "cell_type": "markdown",
   "metadata": {},
   "source": [
    "**Part D**: <font color='green'>You are watching tape footage at halftime with your personal trainer, Maureen Ferguson. You gotta focus up if you're going to match Klay Thompson's speed in the second half. You take a sip of Gatorade and Dr. Ferguson suggests that you do the following CSCI3022 problem:</font>\n",
    "\n",
    "You collect 53 samples of hair from baby river otters and find that they are, on average, 22.6 mm long, with a standard devaition of 15.2mm. \n",
    "\n",
    "Then you collect 41 samples of hair from baby sea otters and find that they are, on average, 26.4 mm long, with a standard deviation of 11.4 mm. \n",
    "\n",
    "Is there statistical evidence at the 0.05 significance level that the true mean of baby sea otter hair length exceeds the true mean of baby river otter hair length by more than 3 mm?  Use a test of your choice.\n",
    "\n",
    "***"
   ]
  },
  {
   "cell_type": "markdown",
   "metadata": {},
   "source": [
    "$$\n",
    "\\bar W = \\bar X - \\bar Y = 26.4 - 22.6 \\\\\n",
    "\\bar W - 3 ± Z_{\\alpha/2} \\ \\sqrt{ \\frac{\\sigma_X^2}{m} + \\frac{\\sigma_Y^2}{n} } \\\\\n",
    "3.800 - 3 ± 1.96 \\ \\sqrt{ \\frac{15.2^2}{53} + \\frac{11.4^2}{41} } \\\\\n",
    "0.800 ± 5.378 = [-4.578, 6.178]\n",
    "$$\n",
    "\n",
    "Because the 95% CI for the difference minus three contains zero, it is likely that the true mean of baby sea otter hair length exceeds the true mean of baby river otter hair length by more than 3 mm."
   ]
  },
  {
   "cell_type": "code",
   "execution_count": 70,
   "metadata": {},
   "outputs": [
    {
     "name": "stdout",
     "output_type": "stream",
     "text": [
      "[-4.578, 6.178]\n"
     ]
    }
   ],
   "source": [
    "diff = 26.4 - 22.6\n",
    "diff3 = diff - 3\n",
    "margin = 1.96 * np.sqrt( (15.2**2)/53 + (11.4**2)/41 )\n",
    "print('[{:.3f}, {:.3f}]'.format(diff3 - margin, diff3 + margin))"
   ]
  },
  {
   "cell_type": "markdown",
   "metadata": {},
   "source": [
    "**Part E**: <font color='green'>\"Draymond Green has it all, in spite of living in the Bay Area,\" you think to yourself. \"But he doesn't have this shot...\" You're all over him, and he's going to have to pass. You can see the irritation in his eyes. Then you realize that it's not irritation, and he's not being distracted by your superb defense. He's being distracted by this CSCI3022 problem:</font>\n",
    "\n",
    "If you're doing quality control for the average strength of carbon fiber that will be used in airplane construction, and your alternative hypothesis is that the strength of the carbon is below tolerance, and therefore unsafe, would you rather have a low Type I error rate or a low Type II error rate? Explain.\n",
    "\n",
    "***"
   ]
  },
  {
   "cell_type": "markdown",
   "metadata": {
    "collapsed": true
   },
   "source": [
    "We would rather have a low Type II error rate because that means that we rarely fail to reject the null hypothesis when it is in fact not true. In this case,a Type II error would mean that we assesed the strength of the carbon fiber as being above tolerance when it is actually below it."
   ]
  },
  {
   "cell_type": "code",
   "execution_count": null,
   "metadata": {
    "collapsed": true
   },
   "outputs": [],
   "source": []
  }
 ],
 "metadata": {
  "kernelspec": {
   "display_name": "Python 3",
   "language": "python",
   "name": "python3"
  },
  "language_info": {
   "codemirror_mode": {
    "name": "ipython",
    "version": 3
   },
   "file_extension": ".py",
   "mimetype": "text/x-python",
   "name": "python",
   "nbconvert_exporter": "python",
   "pygments_lexer": "ipython3",
   "version": "3.6.3"
  }
 },
 "nbformat": 4,
 "nbformat_minor": 2
}

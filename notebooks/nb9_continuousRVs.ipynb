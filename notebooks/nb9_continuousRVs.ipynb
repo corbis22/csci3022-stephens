{
 "cells": [
  {
   "cell_type": "markdown",
   "metadata": {},
   "source": [
    "# Lecture 9: Continuous Random Variables and Their Distributions\n",
    "***\n",
    "\n",
    "In this notebook we'll get some more practice working with continuous random variables, their probability density functions, and their cumulative distribution functions.  Additionally, we'll see how we can sample from some continuous distributions using Python and explore the relationship between these samples and their associated densities. \n",
    "\n",
    "We'll need Numpy, Matplotlib, and possibly Pandas for this notebook, so let's load them. "
   ]
  },
  {
   "cell_type": "code",
<<<<<<< HEAD
   "execution_count": 3,
   "metadata": {
    "collapsed": true
   },
=======
   "execution_count": 1,
   "metadata": {},
>>>>>>> 50b712866091082f918961e19ada4f7fbd1a41f1
   "outputs": [],
   "source": [
    "import numpy as np \n",
    "import matplotlib.pylab as plt \n",
    "import pandas as pd \n",
    "%matplotlib inline"
   ]
  },
  {
   "cell_type": "markdown",
   "metadata": {},
   "source": [
    "### Exercise 1 - Waiting For Buses \n",
    "*** \n",
    "\n",
    "Rhonda, arriving at a bus stop, just misses the bus.  Suppose that she decides to walk if the next bus takes longer than 5 minutes to arrive. Suppose also that the time in minutes between arrivals of buses at the bus stop is a continuous random variable with a $U(4,7)$ distribution. Let $X$ be the time that Rhonda will wait. \n",
    "\n",
    "**Part A**: What is the probability that $X$ is less than $4\\frac{1}{2}$ minutes? "
   ]
  },
  {
<<<<<<< HEAD
   "cell_type": "markdown",
   "metadata": {
    "collapsed": true
   },
   "source": [
    "$$\\begin{align}\n",
    "P(X \\leq 4\\frac12) & = \\int_{4}^{4\\frac12}{\\frac13}dx \\\\\n",
    "& = \\frac13 (4\\frac12 - 4) \\\\\n",
    "& = \\frac16\n",
    "\\end{align}$$"
   ]
=======
   "cell_type": "code",
   "execution_count": null,
   "metadata": {
    "collapsed": true
   },
   "outputs": [],
   "source": []
>>>>>>> 50b712866091082f918961e19ada4f7fbd1a41f1
  },
  {
   "cell_type": "markdown",
   "metadata": {},
   "source": [
    "**Part B**: What is the probability that $X$ is exactly 5 minutes? "
   ]
  },
  {
<<<<<<< HEAD
   "cell_type": "markdown",
   "metadata": {
    "collapsed": true
   },
   "source": [
    "$$\n",
    "0\n",
    "$$"
   ]
=======
   "cell_type": "code",
   "execution_count": null,
   "metadata": {
    "collapsed": true
   },
   "outputs": [],
   "source": []
>>>>>>> 50b712866091082f918961e19ada4f7fbd1a41f1
  },
  {
   "cell_type": "markdown",
   "metadata": {},
   "source": [
    "**Part C**: What is the probability that Rhonda ends up walking?  "
   ]
  },
  {
<<<<<<< HEAD
   "cell_type": "markdown",
   "metadata": {
    "collapsed": true
   },
   "source": [
    "$$\\begin{align}\n",
    "P(x > 5) = \\int_{5}^{7}{\\frac13}dx = \\frac23\n",
    "\\end{align}$$"
   ]
=======
   "cell_type": "code",
   "execution_count": null,
   "metadata": {
    "collapsed": true
   },
   "outputs": [],
   "source": []
>>>>>>> 50b712866091082f918961e19ada4f7fbd1a41f1
  },
  {
   "cell_type": "markdown",
   "metadata": {},
   "source": [
    "### Exercise 2 - Darts and Probabilities \n",
    "*** \n",
    "\n",
    "Suppose you are throwing darts at a dart board of radius $R$. Let $X$ be a random variable that measures the distance between the center of the dart board and the place that your dart lands.  Suppose that you're passable at darts, so you never miss the board entirely.    \n",
    "\n",
    "**Part A**: Based on the assumptions above, and some common sense, what are the values that the random variable $X$ can take on? "
   ]
  },
  {
<<<<<<< HEAD
   "cell_type": "markdown",
   "metadata": {
    "collapsed": true
   },
   "source": [
    "$$\n",
    "0 \\leq X \\leq R\n",
    "$$"
   ]
=======
   "cell_type": "code",
   "execution_count": null,
   "metadata": {
    "collapsed": true
   },
   "outputs": [],
   "source": []
>>>>>>> 50b712866091082f918961e19ada4f7fbd1a41f1
  },
  {
   "cell_type": "markdown",
   "metadata": {},
   "source": [
    "**Part B**: Consider the cumulative distribution function $F(x)$ for the scenario above.  First, convince yourself that the following are true: \n",
    "\n",
    "$$\n",
    "F(x) = P(X \\leq x) = 0 \\textrm{ for } x < 0 \n",
    "\\quad \\textrm{and} \\quad \n",
    "F(x) = P(X \\leq x) = 1 \\textrm{ for } x > R \n",
    "$$\n",
    "\n",
    "Now, we need to define the distribution function for the $x$'s on the actual dart board.  Suppose that the probability of hitting _within_ a particular distance $x$ from the center is proportional to the area of the board from the center to the edge of a ring of radius $x$.  Based on this assumption, write down the definition of $F(x)$ for $0 \\leq x \\leq R$. "
   ]
  },
  {
<<<<<<< HEAD
   "cell_type": "markdown",
   "metadata": {
    "collapsed": true
   },
   "source": [
    "$$\n",
    "F(x) = \\frac{\\pi x^2}{\\pi R^2} = \\frac{x^2}{R^2}\n",
    "$$\n",
    "for $0 \\leq x \\leq R$"
   ]
=======
   "cell_type": "code",
   "execution_count": null,
   "metadata": {
    "collapsed": true
   },
   "outputs": [],
   "source": []
>>>>>>> 50b712866091082f918961e19ada4f7fbd1a41f1
  },
  {
   "cell_type": "markdown",
   "metadata": {},
   "source": [
    "**Part C**: Use the cumulative distribution function $F(x)$ you found in **Part B** to define the probability density function $f(x)$ for the random variable $X$. "
   ]
  },
  {
<<<<<<< HEAD
   "cell_type": "markdown",
   "metadata": {
    "collapsed": true
   },
   "source": [
    "$$\n",
    "f(x) = \\frac{d}{dx} F(x) = \\frac{2 x}{R^2}\n",
    "$$"
   ]
=======
   "cell_type": "code",
   "execution_count": null,
   "metadata": {
    "collapsed": true
   },
   "outputs": [],
   "source": []
>>>>>>> 50b712866091082f918961e19ada4f7fbd1a41f1
  },
  {
   "cell_type": "markdown",
   "metadata": {},
   "source": [
    "**Part D**: Compute the probability that your dart lands within half the radius of the dart board (i.e. $0 \\leq X \\leq \\frac{R}{2}$) as well as the probability that your dart lands outside of half the radius of the dart board (i.e. $\\frac{R}{2} < X \\leq R$.)"
   ]
  },
  {
<<<<<<< HEAD
   "cell_type": "markdown",
   "metadata": {
    "collapsed": true
   },
   "source": [
    "$$\n",
    "P(X \\leq \\frac{R}{2}) = F(\\frac{R}{2}) = \\frac{(\\frac{R}{2})^2}{R^2} = \\frac14 \\\\\n",
    "P(\\frac{R}{2} < X \\leq R) = 1 - F(\\frac{R}{2}) = 1 - \\frac14 = \\frac34\n",
    "$$"
   ]
=======
   "cell_type": "code",
   "execution_count": null,
   "metadata": {
    "collapsed": true
   },
   "outputs": [],
   "source": []
>>>>>>> 50b712866091082f918961e19ada4f7fbd1a41f1
  },
  {
   "cell_type": "markdown",
   "metadata": {},
   "source": [
    "**Part E**: Finally, find the distance away from the center such that $50%$ of all darts will land within this distance.  Or, said another way, find the $50$th percentile of the distribution of $X$.   "
   ]
  },
  {
<<<<<<< HEAD
   "cell_type": "markdown",
   "metadata": {
    "collapsed": true
   },
   "source": [
    "$$\\begin{align}\n",
    "F(x) & = \\frac12 \\\\\n",
    "\\frac{x^2}{R^2} & = \\frac12 \\\\\n",
    "x^2 & = \\frac{R^2}{2} \\\\\n",
    "x & = \\frac{R}{\\sqrt 2}\n",
    "\\end{align}$$"
   ]
=======
   "cell_type": "code",
   "execution_count": null,
   "metadata": {
    "collapsed": true
   },
   "outputs": [],
   "source": []
>>>>>>> 50b712866091082f918961e19ada4f7fbd1a41f1
  },
  {
   "cell_type": "markdown",
   "metadata": {},
   "source": [
    "### Exercise 3 - Sampling the Normal Distribution \n",
    "*** \n",
    "\n",
    "Let's first explore the normal distribution [here](https://academo.org/demos/gaussian-distribution/). Experiment with changing the parameters. What are the effects of:\n",
    "- changing $\\mu$?\n",
    "- changing $\\sigma$?\n",
    "\n",
    "Recall that the PDF of a normal distribution is:\n",
    "\n",
    "$$P(x; \\mu, \\sigma) = \\frac{1}{\\sigma \\sqrt{2 \\pi}} e^{- \\frac{1}{2}\\left(\\frac{x-\\mu}{\\sigma} \\right)^2}$$\n",
    "\n",
    "- Why is it important that $\\sigma$ is in two places in this density function?"
   ]
  },
  {
   "cell_type": "markdown",
   "metadata": {},
   "source": [
    "**Part A**: Write a function pdf_normal that takes in a Numpy array of $x$-values and the parameters $\\mu$ and $\\sigma$ and returns a numpy array representing the density function of the normal distribution evaluated at the specified $x$-values. "
   ]
  },
  {
   "cell_type": "code",
   "execution_count": 4,
   "metadata": {
    "collapsed": true
   },
   "outputs": [],
   "source": [
    "def pdf_normal(x, mu, sig):\n",
<<<<<<< HEAD
    "    arr = []\n",
    "    for i in x:\n",
    "        arr.append(np.exp(-.5*((x-mu)/sig)**2) * 1./(sig*np.sqrt(2*np.pi)))\n",
    "    return arr"
=======
    "    \n",
    "    return "
>>>>>>> 50b712866091082f918961e19ada4f7fbd1a41f1
   ]
  },
  {
   "cell_type": "markdown",
   "metadata": {},
   "source": [
    "**Part B**: We can sample from a normal distribution using Numpy's [random.normal](https://docs.scipy.org/doc/numpy-1.13.0/reference/generated/numpy.random.normal.html#numpy.random.normal) function. Take a look at the docs, then write a function called compare_normal_sample_pdf that draws many samples from a normal distribution with the specified parameters and plots a density histogram of the samples overlaid by a plot of the density function you constructed in **Part A**.  Experiment with the number of samples as well as the histogram bin size.  How good of an approximation is the histogram to the true density function for varying numbers of samples and varying parameters of the normal distribution?  "
   ]
  },
  {
   "cell_type": "code",
<<<<<<< HEAD
   "execution_count": 5,
=======
   "execution_count": null,
>>>>>>> 50b712866091082f918961e19ada4f7fbd1a41f1
   "metadata": {
    "collapsed": true
   },
   "outputs": [],
   "source": [
    "def compare_normal_sample_pdf(mu, sig, num_samples=int(1e3)):\n",
    "    \n",
<<<<<<< HEAD
    "    samples = np.random.normal(mu, sig, num_samples)\n",
    "    \n",
    "    fig, ax = plt.subplots(1, 1, figsize=(12,6))\n",
    "    \n",
    "    bins = np.linspace(0,20,20)\n",
    "    ax.hist(samples, edgecolor='w')\n",
    "    \n",
    "    plt.show()\n",
    "    \n",
=======
>>>>>>> 50b712866091082f918961e19ada4f7fbd1a41f1
    "    return "
   ]
  },
  {
<<<<<<< HEAD
   "cell_type": "code",
   "execution_count": 6,
   "metadata": {},
   "outputs": [
    {
     "data": {
      "image/png": "iVBORw0KGgoAAAANSUhEUgAAAsMAAAFpCAYAAAB54yVXAAAABHNCSVQICAgIfAhkiAAAAAlwSFlz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\nBgBgLDEMAMBYYhgAgLHEMAAAY/1//bsuiL/UXM4AAAAASUVORK5CYII=\n",
      "text/plain": [
       "<matplotlib.figure.Figure at 0x7f8b25b41f98>"
      ]
     },
     "metadata": {},
     "output_type": "display_data"
    }
   ],
   "source": [
    "compare_normal_sample_pdf(10, 3, 100)"
   ]
  },
  {
=======
>>>>>>> 50b712866091082f918961e19ada4f7fbd1a41f1
   "cell_type": "markdown",
   "metadata": {},
   "source": [
    "### Exercise 4 - Sampling the Exponential Distributions \n",
    "*** \n",
    "\n",
    "**Part A**: Write a function pdf_exp that takes as inputs a Numpy array of $x$-values and the rate parameter $\\lambda$ and returns a Numpy array of the exponential distribution density function sampled at the $x$-values. "
   ]
  },
  {
   "cell_type": "code",
   "execution_count": 74,
   "metadata": {
    "collapsed": true
   },
   "outputs": [],
   "source": [
    "def pdf_exp(x, lam):\n",
    "    \n",
    "    return "
   ]
  },
  {
   "cell_type": "markdown",
   "metadata": {},
   "source": [
    "**Part B**: We can sample from an exponential distribution using Numpy's [random.exponential](https://docs.scipy.org/doc/numpy-1.13.0/reference/generated/numpy.random.exponential.html) function. If you read the docs, you'll notice that random.exponential takes as it's input the so-called scale parameter $\\beta$ which is defined to be the inverse of the rate parameter $\\lambda$.  \n",
    "\n",
    "Write a function called compare_exp_sample_pdf that draws many samples from an exponential distribution with the specified parameter and plots a density histogram of the samples overlaid by a plot of the density function you constructed in **Part A**.  Experiment with the number of samples as well as the histogram bin size.  How good of an approximation is the histogram to the true density function for varying numbers of samples and varying parameters of the exponential distribution?  "
   ]
  },
  {
   "cell_type": "code",
   "execution_count": null,
   "metadata": {
    "collapsed": true
   },
   "outputs": [],
   "source": [
    "def compare_exp_sample_pdf(lam, num_samples=int(1e3)):\n",
    "    \n",
    "    return "
   ]
  }
 ],
 "metadata": {
  "kernelspec": {
   "display_name": "Python 3",
   "language": "python",
   "name": "python3"
  },
  "language_info": {
   "codemirror_mode": {
    "name": "ipython",
    "version": 3
   },
   "file_extension": ".py",
   "mimetype": "text/x-python",
   "name": "python",
   "nbconvert_exporter": "python",
   "pygments_lexer": "ipython3",
<<<<<<< HEAD
   "version": "3.6.3"
=======
   "version": "3.6.2"
>>>>>>> 50b712866091082f918961e19ada4f7fbd1a41f1
  }
 },
 "nbformat": 4,
 "nbformat_minor": 2
}
